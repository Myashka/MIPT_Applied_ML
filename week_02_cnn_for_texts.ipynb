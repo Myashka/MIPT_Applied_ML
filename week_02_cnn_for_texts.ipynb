{
 "cells": [
  {
   "cell_type": "markdown",
   "metadata": {
    "id": "13pL--6rycN3"
   },
   "source": [
    "# Practice: Dealing with texts using CNN\n",
    "_Reference: Based on YSDA [materials](https://github.com/yandexdataschool/nlp_course/blob/master/week02_classification/seminar.ipynb). Special thanks to [Oleg Vasilev](https://github.com/Omrigan/) for the core assignment idea._\n",
    "\n",
    "Today we're gonna apply the newly learned tools for the task of predicting job salary.\n",
    "\n",
    "<img src=\"https://storage.googleapis.com/kaggle-competitions/kaggle/3342/media/salary%20prediction%20engine%20v2.png\" width=400px>"
   ]
  },
  {
   "cell_type": "markdown",
   "metadata": {
    "id": "34x92vWQycN_"
   },
   "source": [
    "## About the challenge\n",
    "For starters, let's download and unpack the data.\n",
    "\n",
    "You can also get it from [Yandex.Disk](https://yadi.sk/d/vVEOWPFY3NruT7) or [the competition page](https://www.kaggle.com/c/job-salary-prediction/data) (pick `Train_rev1.*`)."
   ]
  },
  {
   "cell_type": "code",
   "execution_count": 1,
   "metadata": {
    "colab": {
     "base_uri": "https://localhost:8080/"
    },
    "id": "vwN72gd4ycOA",
    "outputId": "0e802d91-32b7-402f-fc4d-bd40dadcb10a"
   },
   "outputs": [
    {
     "name": "stdout",
     "output_type": "stream",
     "text": [
      "  % Total    % Received % Xferd  Average Speed   Time    Time     Time  Current\n",
      "                                 Dload  Upload   Total   Spent    Left  Speed\n",
      "100   145    0   145    0     0    436      0 --:--:-- --:--:-- --:--:--   436\n",
      "100   342  100   342    0     0    475      0 --:--:-- --:--:-- --:--:--   475\n",
      "100  119M  100  119M    0     0  20.3M      0  0:00:05  0:00:05 --:--:-- 30.4M\n"
     ]
    }
   ],
   "source": [
    "!curl -L \"https://www.dropbox.com/s/5msc5ix7ndyba10/Train_rev1.csv.tar.gz?dl=1\" -o Train_rev1.csv.tar.gz\n",
    "!tar xzf Train_rev1.csv.tar.gz"
   ]
  },
  {
   "cell_type": "code",
   "execution_count": 15,
   "metadata": {
    "colab": {
     "base_uri": "https://localhost:8080/"
    },
    "id": "xIjzhbXEpHfT",
    "outputId": "1227e443-9056-434b-e02a-cb2bc68fb550"
   },
   "outputs": [
    {
     "data": {
      "text/plain": [
       "(244768, 12)"
      ]
     },
     "execution_count": 15,
     "metadata": {},
     "output_type": "execute_result"
    }
   ],
   "source": [
    "import pandas as pd\n",
    "\n",
    "\n",
    "data = pd.read_csv(\"Train_rev1.csv\", index_col=None)\n",
    "data.shape"
   ]
  },
  {
   "cell_type": "markdown",
   "metadata": {
    "id": "z7kznuJfycOH"
   },
   "source": [
    "One problem with salary prediction is that it's oddly distributed: there are many people who are paid standard salaries and a few that get tons o money. The distribution is fat-tailed on the right side, which is inconvenient for MSE minimization.\n",
    "\n",
    "There are several techniques to combat this: using a different loss function, predicting log-target instead of raw target or even replacing targets with their percentiles among all salaries in the training set. We gonna use logarithm for now."
   ]
  },
  {
   "cell_type": "code",
   "execution_count": 16,
   "metadata": {
    "colab": {
     "base_uri": "https://localhost:8080/",
     "height": 265
    },
    "id": "UuuKIKfrycOH",
    "outputId": "8837fb06-fc83-42f2-d353-4ab5b002aa76"
   },
   "outputs": [
    {
     "data": {
      "image/png": "[encoded data removed]",
      "text/plain": [
       "<Figure size 576x288 with 2 Axes>"
      ]
     },
     "metadata": {
      "needs_background": "light"
     },
     "output_type": "display_data"
    }
   ],
   "source": [
    "import matplotlib.pyplot as plt\n",
    "import numpy as np\n",
    "\n",
    "\n",
    "data[\"Log1pSalary\"] = np.log1p(data[\"SalaryNormalized\"]).astype(\"float32\")\n",
    "\n",
    "plt.figure(figsize=[8, 4])\n",
    "plt.subplot(1, 2, 1)\n",
    "plt.hist(data[\"SalaryNormalized\"], bins=20)\n",
    "\n",
    "plt.subplot(1, 2, 2)\n",
    "plt.hist(data[\"Log1pSalary\"], bins=20)\n",
    "\n",
    "plt.show()"
   ]
  },
  {
   "cell_type": "markdown",
   "metadata": {
    "id": "Fcu-qmHRycOK"
   },
   "source": [
    "Our task is to predict one number, __Log1pSalary__.\n",
    "\n",
    "To do so, our model can access a number of features:\n",
    "* Free text: __`Title`__ and  __`FullDescription`__\n",
    "* Categorical: __`Category`__, __`Company`__, __`LocationNormalized`__, __`ContractType`__, and __`ContractTime`__."
   ]
  },
  {
   "cell_type": "code",
   "execution_count": 17,
   "metadata": {
    "colab": {
     "base_uri": "https://localhost:8080/",
     "height": 364
    },
    "id": "p9vyA_erycOK",
    "outputId": "0fb6d7e0-2234-43d2-ce1b-3a00c4a65b04"
   },
   "outputs": [
    {
     "data": {
      "text/html": [
       "<div>\n",
       "<style scoped>\n",
       "    .dataframe tbody tr th:only-of-type {\n",
       "        vertical-align: middle;\n",
       "    }\n",
       "\n",
       "    .dataframe tbody tr th {\n",
       "        vertical-align: top;\n",
       "    }\n",
       "\n",
       "    .dataframe thead th {\n",
       "        text-align: right;\n",
       "    }\n",
       "</style>\n",
       "<table border=\"1\" class=\"dataframe\">\n",
       "  <thead>\n",
       "    <tr style=\"text-align: right;\">\n",
       "      <th></th>\n",
       "      <th>Id</th>\n",
       "      <th>Title</th>\n",
       "      <th>FullDescription</th>\n",
       "      <th>LocationRaw</th>\n",
       "      <th>LocationNormalized</th>\n",
       "      <th>ContractType</th>\n",
       "      <th>ContractTime</th>\n",
       "      <th>Company</th>\n",
       "      <th>Category</th>\n",
       "      <th>SalaryRaw</th>\n",
       "      <th>SalaryNormalized</th>\n",
       "      <th>SourceName</th>\n",
       "      <th>Log1pSalary</th>\n",
       "    </tr>\n",
       "  </thead>\n",
       "  <tbody>\n",
       "    <tr>\n",
       "      <th>125885</th>\n",
       "      <td>69994072</td>\n",
       "      <td>Interim HR Manager</td>\n",
       "      <td>Main Accountabilities:  Partner with the local...</td>\n",
       "      <td>Slough, Berkshire Berkshire South East</td>\n",
       "      <td>Slough</td>\n",
       "      <td>NaN</td>\n",
       "      <td>contract</td>\n",
       "      <td>hyphen</td>\n",
       "      <td>HR &amp; Recruitment Jobs</td>\n",
       "      <td>45000 - 55000 per annum</td>\n",
       "      <td>50000</td>\n",
       "      <td>totaljobs.com</td>\n",
       "      <td>10.819798</td>\n",
       "    </tr>\n",
       "    <tr>\n",
       "      <th>184658</th>\n",
       "      <td>71658857</td>\n",
       "      <td>HR Manager  Regional Role</td>\n",
       "      <td>My client a leading a retailer is seeking an e...</td>\n",
       "      <td>North West England, England</td>\n",
       "      <td>North West England</td>\n",
       "      <td>NaN</td>\n",
       "      <td>NaN</td>\n",
       "      <td>Oakleaf Partnership</td>\n",
       "      <td>HR &amp; Recruitment Jobs</td>\n",
       "      <td>40000 - 45000 per annum + Benefits + car allow...</td>\n",
       "      <td>42500</td>\n",
       "      <td>Personneltoday Jobs</td>\n",
       "      <td>10.657283</td>\n",
       "    </tr>\n",
       "    <tr>\n",
       "      <th>68287</th>\n",
       "      <td>68783693</td>\n",
       "      <td>GRADUATE SALES EXECUTIVE / GRADUATE SALES TRAINEE</td>\n",
       "      <td>GRADUATE SALES EXECUTIVE / GRADUATE SALES TRAI...</td>\n",
       "      <td>Warrington, Cheshire Cheshire North West</td>\n",
       "      <td>Warrington</td>\n",
       "      <td>NaN</td>\n",
       "      <td>NaN</td>\n",
       "      <td>BMS Sales Specialists LLP</td>\n",
       "      <td>Sales Jobs</td>\n",
       "      <td>22000 per annum + bonus, mobile, benefits</td>\n",
       "      <td>22000</td>\n",
       "      <td>salestarget.co.uk</td>\n",
       "      <td>9.998843</td>\n",
       "    </tr>\n",
       "  </tbody>\n",
       "</table>\n",
       "</div>"
      ],
      "text/plain": [
       "              Id                                              Title  \\\n",
       "125885  69994072                                 Interim HR Manager   \n",
       "184658  71658857                          HR Manager  Regional Role   \n",
       "68287   68783693  GRADUATE SALES EXECUTIVE / GRADUATE SALES TRAINEE   \n",
       "\n",
       "                                          FullDescription  \\\n",
       "125885  Main Accountabilities:  Partner with the local...   \n",
       "184658  My client a leading a retailer is seeking an e...   \n",
       "68287   GRADUATE SALES EXECUTIVE / GRADUATE SALES TRAI...   \n",
       "\n",
       "                                     LocationRaw  LocationNormalized  \\\n",
       "125885    Slough, Berkshire Berkshire South East              Slough   \n",
       "184658               North West England, England  North West England   \n",
       "68287   Warrington, Cheshire Cheshire North West          Warrington   \n",
       "\n",
       "       ContractType ContractTime                    Company  \\\n",
       "125885          NaN     contract                     hyphen   \n",
       "184658          NaN          NaN        Oakleaf Partnership   \n",
       "68287           NaN          NaN  BMS Sales Specialists LLP   \n",
       "\n",
       "                     Category  \\\n",
       "125885  HR & Recruitment Jobs   \n",
       "184658  HR & Recruitment Jobs   \n",
       "68287              Sales Jobs   \n",
       "\n",
       "                                                SalaryRaw  SalaryNormalized  \\\n",
       "125885                            45000 - 55000 per annum             50000   \n",
       "184658  40000 - 45000 per annum + Benefits + car allow...             42500   \n",
       "68287           22000 per annum + bonus, mobile, benefits             22000   \n",
       "\n",
       "                 SourceName  Log1pSalary  \n",
       "125885        totaljobs.com    10.819798  \n",
       "184658  Personneltoday Jobs    10.657283  \n",
       "68287     salestarget.co.uk     9.998843  "
      ]
     },
     "execution_count": 17,
     "metadata": {},
     "output_type": "execute_result"
    }
   ],
   "source": [
    "text_columns = [\"Title\", \"FullDescription\"]\n",
    "categorical_columns = [\"Category\", \"Company\", \"LocationNormalized\", \"ContractType\", \"ContractTime\"]\n",
    "target_column = \"Log1pSalary\"\n",
    "\n",
    "data[categorical_columns] = data[categorical_columns].fillna(\"NaN\")\n",
    "data[text_columns] = data[text_columns].fillna(\"NaN\")\n",
    "\n",
    "data.sample(3)"
   ]
  },
  {
   "cell_type": "markdown",
   "metadata": {
    "id": "IUdclucmycON"
   },
   "source": [
    "## Preprocessing text data\n",
    "\n",
    "Just like last week, applying NLP to a problem begins from tokenization: splitting raw text into sequences of tokens (words, punctuation, etc).\n",
    "\n",
    "__Your task__ is to lowercase and tokenize all texts under `Title` and `FullDescription` columns. Store the tokenized data as a __space-separated__ string of tokens for performance reasons.\n",
    "\n",
    "It's okay to use nltk tokenizers. Assertions were designed for WordPunctTokenizer, slight deviations are okay."
   ]
  },
  {
   "cell_type": "code",
   "execution_count": 18,
   "metadata": {
    "colab": {
     "base_uri": "https://localhost:8080/"
    },
    "id": "YzeOxD_aycOO",
    "outputId": "cd28cfd1-7c78-4d01-e8de-47a329da0a6e"
   },
   "outputs": [
    {
     "name": "stdout",
     "output_type": "stream",
     "text": [
      "Raw text:\n",
      "2         Mathematical Modeller / Simulation Analyst / O...\n",
      "100002    A successful and high achieving specialist sch...\n",
      "200002    Web Designer  HTML, CSS, JavaScript, Photoshop...\n",
      "Name: FullDescription, dtype: object\n"
     ]
    }
   ],
   "source": [
    "print(\"Raw text:\")\n",
    "print(data[\"FullDescription\"][2::100000])"
   ]
  },
  {
   "cell_type": "code",
   "execution_count": 19,
   "metadata": {
    "id": "RUWkpd7PycOQ"
   },
   "outputs": [],
   "source": [
    "from nltk.tokenize import WordPunctTokenizer\n",
    "\n",
    "\n",
    "tokenizer = WordPunctTokenizer()\n",
    "\n",
    "def normalize(text):\n",
    "    tokens = tokenizer.tokenize(text.lower())\n",
    "    return ' '.join(tokens)\n",
    "# Lowercase and tokenize titles and descriptions (text_columns).\n",
    "# Store items as space-separated strings of tokens.\n",
    "data[text_columns] = data[text_columns].applymap(normalize)"
   ]
  },
  {
   "cell_type": "code",
   "execution_count": 20,
   "metadata": {
    "colab": {
     "base_uri": "https://localhost:8080/"
    },
    "id": "Gs-6lnS_ycOU",
    "outputId": "3f85acf0-44aa-4ae4-b593-92f78d607592"
   },
   "outputs": [
    {
     "name": "stdout",
     "output_type": "stream",
     "text": [
      "Tokenized:\n",
      "2         mathematical modeller / simulation analyst / o...\n",
      "100002    a successful and high achieving specialist sch...\n",
      "200002    web designer html , css , javascript , photosh...\n",
      "Name: FullDescription, dtype: object\n"
     ]
    }
   ],
   "source": [
    "print(\"Tokenized:\")\n",
    "print(data[\"FullDescription\"][2::100000])\n",
    "assert data[\"FullDescription\"][2][:50] == \"mathematical modeller / simulation analyst / opera\"\n",
    "assert data[\"Title\"][54321] == \"international digital account manager ( german )\""
   ]
  },
  {
   "cell_type": "markdown",
   "metadata": {
    "id": "ouE3L2hyycOX"
   },
   "source": [
    "Not all words are equally useful. Some of them are typos or rare words that are only present a few times. \n",
    "\n",
    "Let's count how many times is each word present in the data so that we can build a \"white list\" of known words."
   ]
  },
  {
   "cell_type": "code",
   "execution_count": 21,
   "metadata": {
    "id": "iC7hBwwjycOX"
   },
   "outputs": [],
   "source": [
    "from collections import Counter\n",
    "from tqdm.auto import tqdm\n",
    "\n",
    "\n",
    "\n",
    "# Count how many times does each token occur in both \"Title\" and \"FullDescription\".\n",
    "# Build a dictionary { token -> count }.\n",
    "# Hint: you may or may not want to use collections.Counter\n",
    "token_counts = Counter()\n",
    "for row in data[text_columns].values.flatten():\n",
    "    token_counts.update(row.split(' '))"
   ]
  },
  {
   "cell_type": "code",
   "execution_count": 22,
   "metadata": {
    "colab": {
     "base_uri": "https://localhost:8080/"
    },
    "id": "GiOWbc15ycOb",
    "outputId": "e5acee26-a871-4868-861a-8675fcf9e055"
   },
   "outputs": [
    {
     "name": "stdout",
     "output_type": "stream",
     "text": [
      "Total unique tokens : 202704\n",
      "('and', 2657388)\n",
      "('.', 2523216)\n",
      "(',', 2318606)\n",
      "('the', 2080994)\n",
      "('to', 2019884)\n",
      "...\n",
      "('stephanietraveltraderecruitmnt', 1)\n",
      "('ruabon', 1)\n",
      "('lowehays', 1)\n",
      "Correct!\n"
     ]
    }
   ],
   "source": [
    "print(\"Total unique tokens :\", len(token_counts))\n",
    "print(\"\\n\".join(map(str, token_counts.most_common(n=5))))\n",
    "print(\"...\")\n",
    "print(\"\\n\".join(map(str, token_counts.most_common()[-3:])))\n",
    "\n",
    "assert token_counts.most_common(1)[0][1] in range(2600000, 2700000)\n",
    "assert len(token_counts) in range(200000, 210000)\n",
    "print(\"Correct!\")"
   ]
  },
  {
   "cell_type": "markdown",
   "metadata": {
    "id": "W2ih1LV4YhtL"
   },
   "source": [
    "Let's see how many words are there for each count."
   ]
  },
  {
   "cell_type": "code",
   "execution_count": 23,
   "metadata": {
    "colab": {
     "base_uri": "https://localhost:8080/",
     "height": 279
    },
    "id": "nd5v3BNfycOf",
    "outputId": "ffeb9998-f983-4d0d-fb8b-2d58f5f88ded"
   },
   "outputs": [
    {
     "data": {
      "image/png": "[encoded data removed]",
      "text/plain": [
       "<Figure size 432x288 with 1 Axes>"
      ]
     },
     "metadata": {
      "needs_background": "light"
     },
     "output_type": "display_data"
    }
   ],
   "source": [
    "plt.hist(list(token_counts.values()), range=[0, 10 ** 4], bins=50, log=True)\n",
    "plt.xlabel(\"Word counts\")\n",
    "plt.show()"
   ]
  },
  {
   "cell_type": "markdown",
   "metadata": {
    "id": "znuXxeghycOh"
   },
   "source": [
    "Now we will filter tokens a list of all tokens that occur at least 10 times."
   ]
  },
  {
   "cell_type": "code",
   "execution_count": 24,
   "metadata": {
    "id": "SeNFBWx5ycOh"
   },
   "outputs": [],
   "source": [
    "min_count = 10\n",
    "\n",
    "# We shall only consider tokens that had at least min_count occurences.\n",
    "# Create a list of such tokens.\n",
    "tokens = [token for token, counts in token_counts.items() if counts >= min_count]"
   ]
  },
  {
   "cell_type": "code",
   "execution_count": 25,
   "metadata": {
    "colab": {
     "base_uri": "https://localhost:8080/"
    },
    "id": "j62zdZXw4Lqe",
    "outputId": "6664ab5f-7efe-44be-c2b3-ada9e5187ac7"
   },
   "outputs": [
    {
     "data": {
      "text/plain": [
       "34156"
      ]
     },
     "execution_count": 25,
     "metadata": {},
     "output_type": "execute_result"
    }
   ],
   "source": [
    "len(tokens)"
   ]
  },
  {
   "cell_type": "code",
   "execution_count": 26,
   "metadata": {
    "id": "RATIRyPKycOk",
    "outputId": "c497897c-0fbe-42e1-a83c-5bec4d8e9856"
   },
   "outputs": [
    {
     "name": "stdout",
     "output_type": "stream",
     "text": [
      "Vocabulary size: 34158\n",
      "Correct!\n"
     ]
    }
   ],
   "source": [
    "# Add a special tokens for unknown and empty words\n",
    "UNK, PAD = \"UNK\", \"PAD\"\n",
    "tokens = [UNK, PAD] + sorted(tokens)\n",
    "print(\"Vocabulary size:\", len(tokens))\n",
    "\n",
    "assert type(tokens) == list\n",
    "assert len(tokens) in range(32000, 35000)\n",
    "assert \"me\" in tokens\n",
    "assert UNK in tokens\n",
    "print(\"Correct!\")"
   ]
  },
  {
   "cell_type": "markdown",
   "metadata": {
    "id": "cqEsgbjZycOo"
   },
   "source": [
    "Build an inverse token index: a dictionary from token to it's index in `tokens`."
   ]
  },
  {
   "cell_type": "code",
   "execution_count": 27,
   "metadata": {
    "id": "L60lo1l_ycOq"
   },
   "outputs": [],
   "source": [
    "# YOUR CODE HERE\n",
    "token_to_idx = {token: idx for idx, token in enumerate(tokens)}"
   ]
  },
  {
   "cell_type": "code",
   "execution_count": 28,
   "metadata": {
    "id": "DeAoVo4mycOr",
    "outputId": "e6af3e99-a933-4354-d8fb-0464bee19f38"
   },
   "outputs": [
    {
     "name": "stdout",
     "output_type": "stream",
     "text": [
      "Correct!\n"
     ]
    }
   ],
   "source": [
    "assert isinstance(token_to_idx, dict)\n",
    "assert len(token_to_idx) == len(tokens)\n",
    "for tok in tokens:\n",
    "    assert tokens[token_to_idx[tok]] == tok\n",
    "\n",
    "print(\"Correct!\")"
   ]
  },
  {
   "cell_type": "markdown",
   "metadata": {
    "id": "cmJAkq3gycOv"
   },
   "source": [
    "And finally, let's use the vocabulary you've built to map text lines into neural network-digestible matrices."
   ]
  },
  {
   "cell_type": "code",
   "execution_count": 29,
   "metadata": {
    "id": "JEsLeBjVycOw"
   },
   "outputs": [],
   "source": [
    "UNK_IDX = token_to_idx[UNK]\n",
    "PAD_IDX = token_to_idx[PAD]\n",
    "\n",
    "\n",
    "def as_matrix(sequences, max_len=None):\n",
    "    \"\"\"Convert a list of tokens into a matrix with padding\"\"\"\n",
    "    if isinstance(sequences[0], str):\n",
    "        sequences = [seq.split(\" \") for seq in sequences]\n",
    "\n",
    "    sequences_max_len = max(len(seq) for seq in sequences)\n",
    "    if max_len is None:\n",
    "        max_len = sequences_max_len\n",
    "    else:\n",
    "        max_len = min(sequences_max_len, max_len)\n",
    "\n",
    "    matrix = np.full((len(sequences), max_len), PAD_IDX)\n",
    "    for i, seq in enumerate(sequences):\n",
    "        for j, token in enumerate(seq):\n",
    "            if j >= max_len:\n",
    "                break\n",
    "\n",
    "            matrix[i, j] = token_to_idx.get(token, UNK_IDX)\n",
    "\n",
    "    return matrix"
   ]
  },
  {
   "cell_type": "code",
   "execution_count": 30,
   "metadata": {
    "id": "JiBlPkdKycOy",
    "outputId": "6b8f8bf2-ab3b-4ba1-8f3b-349a7d7b5605"
   },
   "outputs": [
    {
     "name": "stdout",
     "output_type": "stream",
     "text": [
      "Lines:\n",
      "engineering systems analyst\n",
      "hr assistant\n",
      "senior ec & i engineer\n",
      "\n",
      "Matrix:\n",
      "[[10807 30161  2166     1     1]\n",
      " [15020  2844     1     1     1]\n",
      " [27645 10201    16 15215 10804]]\n"
     ]
    }
   ],
   "source": [
    "print(\"Lines:\")\n",
    "print(\"\\n\".join(data[\"Title\"][::100000].values), end=\"\\n\\n\")\n",
    "print(\"Matrix:\")\n",
    "print(as_matrix(data[\"Title\"][::100000]))"
   ]
  },
  {
   "cell_type": "markdown",
   "metadata": {
    "id": "nGOdZ3-dycO4"
   },
   "source": [
    "Now let's  encode the categirical data we have.\n",
    "\n",
    "As usual, we shall use one-hot encoding for simplicity. Kudos if you implement more advanced encodings: tf-idf, pseudo-time-series, etc."
   ]
  },
  {
   "cell_type": "code",
   "execution_count": 31,
   "metadata": {
    "id": "pg12nLQijNJg"
   },
   "outputs": [],
   "source": [
    "from sklearn.feature_extraction import DictVectorizer\n",
    "\n",
    "\n",
    "# We only consider top-1k most frequent companies to minimize memory usage\n",
    "company_counts = Counter(data[\"Company\"])\n",
    "top_companies = set(name for name, count in company_counts.most_common(1000))\n",
    "data[\"Company\"] = data[\"Company\"].apply(\n",
    "    lambda company: company if company in top_companies else \"Other\"\n",
    ")\n",
    "\n",
    "categorical_vectorizer = DictVectorizer(dtype=np.float32, sparse=False)\n",
    "categorical_vectorizer.fit(data[categorical_columns].apply(dict, axis=1));"
   ]
  },
  {
   "cell_type": "markdown",
   "metadata": {
    "id": "yk4jmtAYycO8"
   },
   "source": [
    "## The deep learning part\n",
    "\n",
    "Once we've learned to tokenize the data, let's design a machine learning experiment.\n",
    "\n",
    "As before, we won't focus too much on validation, opting for a simple train-test split.\n",
    "\n",
    "__To be completely rigorous,__ we've comitted a small crime here: we used the whole data for tokenization and vocabulary building. A more strict way would be to do that part on training set only. You may want to do that and measure the magnitude of changes."
   ]
  },
  {
   "cell_type": "code",
   "execution_count": 32,
   "metadata": {
    "id": "TngLcWA0ycO_",
    "outputId": "ab393a5b-97b2-4de0-97ac-bdd0980f2343"
   },
   "outputs": [
    {
     "name": "stdout",
     "output_type": "stream",
     "text": [
      "Train size =  195814\n",
      "Validation size =  48954\n"
     ]
    }
   ],
   "source": [
    "from sklearn.model_selection import train_test_split\n",
    "\n",
    "\n",
    "data_train, data_val = train_test_split(data, test_size=0.2, random_state=42)\n",
    "data_train.index = range(len(data_train))\n",
    "data_val.index = range(len(data_val))\n",
    "\n",
    "print(\"Train size = \", len(data_train))\n",
    "print(\"Validation size = \", len(data_val))"
   ]
  },
  {
   "cell_type": "code",
   "execution_count": 33,
   "metadata": {
    "id": "2PXuKgOSycPB"
   },
   "outputs": [],
   "source": [
    "def make_batch(data, max_len=None, word_dropout=0):\n",
    "    \"\"\"\n",
    "    Creates a neural-network-friendly dict from the batch data.\n",
    "    :param word_dropout: replaces token index with UNK_IDX with this probability\n",
    "    :returns: a dict with {'title' : int64[batch, title_max_len]\n",
    "    \"\"\"\n",
    "    batch = {}\n",
    "    batch[\"Title\"] = as_matrix(data[\"Title\"].values, max_len)\n",
    "    batch[\"FullDescription\"] = as_matrix(data[\"FullDescription\"].values, max_len)\n",
    "    batch[\"Categorical\"] = categorical_vectorizer.transform(\n",
    "        data[categorical_columns].apply(dict, axis=1)\n",
    "    )\n",
    "\n",
    "    if word_dropout != 0:\n",
    "        batch[\"FullDescription\"] = apply_word_dropout(batch[\"FullDescription\"], 1.0 - word_dropout)\n",
    "\n",
    "    if target_column in data.columns:\n",
    "        batch[target_column] = data[target_column].values\n",
    "\n",
    "    return batch\n",
    "\n",
    "\n",
    "def apply_word_dropout(matrix, keep_prob, replace_with=UNK_IDX):\n",
    "    dropout_mask = np.random.choice(2, np.shape(matrix), p=[keep_prob, 1 - keep_prob])\n",
    "    dropout_mask &= matrix != PAD_IDX\n",
    "    return np.choose(dropout_mask, [matrix, np.full_like(matrix, replace_with)])"
   ]
  },
  {
   "cell_type": "code",
   "execution_count": 34,
   "metadata": {
    "id": "I6LpEQf0ycPD",
    "outputId": "0bf066fd-7201-4136-d6a7-59e6747ce6b6"
   },
   "outputs": [
    {
     "name": "stdout",
     "output_type": "stream",
     "text": [
      "Example batch:\n",
      "{'Title': array([[27645, 29893, 33674,     1,     1,     1,     1],\n",
      "       [29239,   197, 19175, 20042, 15554, 23162,  4051],\n",
      "       [10609, 30412, 17746,    33,  8705, 29157,    65]]), 'FullDescription': array([[27645, 29893, 33674, 32939,   982, 27645, 29893, 33674, 16451,\n",
      "        32939],\n",
      "       [29239,   197, 19175, 20042, 15554, 23162,  4051, 25511,   907,\n",
      "           82],\n",
      "       [30746, 21956, 20601,  6409, 16451,  8165, 27493,   982, 30412,\n",
      "        17746]]), 'Categorical': array([[0., 0., 0., ..., 0., 0., 0.],\n",
      "       [0., 0., 0., ..., 0., 0., 0.],\n",
      "       [0., 0., 0., ..., 0., 0., 0.]], dtype=float32), 'Log1pSalary': array([ 9.71154 , 10.463132, 10.71444 ], dtype=float32)}\n",
      "FullDescription shape: (3, 10)\n"
     ]
    }
   ],
   "source": [
    "example_batch = make_batch(data_train[:3], max_len=10)\n",
    "print(\"Example batch:\")\n",
    "print(example_batch)\n",
    "print(\"FullDescription shape:\", example_batch[\"FullDescription\"].shape)"
   ]
  },
  {
   "cell_type": "code",
   "execution_count": 35,
   "metadata": {
    "id": "nBfN182zpHfd"
   },
   "outputs": [],
   "source": [
    "def iterate_minibatches(data, batch_size=256, shuffle=True, cycle=False, **kwargs):\n",
    "    \"\"\"iterates minibatches of data in random order\"\"\"\n",
    "    while True:\n",
    "        indices = np.arange(len(data))\n",
    "        if shuffle:\n",
    "            indices = np.random.permutation(indices)\n",
    "\n",
    "        for start in range(0, len(indices), batch_size):\n",
    "            batch = make_batch(data.iloc[indices[start : start + batch_size]], **kwargs)\n",
    "            target = batch.pop(target_column)\n",
    "            yield batch, target\n",
    "\n",
    "        if not cycle:\n",
    "            break"
   ]
  },
  {
   "cell_type": "markdown",
   "metadata": {
    "id": "iQAQPx3-pHfd"
   },
   "source": [
    "To generate minibatches we will use simple pyton generator."
   ]
  },
  {
   "cell_type": "code",
   "execution_count": 36,
   "metadata": {
    "id": "fCeb-W9EodjZ"
   },
   "outputs": [],
   "source": [
    "iterator = iterate_minibatches(data_train, 3)\n",
    "batch, target = next(iterator)"
   ]
  },
  {
   "cell_type": "markdown",
   "metadata": {
    "id": "0eI5h9UMycPF"
   },
   "source": [
    "## Architecture\n",
    "\n",
    "Our main model consists of three branches:\n",
    "* Title encoder\n",
    "* Description encoder\n",
    "* Categorical features encoder\n",
    "\n",
    "We will then feed all 3 branches into one common network that predicts salary.\n",
    "\n",
    "<img src=\"https://github.com/yandexdataschool/nlp_course/raw/master/resources/w2_conv_arch.png\" width=600px>\n",
    "\n",
    "This clearly doesn't fit into PyTorch __Sequential__ interface. To build such a network, one will have to use [__PyTorch nn.Module API__](https://pytorch.org/docs/stable/nn.html#torch.nn.Module)."
   ]
  },
  {
   "cell_type": "markdown",
   "metadata": {
    "id": "SbhrCEl1pHfc"
   },
   "source": [
    "But to start with let's build the simple model using only the part of the data. Let's create the baseline solution using only the description part (so it should definetely fit into the Sequential model)."
   ]
  },
  {
   "cell_type": "code",
   "execution_count": 40,
   "metadata": {
    "id": "_0Ez0xZb4Lqj"
   },
   "outputs": [],
   "source": [
    "import torch"
   ]
  },
  {
   "cell_type": "code",
   "execution_count": 41,
   "metadata": {
    "id": "2jjPFvWZpHfc"
   },
   "outputs": [],
   "source": [
    "import torch.nn as nn\n",
    "\n",
    "class Flatten(nn.Module):\n",
    "    def forward(self, input):\n",
    "        return input.view(input.size(0), -1)\n",
    "\n",
    "# Initially, our FullDescription has a shape [batch_size, seq_len].\n",
    "# After an Embedding layer shape will be [batch_size, seq_len, embedding_size].\n",
    "# However, Conv1d layer expects batches of shape [batch_size, embedding_size, seq_len].\n",
    "# We will use this layer to fix this misunderstanding.\n",
    "class Reorder(nn.Module):\n",
    "    def forward(self, input):\n",
    "        return input.permute((0, 2, 1))"
   ]
  },
  {
   "cell_type": "code",
   "execution_count": 42,
   "metadata": {
    "id": "6LPx2UKepHfd"
   },
   "outputs": [],
   "source": [
    "n_tokens = len(token_to_idx)\n",
    "n_cat_features = len(categorical_vectorizer.vocabulary_)\n",
    "hid_size = 64\n",
    "n_maximums = 2\n",
    "\n",
    "simple_model = nn.Sequential(\n",
    "    nn.Embedding(num_embeddings=n_tokens, embedding_dim=hid_size),\n",
    "    Reorder(),\n",
    "    \n",
    "    nn.Conv1d(in_channels=hid_size,\n",
    "              out_channels=2*hid_size,\n",
    "              kernel_size=3),\n",
    "    nn.ReLU(),\n",
    "    \n",
    "    nn.Conv1d(in_channels=2*hid_size,\n",
    "              out_channels=2*hid_size,\n",
    "              kernel_size=3),\n",
    "    nn.ReLU(),\n",
    "    \n",
    "    nn.BatchNorm1d(hid_size*2),\n",
    "    \n",
    "    nn.AdaptiveMaxPool1d(n_maximums),\n",
    "    nn.Flatten(),\n",
    "    nn.Linear(hid_size*2 * n_maximums, 1)\n",
    ")"
   ]
  },
  {
   "cell_type": "markdown",
   "metadata": {
    "id": "WYU3d7Ci4Lqj"
   },
   "source": [
    "##### Debug start"
   ]
  },
  {
   "cell_type": "code",
   "execution_count": 43,
   "metadata": {
    "id": "PiywkZNJ4Lqj"
   },
   "outputs": [],
   "source": [
    "example_emb = nn.Embedding(num_embeddings=n_tokens, embedding_dim=hid_size)"
   ]
  },
  {
   "cell_type": "code",
   "execution_count": 44,
   "metadata": {
    "id": "tbHrDMlw4Lqk",
    "outputId": "a0b54e93-bdd7-44ab-de0f-e93d7b306d39"
   },
   "outputs": [
    {
     "data": {
      "text/plain": [
       "(3, 362)"
      ]
     },
     "execution_count": 44,
     "metadata": {},
     "output_type": "execute_result"
    }
   ],
   "source": [
    "batch['FullDescription'].shape"
   ]
  },
  {
   "cell_type": "code",
   "execution_count": null,
   "metadata": {
    "id": "Fc5jPZlz4Lqk"
   },
   "outputs": [],
   "source": [
    "b = simple_model(torch.tensor(batch['FullDescription'], dtype=torch.long))"
   ]
  },
  {
   "cell_type": "code",
   "execution_count": null,
   "metadata": {
    "id": "Oly5HsRY4Lqk",
    "outputId": "87ec357d-4eba-4c82-849f-e13cc3b9651e"
   },
   "outputs": [
    {
     "data": {
      "text/plain": [
       "torch.Size([3, 1])"
      ]
     },
     "execution_count": 143,
     "metadata": {},
     "output_type": "execute_result"
    }
   ],
   "source": [
    "b.shape"
   ]
  },
  {
   "cell_type": "markdown",
   "metadata": {
    "id": "m2smsO3d4Lqk"
   },
   "source": [
    "##### Degub end"
   ]
  },
  {
   "cell_type": "markdown",
   "metadata": {
    "id": "uMu66aNSpHfd"
   },
   "source": [
    "__Remember!__ We are working with regression problem and predicting only one number."
   ]
  },
  {
   "cell_type": "code",
   "execution_count": null,
   "metadata": {
    "id": "CerptbpcpHfd",
    "outputId": "af2f38b5-010e-4425-8a2f-88904f2c2309"
   },
   "outputs": [
    {
     "data": {
      "text/plain": [
       "tensor([[-1.6327],\n",
       "        [-0.2792],\n",
       "        [ 2.8286]], grad_fn=<AddmmBackward0>)"
      ]
     },
     "execution_count": 26,
     "metadata": {},
     "output_type": "execute_result"
    }
   ],
   "source": [
    "# Check your model. `torch.long` tensors are required for nn.Embedding layers.\n",
    "simple_model(torch.tensor(batch[\"FullDescription\"], dtype=torch.long))"
   ]
  },
  {
   "cell_type": "code",
   "execution_count": 26,
   "metadata": {
    "id": "1G-n-458pHfd"
   },
   "outputs": [],
   "source": [
    "device = torch.device(\"cuda\" if torch.cuda.is_available() else \"cpu\")"
   ]
  },
  {
   "cell_type": "markdown",
   "metadata": {
    "id": "8hUa3gBepHfd"
   },
   "source": [
    "And now simple training pipeline:"
   ]
  },
  {
   "cell_type": "code",
   "execution_count": 17,
   "metadata": {
    "id": "efIqs2iL4i0a"
   },
   "outputs": [],
   "source": [
    "from IPython.display import clear_output"
   ]
  },
  {
   "cell_type": "code",
   "execution_count": null,
   "metadata": {
    "id": "tKiy4otdpHfd",
    "outputId": "d556c3b3-98bd-45ed-8cb6-20fd659a6a08"
   },
   "outputs": [
    {
     "data": {
      "image/png": "[encoded data removed]",
      "text/plain": [
       "<Figure size 432x288 with 1 Axes>"
      ]
     },
     "metadata": {
      "needs_background": "light"
     },
     "output_type": "display_data"
    }
   ],
   "source": [
    "from IPython.display import clear_output\n",
    "\n",
    "\n",
    "epochs = 1\n",
    "model = simple_model\n",
    "model.to(device)\n",
    "opt = torch.optim.Adam(model.parameters())\n",
    "criterion = nn.MSELoss().to(device)\n",
    "\n",
    "history = []\n",
    "for epoch in range(epochs):\n",
    "    for batch, target in iterate_minibatches(data_train):\n",
    "        # Preprocessing the batch data and target\n",
    "        batch = torch.tensor(batch[\"FullDescription\"], dtype=torch.long, device=device)\n",
    "        target = torch.tensor(target, device=device)\n",
    "\n",
    "        predictions = model(batch)\n",
    "        predictions = predictions.flatten()\n",
    "\n",
    "        opt.zero_grad()\n",
    "        # Compute loss.\n",
    "\n",
    "        loss = criterion(predictions, target)\n",
    "        \n",
    "        loss.backward()\n",
    "        opt.step()\n",
    "        # Train with backprop.\n",
    "\n",
    "        history.append(loss.item())\n",
    "        if len(history) % 10 == 0:\n",
    "            clear_output(wait=True)\n",
    "            plt.plot(history, label=\"loss\")\n",
    "            plt.yscale('log')\n",
    "            plt.legend()\n",
    "            plt.show()"
   ]
  },
  {
   "cell_type": "markdown",
   "metadata": {
    "id": "eOXdOBCnpHfe"
   },
   "source": [
    "To evaluate the model we can switch it to `eval` state. Let's check the model quality."
   ]
  },
  {
   "cell_type": "code",
   "execution_count": 18,
   "metadata": {
    "id": "FVCKX0MJ4Lql"
   },
   "outputs": [],
   "source": [
    "from tqdm.auto import tqdm"
   ]
  },
  {
   "cell_type": "code",
   "execution_count": null,
   "metadata": {
    "colab": {
     "referenced_widgets": [
      "ec8af72fd11547599bb640ac661c7ee8",
      "5bffe7c135594b3f9aadeaaad0df9f87"
     ]
    },
    "id": "eaiQRrfCpHfe",
    "outputId": "a1f9eb76-4c5d-422d-f7cd-83218ba8eefb"
   },
   "outputs": [
    {
     "data": {
      "application/vnd.jupyter.widget-view+json": {
       "model_id": "ec8af72fd11547599bb640ac661c7ee8",
       "version_major": 2,
       "version_minor": 0
      },
      "text/plain": [
       "0it [00:00, ?it/s]"
      ]
     },
     "metadata": {},
     "output_type": "display_data"
    },
    {
     "name": "stdout",
     "output_type": "stream",
     "text": [
      "Train:\n",
      "MSE: 373421321.47838\n",
      "MAE: 13119.37163\n"
     ]
    },
    {
     "data": {
      "application/vnd.jupyter.widget-view+json": {
       "model_id": "5bffe7c135594b3f9aadeaaad0df9f87",
       "version_major": 2,
       "version_minor": 0
      },
      "text/plain": [
       "0it [00:00, ?it/s]"
      ]
     },
     "metadata": {},
     "output_type": "display_data"
    },
    {
     "name": "stdout",
     "output_type": "stream",
     "text": [
      "Val:\n",
      "MSE: 384519130.68301\n",
      "MAE: 13219.02248\n"
     ]
    }
   ],
   "source": [
    "@torch.no_grad()\n",
    "def evaluate_model(model, data, batch_size=256, name=None, **kwargs):\n",
    "    squared_error = abs_error = num_samples = 0.0\n",
    "    data_iterator = iterate_minibatches(data, batch_size, shuffle=False, **kwargs)\n",
    "    for batch, target in tqdm(data_iterator):\n",
    "        batch = torch.tensor(batch[\"FullDescription\"], dtype=torch.long, device=device)\n",
    "        pred = model(batch)[:, 0].cpu().numpy()\n",
    "\n",
    "        squared_error += np.sum(np.square(np.exp(pred) - np.exp(target)))\n",
    "        abs_error += np.sum(np.abs(np.exp(pred) - np.exp(target)))\n",
    "        num_samples += len(target)\n",
    "\n",
    "    if name is not None:\n",
    "        print(f\"{name}:\")\n",
    "\n",
    "    print(f\"MSE: {squared_error / num_samples:.5f}\")\n",
    "    print(f\"MAE: {abs_error / num_samples:.5f}\")\n",
    "    \n",
    "    return squared_error / num_samples, abs_error / num_samples\n",
    "\n",
    "\n",
    "train_errors = evaluate_model(simple_model, data_train, name=\"Train\")\n",
    "test_errors = evaluate_model(simple_model, data_val, name=\"Val\")"
   ]
  },
  {
   "cell_type": "code",
   "execution_count": null,
   "metadata": {
    "id": "yBlasvvu4Lqm",
    "outputId": "2c037ff4-e737-4224-acc1-76d293f7f272"
   },
   "outputs": [
    {
     "data": {
      "text/plain": [
       "19609.159356867138"
      ]
     },
     "execution_count": 40,
     "metadata": {},
     "output_type": "execute_result"
    }
   ],
   "source": [
    "np.sqrt(384519130.68301)"
   ]
  },
  {
   "cell_type": "markdown",
   "metadata": {
    "id": "hUUchHCnpHfe"
   },
   "source": [
    "### Bonus area 1: three-headed network.\n",
    "\n",
    "Now you can try to implement the network we've discussed above. Use [__PyTorch nn.Module API__](https://pytorch.org/docs/stable/nn.html#torch.nn.Module)."
   ]
  },
  {
   "cell_type": "code",
   "execution_count": null,
   "metadata": {
    "id": "LrSrdSe_4Lqm"
   },
   "outputs": [],
   "source": [
    "iterator = iterate_minibatches(data_train, 3)\n",
    "batch, target = next(iterator)"
   ]
  },
  {
   "cell_type": "code",
   "execution_count": null,
   "metadata": {
    "id": "i2NcHN554Lqm",
    "outputId": "97dcfeef-2204-48fc-e569-181c886983da"
   },
   "outputs": [
    {
     "data": {
      "text/plain": [
       "array([10.846966,  9.947122, 11.248973], dtype=float32)"
      ]
     },
     "execution_count": 46,
     "metadata": {},
     "output_type": "execute_result"
    }
   ],
   "source": [
    "target"
   ]
  },
  {
   "cell_type": "code",
   "execution_count": 19,
   "metadata": {
    "id": "SOG-2OK2pHfe"
   },
   "outputs": [],
   "source": [
    "class ThreeInputsNet(nn.Module):\n",
    "    def __init__(\n",
    "        self,\n",
    "        n_tokens=len(tokens),\n",
    "        n_cat_features=len(categorical_vectorizer.vocabulary_),\n",
    "        hid_size=64,\n",
    "    ):\n",
    "        super().__init__()\n",
    "        \n",
    "        # Define modules to process the title.\n",
    "        self.title_emb = nn.Embedding(n_tokens, hid_size)\n",
    "        self.title_enc = nn.LSTM(hid_size, hid_size, 2, batch_first=True)\n",
    "        \n",
    "        # Define modules to process the description.\n",
    "        self.desc_enc = nn.Sequential(\n",
    "            nn.Embedding(n_tokens, hid_size),\n",
    "            Reorder(),\n",
    "            nn.Conv1d(hid_size, hid_size, kernel_size=3),\n",
    "            nn.ReLU(),\n",
    "            nn.Conv1d(hid_size, hid_size, kernel_size=3),\n",
    "            nn.ReLU(),\n",
    "            nn.Conv1d(hid_size, hid_size, kernel_size=3),\n",
    "            nn.BatchNorm1d(hid_size),\n",
    "            nn.ReLU(),\n",
    "            nn.Conv1d(hid_size, hid_size, kernel_size=3),\n",
    "            nn.BatchNorm1d(hid_size),\n",
    "            nn.ReLU(),\n",
    "            nn.AdaptiveMaxPool1d(1),\n",
    "            nn.Flatten()\n",
    "        )\n",
    "        \n",
    "        # Define modules to process the categorical features.\n",
    "        # self.category_out = ...\n",
    "        self.cat_enc = nn.Sequential(\n",
    "            nn.Linear(n_cat_features, hid_size),\n",
    "            nn.ReLU(),\n",
    "            nn.Linear(hid_size, hid_size),\n",
    "            nn.ReLU(),\n",
    "        )\n",
    "\n",
    "        # Define fully-connected part which will take outputs of\n",
    "        # three heads and return the result.\n",
    "        self.out = nn.Linear(3 * hid_size, 1)\n",
    "        \n",
    "    def forward(self, title, desc, category):\n",
    "        \n",
    "        # YOUR CODE HERE\n",
    "        # Process the title.\n",
    "        # title = ...\n",
    "        title_beg = self.title_emb(title)\n",
    "        lstm_out, (title_enc, _) = self.title_enc(title_beg)\n",
    "        \n",
    "        assert torch.equal(lstm_out[:, -1],title_enc[-1])\n",
    "        \n",
    "        title_enc = title_enc[-1]\n",
    "\n",
    "        # YOUR CODE HERE\n",
    "        # Process the description.\n",
    "        # desc = ...\n",
    "        desc_enc = self.desc_enc(desc)\n",
    "\n",
    "        # YOUR CODE HERE\n",
    "        # Process the categorical features.\n",
    "        # category = ...\n",
    "        category_enc = self.cat_enc(category)\n",
    "        \n",
    "        #print(title_enc.shape, desc_enc.shape, category_enc.shape)\n",
    "        \n",
    "        concatenated = torch.cat(\n",
    "            [\n",
    "                title_enc.view(title_enc.size(0), -1),\n",
    "                desc_enc.view(desc_enc.size(0), -1),\n",
    "                category_enc.view(category_enc.size(0), -1),\n",
    "            ],\n",
    "            dim=1,\n",
    "        )\n",
    "\n",
    "        # YOUR CODE HERE\n",
    "        # Process the concatenated features to generate network output.\n",
    "        # out = ...\n",
    "        out = self.out(concatenated)\n",
    "\n",
    "        return out"
   ]
  },
  {
   "cell_type": "code",
   "execution_count": null,
   "metadata": {
    "id": "LTGWuSU14Lqn",
    "outputId": "b7c8077f-c496-4dac-e0a3-6d56bbe3c4f8"
   },
   "outputs": [
    {
     "data": {
      "text/plain": [
       "ThreeInputsNet(\n",
       "  (title_emb): Embedding(34158, 64)\n",
       "  (title_enc): LSTM(64, 64, num_layers=2, batch_first=True)\n",
       "  (desc_enc): Sequential(\n",
       "    (0): Embedding(34158, 64)\n",
       "    (1): Reorder()\n",
       "    (2): Conv1d(64, 64, kernel_size=(3,), stride=(1,))\n",
       "    (3): ReLU()\n",
       "    (4): Conv1d(64, 64, kernel_size=(3,), stride=(1,))\n",
       "    (5): ReLU()\n",
       "    (6): Conv1d(64, 64, kernel_size=(3,), stride=(1,))\n",
       "    (7): BatchNorm1d(64, eps=1e-05, momentum=0.1, affine=True, track_running_stats=True)\n",
       "    (8): ReLU()\n",
       "    (9): Conv1d(64, 64, kernel_size=(3,), stride=(1,))\n",
       "    (10): BatchNorm1d(64, eps=1e-05, momentum=0.1, affine=True, track_running_stats=True)\n",
       "    (11): ReLU()\n",
       "    (12): AdaptiveMaxPool1d(output_size=1)\n",
       "    (13): Flatten(start_dim=1, end_dim=-1)\n",
       "  )\n",
       "  (cat_enc): Sequential(\n",
       "    (0): Linear(in_features=3768, out_features=64, bias=True)\n",
       "    (1): ReLU()\n",
       "    (2): Linear(in_features=64, out_features=64, bias=True)\n",
       "    (3): ReLU()\n",
       "  )\n",
       "  (out): Linear(in_features=192, out_features=1, bias=True)\n",
       ")"
      ]
     },
     "execution_count": 169,
     "metadata": {},
     "output_type": "execute_result"
    }
   ],
   "source": [
    "model = ThreeInputsNet()\n",
    "model.to(device)"
   ]
  },
  {
   "cell_type": "code",
   "execution_count": null,
   "metadata": {
    "id": "hicVrSMS4Lqn"
   },
   "outputs": [],
   "source": [
    "iterator = iterate_minibatches(data_train, 3)\n",
    "batch, target = next(iterator)"
   ]
  },
  {
   "cell_type": "code",
   "execution_count": null,
   "metadata": {
    "id": "S68f73Tr4Lqn"
   },
   "outputs": [],
   "source": [
    "title = torch.tensor(batch[\"Title\"], dtype=torch.long, device=device)\n",
    "desc = torch.tensor(batch[\"FullDescription\"], dtype=torch.long, device=device)\n",
    "category = torch.tensor(batch[\"Categorical\"], dtype=torch.float32, device=device)"
   ]
  },
  {
   "cell_type": "code",
   "execution_count": null,
   "metadata": {
    "id": "JsuyHvdY4Lqn",
    "outputId": "b5a11039-8997-4268-87ff-6301273ecb37"
   },
   "outputs": [
    {
     "data": {
      "text/plain": [
       "tensor([[ 0.2095],\n",
       "        [-0.0123],\n",
       "        [ 0.2898]], device='cuda:0', grad_fn=<AddmmBackward0>)"
      ]
     },
     "execution_count": 172,
     "metadata": {},
     "output_type": "execute_result"
    }
   ],
   "source": [
    "model(title, desc, category)"
   ]
  },
  {
   "cell_type": "code",
   "execution_count": null,
   "metadata": {
    "id": "bIpYeZBK4Lqn",
    "outputId": "0acb401f-23d9-4e46-9003-06a752553676"
   },
   "outputs": [
    {
     "data": {
      "image/png": "[encoded data removed]",
      "text/plain": [
       "<Figure size 432x288 with 1 Axes>"
      ]
     },
     "metadata": {
      "needs_background": "light"
     },
     "output_type": "display_data"
    }
   ],
   "source": [
    "epochs = 1\n",
    "model = ThreeInputsNet()\n",
    "model.to(device)\n",
    "opt = torch.optim.Adam(model.parameters())\n",
    "criterion = nn.MSELoss().to(device)\n",
    "\n",
    "history = []\n",
    "for epoch in range(epochs):\n",
    "    for batch, target in iterate_minibatches(data_train):\n",
    "        # Preprocessing the batch data and target\n",
    "        \n",
    "        title = torch.tensor(batch[\"Title\"], dtype=torch.long, device=device)\n",
    "        desc = torch.tensor(batch[\"FullDescription\"], dtype=torch.long, device=device)\n",
    "        category = torch.tensor(batch[\"Categorical\"], dtype=torch.float32, device=device)\n",
    "        \n",
    "        target = torch.tensor(target, device=device)\n",
    "\n",
    "        predictions = model(title, desc, category)\n",
    "        predictions = predictions.flatten()\n",
    "\n",
    "        opt.zero_grad()\n",
    "        # Compute loss.\n",
    "\n",
    "        loss = criterion(predictions, target)\n",
    "        \n",
    "        loss.backward()\n",
    "        torch.nn.utils.clip_grad_norm_(model.parameters(), 10)\n",
    "        opt.step()\n",
    "        # Train with backprop.\n",
    "\n",
    "        history.append(loss.item())\n",
    "        if len(history) % 10 == 0:\n",
    "            clear_output(wait=True)\n",
    "            plt.plot(history, label=\"loss\")\n",
    "            plt.yscale('log')\n",
    "            plt.legend()\n",
    "            plt.show()"
   ]
  },
  {
   "cell_type": "code",
   "execution_count": null,
   "metadata": {
    "colab": {
     "referenced_widgets": [
      "e00a454515cb4cb3b1ec481b8e776433",
      "5267c457a57d47dd9ed7543e6b8c7515"
     ]
    },
    "id": "sS1Axev44Lqn",
    "outputId": "716335f6-4c91-4e6c-dfa9-cf60bc77c60a"
   },
   "outputs": [
    {
     "data": {
      "application/vnd.jupyter.widget-view+json": {
       "model_id": "e00a454515cb4cb3b1ec481b8e776433",
       "version_major": 2,
       "version_minor": 0
      },
      "text/plain": [
       "0it [00:00, ?it/s]"
      ]
     },
     "metadata": {},
     "output_type": "display_data"
    },
    {
     "name": "stdout",
     "output_type": "stream",
     "text": [
      "Train:\n",
      "MSE: 0.11243\n",
      "MAE: 0.25484\n"
     ]
    },
    {
     "data": {
      "application/vnd.jupyter.widget-view+json": {
       "model_id": "5267c457a57d47dd9ed7543e6b8c7515",
       "version_major": 2,
       "version_minor": 0
      },
      "text/plain": [
       "0it [00:00, ?it/s]"
      ]
     },
     "metadata": {},
     "output_type": "display_data"
    },
    {
     "name": "stdout",
     "output_type": "stream",
     "text": [
      "Val:\n",
      "MSE: 0.11965\n",
      "MAE: 0.26394\n"
     ]
    }
   ],
   "source": [
    "@torch.no_grad()\n",
    "def evaluate_model(model, data, batch_size=256, name=None, **kwargs):\n",
    "    squared_error = abs_error = num_samples = 0.0\n",
    "    data_iterator = iterate_minibatches(data, batch_size, shuffle=False, **kwargs)\n",
    "    for batch, target in tqdm(data_iterator):\n",
    "        \n",
    "        title = torch.tensor(batch[\"Title\"], dtype=torch.long, device=device)\n",
    "        desc = torch.tensor(batch[\"FullDescription\"], dtype=torch.long, device=device)\n",
    "        category = torch.tensor(batch[\"Categorical\"], dtype=torch.float32, device=device)\n",
    "        \n",
    "        pred = model(title, desc, category)[:, 0].cpu().numpy()\n",
    "\n",
    "        squared_error += np.sum(np.square(pred - target))\n",
    "        abs_error += np.sum(np.abs(pred - target))\n",
    "        num_samples += len(target)\n",
    "\n",
    "    if name is not None:\n",
    "        print(f\"{name}:\")\n",
    "\n",
    "    print(f\"MSE: {squared_error / num_samples:.5f}\")\n",
    "    print(f\"MAE: {abs_error / num_samples:.5f}\")\n",
    "    \n",
    "    return squared_error / num_samples, abs_error / num_samples\n",
    "\n",
    "\n",
    "train_errors = evaluate_model(model, data_train, name=\"Train\")\n",
    "test_errors = evaluate_model(model, data_val, name=\"Val\")"
   ]
  },
  {
   "cell_type": "code",
   "execution_count": null,
   "metadata": {
    "colab": {
     "referenced_widgets": [
      "b06e663dc0094ec1bffb67dcc6c74aff",
      "5a9f3f43d30e4dcbb580ce83d12c8175"
     ]
    },
    "id": "wK-jUxy04Lqo",
    "outputId": "c0fd6770-ba1c-4bba-dbbb-441dd34be758"
   },
   "outputs": [
    {
     "data": {
      "application/vnd.jupyter.widget-view+json": {
       "model_id": "b06e663dc0094ec1bffb67dcc6c74aff",
       "version_major": 2,
       "version_minor": 0
      },
      "text/plain": [
       "0it [00:00, ?it/s]"
      ]
     },
     "metadata": {},
     "output_type": "display_data"
    },
    {
     "name": "stdout",
     "output_type": "stream",
     "text": [
      "Train:\n",
      "MSE: 171929688.19994\n",
      "MAE: 8762.57302\n"
     ]
    },
    {
     "data": {
      "application/vnd.jupyter.widget-view+json": {
       "model_id": "5a9f3f43d30e4dcbb580ce83d12c8175",
       "version_major": 2,
       "version_minor": 0
      },
      "text/plain": [
       "0it [00:00, ?it/s]"
      ]
     },
     "metadata": {},
     "output_type": "display_data"
    },
    {
     "name": "stdout",
     "output_type": "stream",
     "text": [
      "Val:\n",
      "MSE: 183495038.62467\n",
      "MAE: 9110.68273\n"
     ]
    }
   ],
   "source": [
    "@torch.no_grad()\n",
    "def evaluate_model(model, data, batch_size=256, name=None, **kwargs):\n",
    "    squared_error = abs_error = num_samples = 0.0\n",
    "    data_iterator = iterate_minibatches(data, batch_size, shuffle=False, **kwargs)\n",
    "    for batch, target in tqdm(data_iterator):\n",
    "        \n",
    "        title = torch.tensor(batch[\"Title\"], dtype=torch.long, device=device)\n",
    "        desc = torch.tensor(batch[\"FullDescription\"], dtype=torch.long, device=device)\n",
    "        category = torch.tensor(batch[\"Categorical\"], dtype=torch.float32, device=device)\n",
    "        \n",
    "        pred = model(title, desc, category)[:, 0].cpu().numpy()\n",
    "\n",
    "        squared_error += np.sum(np.square(np.exp(pred) - np.exp(target)))\n",
    "        abs_error += np.sum(np.abs(np.exp(pred) - np.exp(target)))\n",
    "        num_samples += len(target)\n",
    "\n",
    "    if name is not None:\n",
    "        print(f\"{name}:\")\n",
    "\n",
    "    print(f\"MSE: {squared_error / num_samples:.5f}\")\n",
    "    print(f\"MAE: {abs_error / num_samples:.5f}\")\n",
    "    \n",
    "    return squared_error / num_samples, abs_error / num_samples\n",
    "\n",
    "\n",
    "train_errors = evaluate_model(model, data_train, name=\"Train\")\n",
    "test_errors = evaluate_model(model, data_val, name=\"Val\")"
   ]
  },
  {
   "cell_type": "markdown",
   "metadata": {
    "id": "kAigoulWpHfe"
   },
   "source": [
    "### Bonus area 2: comparing RNN to CNN\n",
    "Try implementing simple RNN (or LSTM) and applying it to this task. Compare the quality/performance of these networks. \n",
    "*Hint: try to build networks with ~same number of paremeters.*"
   ]
  },
  {
   "cell_type": "markdown",
   "metadata": {
    "id": "rQVzJyCMpHfe"
   },
   "source": [
    "*Used LSTM to encode Titles at __Bonus area 1__*"
   ]
  },
  {
   "cell_type": "markdown",
   "metadata": {
    "id": "jPn2Q0wXpHfe"
   },
   "source": [
    "### Bonus area 3: fixing the data leaks\n",
    "Fix the data leak we ignored in the beginning of the __Deep Learning part__. Compare results with and without data leaks using same architectures and training time.\n"
   ]
  },
  {
   "cell_type": "code",
   "execution_count": 20,
   "metadata": {
    "id": "DVgBWPpjpHfe"
   },
   "outputs": [],
   "source": [
    "# YOUR CODE HERE\n",
    "data = pd.read_csv(\"Train_rev1.csv\", index_col=None)"
   ]
  },
  {
   "cell_type": "code",
   "execution_count": 21,
   "metadata": {
    "colab": {
     "base_uri": "https://localhost:8080/",
     "height": 398
    },
    "id": "6Iaf4nfV4Lqp",
    "outputId": "af180f43-fbb7-4cde-9146-21059b91717e"
   },
   "outputs": [
    {
     "data": {
      "text/html": [
       "\n",
       "  <div id=\"df-d29612ae-e423-4165-83b0-29c1141a21fc\">\n",
       "    <div class=\"colab-df-container\">\n",
       "      <div>\n",
       "<style scoped>\n",
       "    .dataframe tbody tr th:only-of-type {\n",
       "        vertical-align: middle;\n",
       "    }\n",
       "\n",
       "    .dataframe tbody tr th {\n",
       "        vertical-align: top;\n",
       "    }\n",
       "\n",
       "    .dataframe thead th {\n",
       "        text-align: right;\n",
       "    }\n",
       "</style>\n",
       "<table border=\"1\" class=\"dataframe\">\n",
       "  <thead>\n",
       "    <tr style=\"text-align: right;\">\n",
       "      <th></th>\n",
       "      <th>Id</th>\n",
       "      <th>Title</th>\n",
       "      <th>FullDescription</th>\n",
       "      <th>LocationRaw</th>\n",
       "      <th>LocationNormalized</th>\n",
       "      <th>ContractType</th>\n",
       "      <th>ContractTime</th>\n",
       "      <th>Company</th>\n",
       "      <th>Category</th>\n",
       "      <th>SalaryRaw</th>\n",
       "      <th>SalaryNormalized</th>\n",
       "      <th>SourceName</th>\n",
       "      <th>Log1pSalary</th>\n",
       "    </tr>\n",
       "  </thead>\n",
       "  <tbody>\n",
       "    <tr>\n",
       "      <th>93221</th>\n",
       "      <td>69188446</td>\n",
       "      <td>GRADUATE SALES EXECUTIVE / TRAINEE BUSINESS DE...</td>\n",
       "      <td>GRADUATE SALES EXECUTIVE / TRAINEE BUSINESS DE...</td>\n",
       "      <td>City London South East</td>\n",
       "      <td>London</td>\n",
       "      <td>NaN</td>\n",
       "      <td>NaN</td>\n",
       "      <td>BMS Sales Specialists LLP</td>\n",
       "      <td>Sales Jobs</td>\n",
       "      <td>25000 per annum + 30% Bonus, Car, Mobile</td>\n",
       "      <td>25000</td>\n",
       "      <td>salestarget.co.uk</td>\n",
       "      <td>10.126671</td>\n",
       "    </tr>\n",
       "    <tr>\n",
       "      <th>143596</th>\n",
       "      <td>70622627</td>\n",
       "      <td>Senior Java Developer</td>\n",
       "      <td>My client are a leading software house and con...</td>\n",
       "      <td>Yorkshire Leeds LS1 8</td>\n",
       "      <td>Horsforth</td>\n",
       "      <td>NaN</td>\n",
       "      <td>permanent</td>\n",
       "      <td>The Bridge Ltd</td>\n",
       "      <td>IT Jobs</td>\n",
       "      <td>40000.00 - 50000.00 GBP Annual</td>\n",
       "      <td>45000</td>\n",
       "      <td>jobserve.com</td>\n",
       "      <td>10.714440</td>\n",
       "    </tr>\n",
       "    <tr>\n",
       "      <th>28108</th>\n",
       "      <td>67946379</td>\n",
       "      <td>Technical Director  Strategic Modelling</td>\n",
       "      <td>Introduction An excellent opportunity to work ...</td>\n",
       "      <td>Woking</td>\n",
       "      <td>Woking</td>\n",
       "      <td>NaN</td>\n",
       "      <td>NaN</td>\n",
       "      <td>Matchtech Group plc.</td>\n",
       "      <td>Engineering Jobs</td>\n",
       "      <td>58,000 - 65,000/yr</td>\n",
       "      <td>61500</td>\n",
       "      <td>rengineeringjobs.com</td>\n",
       "      <td>11.026809</td>\n",
       "    </tr>\n",
       "  </tbody>\n",
       "</table>\n",
       "</div>\n",
       "      <button class=\"colab-df-convert\" onclick=\"convertToInteractive('df-d29612ae-e423-4165-83b0-29c1141a21fc')\"\n",
       "              title=\"Convert this dataframe to an interactive table.\"\n",
       "              style=\"display:none;\">\n",
       "        \n",
       "  <svg xmlns=\"http://www.w3.org/2000/svg\" height=\"24px\"viewBox=\"0 0 24 24\"\n",
       "       width=\"24px\">\n",
       "    <path d=\"M0 0h24v24H0V0z\" fill=\"none\"/>\n",
       "    <path d=\"M18.56 5.44l.94 2.06.94-2.06 2.06-.94-2.06-.94-.94-2.06-.94 2.06-2.06.94zm-11 1L8.5 8.5l.94-2.06 2.06-.94-2.06-.94L8.5 2.5l-.94 2.06-2.06.94zm10 10l.94 2.06.94-2.06 2.06-.94-2.06-.94-.94-2.06-.94 2.06-2.06.94z\"/><path d=\"M17.41 7.96l-1.37-1.37c-.4-.4-.92-.59-1.43-.59-.52 0-1.04.2-1.43.59L10.3 9.45l-7.72 7.72c-.78.78-.78 2.05 0 2.83L4 21.41c.39.39.9.59 1.41.59.51 0 1.02-.2 1.41-.59l7.78-7.78 2.81-2.81c.8-.78.8-2.07 0-2.86zM5.41 20L4 18.59l7.72-7.72 1.47 1.35L5.41 20z\"/>\n",
       "  </svg>\n",
       "      </button>\n",
       "      \n",
       "  <style>\n",
       "    .colab-df-container {\n",
       "      display:flex;\n",
       "      flex-wrap:wrap;\n",
       "      gap: 12px;\n",
       "    }\n",
       "\n",
       "    .colab-df-convert {\n",
       "      background-color: #E8F0FE;\n",
       "      border: none;\n",
       "      border-radius: 50%;\n",
       "      cursor: pointer;\n",
       "      display: none;\n",
       "      fill: #1967D2;\n",
       "      height: 32px;\n",
       "      padding: 0 0 0 0;\n",
       "      width: 32px;\n",
       "    }\n",
       "\n",
       "    .colab-df-convert:hover {\n",
       "      background-color: #E2EBFA;\n",
       "      box-shadow: 0px 1px 2px rgba(60, 64, 67, 0.3), 0px 1px 3px 1px rgba(60, 64, 67, 0.15);\n",
       "      fill: #174EA6;\n",
       "    }\n",
       "\n",
       "    [theme=dark] .colab-df-convert {\n",
       "      background-color: #3B4455;\n",
       "      fill: #D2E3FC;\n",
       "    }\n",
       "\n",
       "    [theme=dark] .colab-df-convert:hover {\n",
       "      background-color: #434B5C;\n",
       "      box-shadow: 0px 1px 3px 1px rgba(0, 0, 0, 0.15);\n",
       "      filter: drop-shadow(0px 1px 2px rgba(0, 0, 0, 0.3));\n",
       "      fill: #FFFFFF;\n",
       "    }\n",
       "  </style>\n",
       "\n",
       "      <script>\n",
       "        const buttonEl =\n",
       "          document.querySelector('#df-d29612ae-e423-4165-83b0-29c1141a21fc button.colab-df-convert');\n",
       "        buttonEl.style.display =\n",
       "          google.colab.kernel.accessAllowed ? 'block' : 'none';\n",
       "\n",
       "        async function convertToInteractive(key) {\n",
       "          const element = document.querySelector('#df-d29612ae-e423-4165-83b0-29c1141a21fc');\n",
       "          const dataTable =\n",
       "            await google.colab.kernel.invokeFunction('convertToInteractive',\n",
       "                                                     [key], {});\n",
       "          if (!dataTable) return;\n",
       "\n",
       "          const docLinkHtml = 'Like what you see? Visit the ' +\n",
       "            '<a target=\"_blank\" href=https://colab.research.google.com/notebooks/data_table.ipynb>data table notebook</a>'\n",
       "            + ' to learn more about interactive tables.';\n",
       "          element.innerHTML = '';\n",
       "          dataTable['output_type'] = 'display_data';\n",
       "          await google.colab.output.renderOutput(dataTable, element);\n",
       "          const docLink = document.createElement('div');\n",
       "          docLink.innerHTML = docLinkHtml;\n",
       "          element.appendChild(docLink);\n",
       "        }\n",
       "      </script>\n",
       "    </div>\n",
       "  </div>\n",
       "  "
      ],
      "text/plain": [
       "              Id                                              Title  \\\n",
       "93221   69188446  GRADUATE SALES EXECUTIVE / TRAINEE BUSINESS DE...   \n",
       "143596  70622627                              Senior Java Developer   \n",
       "28108   67946379            Technical Director  Strategic Modelling   \n",
       "\n",
       "                                          FullDescription  \\\n",
       "93221   GRADUATE SALES EXECUTIVE / TRAINEE BUSINESS DE...   \n",
       "143596  My client are a leading software house and con...   \n",
       "28108   Introduction An excellent opportunity to work ...   \n",
       "\n",
       "                   LocationRaw LocationNormalized ContractType ContractTime  \\\n",
       "93221   City London South East             London          NaN          NaN   \n",
       "143596   Yorkshire Leeds LS1 8          Horsforth          NaN    permanent   \n",
       "28108                   Woking             Woking          NaN          NaN   \n",
       "\n",
       "                          Company          Category  \\\n",
       "93221   BMS Sales Specialists LLP        Sales Jobs   \n",
       "143596             The Bridge Ltd           IT Jobs   \n",
       "28108        Matchtech Group plc.  Engineering Jobs   \n",
       "\n",
       "                                       SalaryRaw  SalaryNormalized  \\\n",
       "93221   25000 per annum + 30% Bonus, Car, Mobile             25000   \n",
       "143596            40000.00 - 50000.00 GBP Annual             45000   \n",
       "28108                         58,000 - 65,000/yr             61500   \n",
       "\n",
       "                  SourceName  Log1pSalary  \n",
       "93221      salestarget.co.uk    10.126671  \n",
       "143596          jobserve.com    10.714440  \n",
       "28108   rengineeringjobs.com    11.026809  "
      ]
     },
     "execution_count": 21,
     "metadata": {},
     "output_type": "execute_result"
    }
   ],
   "source": [
    "data[\"Log1pSalary\"] = np.log1p(data[\"SalaryNormalized\"]).astype(\"float32\")\n",
    "text_columns = [\"Title\", \"FullDescription\"]\n",
    "categorical_columns = [\"Category\", \"Company\", \"LocationNormalized\", \"ContractType\", \"ContractTime\"]\n",
    "target_column = \"Log1pSalary\"\n",
    "\n",
    "data[categorical_columns] = data[categorical_columns].fillna(\"NaN\")\n",
    "data[text_columns] = data[text_columns].fillna(\"NaN\")\n",
    "\n",
    "data.sample(3)"
   ]
  },
  {
   "cell_type": "code",
   "execution_count": 22,
   "metadata": {
    "id": "L-OPkZ3O4Lqp"
   },
   "outputs": [],
   "source": [
    "tokenizer = WordPunctTokenizer()\n",
    "\n",
    "def normalize(text):\n",
    "    tokens = tokenizer.tokenize(text.lower())\n",
    "    return ' '.join(tokens)\n",
    "# Lowercase and tokenize titles and descriptions (text_columns).\n",
    "# Store items as space-separated strings of tokens.\n",
    "data[text_columns] = data[text_columns].applymap(normalize)"
   ]
  },
  {
   "cell_type": "code",
   "execution_count": 23,
   "metadata": {
    "id": "9_GiBN7F4Lqp"
   },
   "outputs": [],
   "source": [
    "data_train, data_val = train_test_split(data, test_size=0.2, random_state=42)\n",
    "data_train.index = range(len(data_train))\n",
    "data_val.index = range(len(data_val))"
   ]
  },
  {
   "cell_type": "code",
   "execution_count": 24,
   "metadata": {
    "id": "QIM-lk534Lqp"
   },
   "outputs": [],
   "source": [
    "token_counts = Counter()\n",
    "for row in data_train[text_columns].values.flatten():\n",
    "    token_counts.update(row.split(' '))"
   ]
  },
  {
   "cell_type": "code",
   "execution_count": 25,
   "metadata": {
    "colab": {
     "base_uri": "https://localhost:8080/",
     "height": 279
    },
    "id": "Ic4Mfr5i4Lqp",
    "outputId": "ce4a6a96-2036-4bac-d14f-67efcf3cf25c"
   },
   "outputs": [
    {
     "data": {
      "image/png": "[encoded data removed]",
      "text/plain": [
       "<Figure size 432x288 with 1 Axes>"
      ]
     },
     "metadata": {
      "needs_background": "light"
     },
     "output_type": "display_data"
    }
   ],
   "source": [
    "plt.hist(list(token_counts.values()), range=[0, 10 ** 4], bins=50, log=True)\n",
    "plt.xlabel(\"Word counts\")\n",
    "plt.show()"
   ]
  },
  {
   "cell_type": "code",
   "execution_count": 27,
   "metadata": {
    "id": "aBlhaMrI4Lqq"
   },
   "outputs": [],
   "source": [
    "min_count = 10\n",
    "\n",
    "# We shall only consider tokens that had at least min_count occurences.\n",
    "# Create a list of such tokens.\n",
    "tokens = [token for token, counts in token_counts.items() if counts >= min_count]"
   ]
  },
  {
   "cell_type": "code",
   "execution_count": 28,
   "metadata": {
    "colab": {
     "base_uri": "https://localhost:8080/"
    },
    "id": "IGYEL7Mq4Lqq",
    "outputId": "35ee47ea-abdb-41c2-bc54-9d23c5772445"
   },
   "outputs": [
    {
     "name": "stdout",
     "output_type": "stream",
     "text": [
      "Vocabulary size: 30715\n"
     ]
    }
   ],
   "source": [
    "UNK, PAD = \"UNK\", \"PAD\"\n",
    "tokens = [UNK, PAD] + sorted(tokens)\n",
    "print(\"Vocabulary size:\", len(tokens))"
   ]
  },
  {
   "cell_type": "code",
   "execution_count": 29,
   "metadata": {
    "id": "Bt4d773N4Lqq"
   },
   "outputs": [],
   "source": [
    "token_to_idx = {token: idx for idx, token in enumerate(tokens)}\n",
    "UNK_IDX = token_to_idx[UNK]\n",
    "PAD_IDX = token_to_idx[PAD]"
   ]
  },
  {
   "cell_type": "code",
   "execution_count": 30,
   "metadata": {
    "id": "GU3OYdTF4Lqq"
   },
   "outputs": [],
   "source": [
    "company_counts = Counter(data_train[\"Company\"])\n",
    "top_companies = set(name for name, count in company_counts.most_common(1000))\n",
    "data_train[\"Company\"] = data_train[\"Company\"].apply(\n",
    "    lambda company: company if company in top_companies else \"Other\"\n",
    ")\n",
    "\n",
    "categorical_vectorizer = DictVectorizer(dtype=np.float32, sparse=False)\n",
    "categorical_vectorizer.fit(data_train[categorical_columns].apply(dict, axis=1));"
   ]
  },
  {
   "cell_type": "code",
   "execution_count": 31,
   "metadata": {
    "id": "0ubJp3ng4Lqq"
   },
   "outputs": [],
   "source": [
    "def make_batch(data, max_len=None, word_dropout=0):\n",
    "    \"\"\"\n",
    "    Creates a neural-network-friendly dict from the batch data.\n",
    "    :param word_dropout: replaces token index with UNK_IDX with this probability\n",
    "    :returns: a dict with {'title' : int64[batch, title_max_len]\n",
    "    \"\"\"\n",
    "    batch = {}\n",
    "    batch[\"Title\"] = as_matrix(data[\"Title\"].values, max_len)\n",
    "    batch[\"FullDescription\"] = as_matrix(data[\"FullDescription\"].values, max_len)\n",
    "    batch[\"Categorical\"] = categorical_vectorizer.transform(\n",
    "        data[categorical_columns].apply(dict, axis=1)\n",
    "    )\n",
    "\n",
    "    if word_dropout != 0:\n",
    "        batch[\"FullDescription\"] = apply_word_dropout(batch[\"FullDescription\"], 1.0 - word_dropout)\n",
    "\n",
    "    if target_column in data.columns:\n",
    "        batch[target_column] = data[target_column].values\n",
    "\n",
    "    return batch\n",
    "\n",
    "\n",
    "def apply_word_dropout(matrix, keep_prob, replace_with=UNK_IDX):\n",
    "    dropout_mask = np.random.choice(2, np.shape(matrix), p=[keep_prob, 1 - keep_prob])\n",
    "    dropout_mask &= matrix != PAD_IDX\n",
    "    return np.choose(dropout_mask, [matrix, np.full_like(matrix, replace_with)])"
   ]
  },
  {
   "cell_type": "code",
   "execution_count": 32,
   "metadata": {
    "id": "_96duuCi4Lqq"
   },
   "outputs": [],
   "source": [
    "def iterate_minibatches(data, batch_size=256, shuffle=True, cycle=False, **kwargs):\n",
    "    \"\"\"iterates minibatches of data in random order\"\"\"\n",
    "    while True:\n",
    "        indices = np.arange(len(data))\n",
    "        if shuffle:\n",
    "            indices = np.random.permutation(indices)\n",
    "\n",
    "        for start in range(0, len(indices), batch_size):\n",
    "            batch = make_batch(data.iloc[indices[start : start + batch_size]], **kwargs)\n",
    "            target = batch.pop(target_column)\n",
    "            yield batch, target\n",
    "\n",
    "        if not cycle:\n",
    "            break"
   ]
  },
  {
   "cell_type": "code",
   "execution_count": 33,
   "metadata": {
    "colab": {
     "base_uri": "https://localhost:8080/"
    },
    "id": "KJJt__lR4Lqq",
    "outputId": "33409466-24d0-4d65-ffd8-1b13d48c5485"
   },
   "outputs": [
    {
     "data": {
      "text/plain": [
       "3579"
      ]
     },
     "execution_count": 33,
     "metadata": {},
     "output_type": "execute_result"
    }
   ],
   "source": [
    "len(categorical_vectorizer.vocabulary_)"
   ]
  },
  {
   "cell_type": "code",
   "execution_count": 34,
   "metadata": {
    "id": "kPT23ZyO4Lqr"
   },
   "outputs": [],
   "source": [
    "class ThreeInputsNet(nn.Module):\n",
    "    def __init__(\n",
    "        self,\n",
    "        n_tokens=len(tokens),\n",
    "        n_cat_features=len(categorical_vectorizer.vocabulary_),\n",
    "        hid_size=64,\n",
    "    ):\n",
    "        super().__init__()\n",
    "        \n",
    "        # Define modules to process the title.\n",
    "        self.title_emb = nn.Embedding(n_tokens, hid_size)\n",
    "        self.title_enc = nn.LSTM(hid_size, hid_size, 2, batch_first=True)\n",
    "        \n",
    "        # Define modules to process the description.\n",
    "        self.desc_enc = nn.Sequential(\n",
    "            nn.Embedding(n_tokens, hid_size),\n",
    "            Reorder(),\n",
    "            nn.Conv1d(hid_size, hid_size, kernel_size=3),\n",
    "            nn.ReLU(),\n",
    "            nn.Conv1d(hid_size, hid_size, kernel_size=3),\n",
    "            nn.ReLU(),\n",
    "            nn.Conv1d(hid_size, hid_size, kernel_size=3),\n",
    "            nn.BatchNorm1d(hid_size),\n",
    "            nn.ReLU(),\n",
    "            nn.Conv1d(hid_size, hid_size, kernel_size=3),\n",
    "            nn.BatchNorm1d(hid_size),\n",
    "            nn.ReLU(),\n",
    "            nn.AdaptiveMaxPool1d(1),\n",
    "            nn.Flatten()\n",
    "        )\n",
    "        \n",
    "        # Define modules to process the categorical features.\n",
    "        # self.category_out = ...\n",
    "        self.cat_enc = nn.Sequential(\n",
    "            nn.Linear(n_cat_features, hid_size),\n",
    "            nn.ReLU(),\n",
    "            nn.Linear(hid_size, hid_size),\n",
    "            nn.ReLU(),\n",
    "        )\n",
    "\n",
    "        self.out = nn.Linear(3 * hid_size, 1)\n",
    "        \n",
    "    def forward(self, title, desc, category):\n",
    "        \n",
    "        title_beg = self.title_emb(title)\n",
    "        lstm_out, (title_enc, _) = self.title_enc(title_beg)\n",
    "        \n",
    "        assert torch.equal(lstm_out[:, -1],title_enc[-1])\n",
    "        \n",
    "        title_enc = title_enc[-1]\n",
    "\n",
    "        desc_enc = self.desc_enc(desc)\n",
    "\n",
    "        category_enc = self.cat_enc(category)\n",
    "        \n",
    "        #print(title_enc.shape, desc_enc.shape, category_enc.shape)\n",
    "        \n",
    "        concatenated = torch.cat(\n",
    "            [\n",
    "                title_enc.view(title_enc.size(0), -1),\n",
    "                desc_enc.view(desc_enc.size(0), -1),\n",
    "                category_enc.view(category_enc.size(0), -1),\n",
    "            ],\n",
    "            dim=1,\n",
    "        )\n",
    "\n",
    "        out = self.out(concatenated)\n",
    "\n",
    "        return out"
   ]
  },
  {
   "cell_type": "code",
   "execution_count": 37,
   "metadata": {
    "colab": {
     "base_uri": "https://localhost:8080/",
     "height": 266
    },
    "id": "EdB6cIz14Lqr",
    "outputId": "3f2d7e52-8dfd-40dc-c1e9-872c8738f521"
   },
   "outputs": [
    {
     "data": {
      "image/png": "[encoded data removed]",
      "text/plain": [
       "<Figure size 432x288 with 1 Axes>"
      ]
     },
     "metadata": {
      "needs_background": "light"
     },
     "output_type": "display_data"
    }
   ],
   "source": [
    "epochs = 1\n",
    "model = ThreeInputsNet()\n",
    "model.to(device)\n",
    "opt = torch.optim.Adam(model.parameters())\n",
    "criterion = nn.MSELoss().to(device)\n",
    "\n",
    "history = []\n",
    "for epoch in range(epochs):\n",
    "    for batch, target in iterate_minibatches(data_train, word_dropout=0.2):\n",
    "        # Preprocessing the batch data and target\n",
    "        \n",
    "        title = torch.tensor(batch[\"Title\"], dtype=torch.long, device=device)\n",
    "        desc = torch.tensor(batch[\"FullDescription\"], dtype=torch.long, device=device)\n",
    "        category = torch.tensor(batch[\"Categorical\"], dtype=torch.float32, device=device)\n",
    "        \n",
    "        target = torch.tensor(target, device=device)\n",
    "\n",
    "        predictions = model(title, desc, category)\n",
    "        predictions = predictions.flatten()\n",
    "\n",
    "        opt.zero_grad()\n",
    "        # Compute loss.\n",
    "\n",
    "        loss = criterion(predictions, target)\n",
    "        \n",
    "        loss.backward()\n",
    "        torch.nn.utils.clip_grad_norm_(model.parameters(), 10)\n",
    "        opt.step()\n",
    "        # Train with backprop.\n",
    "\n",
    "        history.append(loss.item())\n",
    "        if len(history) % 10 == 0:\n",
    "            clear_output(wait=True)\n",
    "            plt.plot(history, label=\"loss\")\n",
    "            plt.yscale('log')\n",
    "            plt.legend()\n",
    "            plt.show()"
   ]
  },
  {
   "cell_type": "code",
   "execution_count": 38,
   "metadata": {
    "colab": {
     "base_uri": "https://localhost:8080/",
     "height": 185,
     "referenced_widgets": [
      "09f5fa8ca136495db238b788124f2fae",
      "7d189f0386e54da39c49506ca4023958",
      "e6b7ad856643400ea7f410a8276fcb81",
      "68c14164f5774e5fa7c7c393b0c6f92e",
      "332aca2eb6854b13b0a5bbdda4e19f67",
      "0f72a7f7e8584bd8acece5ca4a207c5b",
      "b4a2794c7bd8437e9c8d52d7126fcbda",
      "af5f02089b6243ac8541a6f9ad1bab50",
      "e8c59862f3aa47398c7be3fdcfa3b3c5",
      "4b377fd7194547439aee1ab1330fc71a",
      "394331689a594b3bb3a9a0dd1b8025c8",
      "8e084bb71f8f41549557da0879f9f48b",
      "e82d3d9015f34147bc3020a82737380c",
      "616fc3f2afb8432fb53d2ba1c48606ef",
      "4a3acf47607c4949af93e9815b857b94",
      "dfdbd4c2fb664a949ed9a49f835a7048",
      "b453e7939d5c46a2b82314041ac5b7df",
      "3a1af80cda844908a9da1a0de918ad93",
      "62bcfa339b49409eafd88dc3268fefc6",
      "397857d060654489800fbb286b251161",
      "5122c633168d4d4b901103e020b626b5",
      "bb8f5a7483f54653bc5e8c87aa597eb1"
     ]
    },
    "id": "JjSFZkmX4Lqr",
    "outputId": "0aa2d1fe-6dfe-4c89-8641-3696570cdff6"
   },
   "outputs": [
    {
     "data": {
      "application/vnd.jupyter.widget-view+json": {
       "model_id": "09f5fa8ca136495db238b788124f2fae",
       "version_major": 2,
       "version_minor": 0
      },
      "text/plain": [
       "0it [00:00, ?it/s]"
      ]
     },
     "metadata": {},
     "output_type": "display_data"
    },
    {
     "name": "stdout",
     "output_type": "stream",
     "text": [
      "Train:\n",
      "MSE: 270671131.15393\n",
      "MAE: 11879.92236\n"
     ]
    },
    {
     "data": {
      "application/vnd.jupyter.widget-view+json": {
       "model_id": "8e084bb71f8f41549557da0879f9f48b",
       "version_major": 2,
       "version_minor": 0
      },
      "text/plain": [
       "0it [00:00, ?it/s]"
      ]
     },
     "metadata": {},
     "output_type": "display_data"
    },
    {
     "name": "stdout",
     "output_type": "stream",
     "text": [
      "Val:\n",
      "MSE: 292257295.16526\n",
      "MAE: 12318.27666\n"
     ]
    }
   ],
   "source": [
    "@torch.no_grad()\n",
    "def evaluate_model(model, data, batch_size=256, name=None, **kwargs):\n",
    "    squared_error = abs_error = num_samples = 0.0\n",
    "    data_iterator = iterate_minibatches(data, batch_size, shuffle=False, **kwargs)\n",
    "    for batch, target in tqdm(data_iterator):\n",
    "        \n",
    "        title = torch.tensor(batch[\"Title\"], dtype=torch.long, device=device)\n",
    "        desc = torch.tensor(batch[\"FullDescription\"], dtype=torch.long, device=device)\n",
    "        category = torch.tensor(batch[\"Categorical\"], dtype=torch.float32, device=device)\n",
    "        \n",
    "        pred = model(title, desc, category)[:, 0].cpu().numpy()\n",
    "\n",
    "        squared_error += np.sum(np.square(np.exp(pred) - np.exp(target)))\n",
    "        abs_error += np.sum(np.abs(np.exp(pred) - np.exp(target)))\n",
    "        num_samples += len(target)\n",
    "\n",
    "    if name is not None:\n",
    "        print(f\"{name}:\")\n",
    "\n",
    "    print(f\"MSE: {squared_error / num_samples:.5f}\")\n",
    "    print(f\"MAE: {abs_error / num_samples:.5f}\")\n",
    "    \n",
    "    return squared_error / num_samples, abs_error / num_samples\n",
    "\n",
    "\n",
    "train_errors = evaluate_model(model, data_train, name=\"Train\")\n",
    "test_errors = evaluate_model(model, data_val, name=\"Val\")"
   ]
  },
  {
   "cell_type": "markdown",
   "metadata": {
    "id": "V-iOq02ZpHfe"
   },
   "source": [
    "__Terrible start-up idea #1962:__ make a tool that automaticaly rephrases your job description (or CV) to meet salary expectations :)"
   ]
  }
 ],
 "metadata": {
  "accelerator": "GPU",
  "colab": {
   "collapsed_sections": [],
   "name": "week_02_cnn_for_texts.ipynb",
   "provenance": []
  },
  "kernelspec": {
   "display_name": "Python 3 (ipykernel)",
   "language": "python",
   "name": "python3"
  },
  "language_info": {
   "codemirror_mode": {
    "name": "ipython",
    "version": 3
   },
   "file_extension": ".py",
   "mimetype": "text/x-python",
   "name": "python",
   "nbconvert_exporter": "python",
   "pygments_lexer": "ipython3",
   "version": "3.9.12"
  },
  "widgets": {
   "application/vnd.jupyter.widget-state+json": {
    "09f5fa8ca136495db238b788124f2fae": {
     "model_module": "@jupyter-widgets/controls",
     "model_module_version": "1.5.0",
     "model_name": "HBoxModel",
     "state": {
      "_dom_classes": [],
      "_model_module": "@jupyter-widgets/controls",
      "_model_module_version": "1.5.0",
      "_model_name": "HBoxModel",
      "_view_count": null,
      "_view_module": "@jupyter-widgets/controls",
      "_view_module_version": "1.5.0",
      "_view_name": "HBoxView",
      "box_style": "",
      "children": [
       "IPY_MODEL_7d189f0386e54da39c49506ca4023958",
       "IPY_MODEL_e6b7ad856643400ea7f410a8276fcb81",
       "IPY_MODEL_68c14164f5774e5fa7c7c393b0c6f92e"
      ],
      "layout": "IPY_MODEL_332aca2eb6854b13b0a5bbdda4e19f67"
     }
    },
    "0f72a7f7e8584bd8acece5ca4a207c5b": {
     "model_module": "@jupyter-widgets/base",
     "model_module_version": "1.2.0",
     "model_name": "LayoutModel",
     "state": {
      "_model_module": "@jupyter-widgets/base",
      "_model_module_version": "1.2.0",
      "_model_name": "LayoutModel",
      "_view_count": null,
      "_view_module": "@jupyter-widgets/base",
      "_view_module_version": "1.2.0",
      "_view_name": "LayoutView",
      "align_content": null,
      "align_items": null,
      "align_self": null,
      "border": null,
      "bottom": null,
      "display": null,
      "flex": null,
      "flex_flow": null,
      "grid_area": null,
      "grid_auto_columns": null,
      "grid_auto_flow": null,
      "grid_auto_rows": null,
      "grid_column": null,
      "grid_gap": null,
      "grid_row": null,
      "grid_template_areas": null,
      "grid_template_columns": null,
      "grid_template_rows": null,
      "height": null,
      "justify_content": null,
      "justify_items": null,
      "left": null,
      "margin": null,
      "max_height": null,
      "max_width": null,
      "min_height": null,
      "min_width": null,
      "object_fit": null,
      "object_position": null,
      "order": null,
      "overflow": null,
      "overflow_x": null,
      "overflow_y": null,
      "padding": null,
      "right": null,
      "top": null,
      "visibility": null,
      "width": null
     }
    },
    "332aca2eb6854b13b0a5bbdda4e19f67": {
     "model_module": "@jupyter-widgets/base",
     "model_module_version": "1.2.0",
     "model_name": "LayoutModel",
     "state": {
      "_model_module": "@jupyter-widgets/base",
      "_model_module_version": "1.2.0",
      "_model_name": "LayoutModel",
      "_view_count": null,
      "_view_module": "@jupyter-widgets/base",
      "_view_module_version": "1.2.0",
      "_view_name": "LayoutView",
      "align_content": null,
      "align_items": null,
      "align_self": null,
      "border": null,
      "bottom": null,
      "display": null,
      "flex": null,
      "flex_flow": null,
      "grid_area": null,
      "grid_auto_columns": null,
      "grid_auto_flow": null,
      "grid_auto_rows": null,
      "grid_column": null,
      "grid_gap": null,
      "grid_row": null,
      "grid_template_areas": null,
      "grid_template_columns": null,
      "grid_template_rows": null,
      "height": null,
      "justify_content": null,
      "justify_items": null,
      "left": null,
      "margin": null,
      "max_height": null,
      "max_width": null,
      "min_height": null,
      "min_width": null,
      "object_fit": null,
      "object_position": null,
      "order": null,
      "overflow": null,
      "overflow_x": null,
      "overflow_y": null,
      "padding": null,
      "right": null,
      "top": null,
      "visibility": null,
      "width": null
     }
    },
    "394331689a594b3bb3a9a0dd1b8025c8": {
     "model_module": "@jupyter-widgets/controls",
     "model_module_version": "1.5.0",
     "model_name": "DescriptionStyleModel",
     "state": {
      "_model_module": "@jupyter-widgets/controls",
      "_model_module_version": "1.5.0",
      "_model_name": "DescriptionStyleModel",
      "_view_count": null,
      "_view_module": "@jupyter-widgets/base",
      "_view_module_version": "1.2.0",
      "_view_name": "StyleView",
      "description_width": ""
     }
    },
    "397857d060654489800fbb286b251161": {
     "model_module": "@jupyter-widgets/controls",
     "model_module_version": "1.5.0",
     "model_name": "ProgressStyleModel",
     "state": {
      "_model_module": "@jupyter-widgets/controls",
      "_model_module_version": "1.5.0",
      "_model_name": "ProgressStyleModel",
      "_view_count": null,
      "_view_module": "@jupyter-widgets/base",
      "_view_module_version": "1.2.0",
      "_view_name": "StyleView",
      "bar_color": null,
      "description_width": ""
     }
    },
    "3a1af80cda844908a9da1a0de918ad93": {
     "model_module": "@jupyter-widgets/controls",
     "model_module_version": "1.5.0",
     "model_name": "DescriptionStyleModel",
     "state": {
      "_model_module": "@jupyter-widgets/controls",
      "_model_module_version": "1.5.0",
      "_model_name": "DescriptionStyleModel",
      "_view_count": null,
      "_view_module": "@jupyter-widgets/base",
      "_view_module_version": "1.2.0",
      "_view_name": "StyleView",
      "description_width": ""
     }
    },
    "4a3acf47607c4949af93e9815b857b94": {
     "model_module": "@jupyter-widgets/controls",
     "model_module_version": "1.5.0",
     "model_name": "HTMLModel",
     "state": {
      "_dom_classes": [],
      "_model_module": "@jupyter-widgets/controls",
      "_model_module_version": "1.5.0",
      "_model_name": "HTMLModel",
      "_view_count": null,
      "_view_module": "@jupyter-widgets/controls",
      "_view_module_version": "1.5.0",
      "_view_name": "HTMLView",
      "description": "",
      "description_tooltip": null,
      "layout": "IPY_MODEL_5122c633168d4d4b901103e020b626b5",
      "placeholder": "​",
      "style": "IPY_MODEL_bb8f5a7483f54653bc5e8c87aa597eb1",
      "value": " 192/? [00:12&lt;00:00, 15.45it/s]"
     }
    },
    "4b377fd7194547439aee1ab1330fc71a": {
     "model_module": "@jupyter-widgets/base",
     "model_module_version": "1.2.0",
     "model_name": "LayoutModel",
     "state": {
      "_model_module": "@jupyter-widgets/base",
      "_model_module_version": "1.2.0",
      "_model_name": "LayoutModel",
      "_view_count": null,
      "_view_module": "@jupyter-widgets/base",
      "_view_module_version": "1.2.0",
      "_view_name": "LayoutView",
      "align_content": null,
      "align_items": null,
      "align_self": null,
      "border": null,
      "bottom": null,
      "display": null,
      "flex": null,
      "flex_flow": null,
      "grid_area": null,
      "grid_auto_columns": null,
      "grid_auto_flow": null,
      "grid_auto_rows": null,
      "grid_column": null,
      "grid_gap": null,
      "grid_row": null,
      "grid_template_areas": null,
      "grid_template_columns": null,
      "grid_template_rows": null,
      "height": null,
      "justify_content": null,
      "justify_items": null,
      "left": null,
      "margin": null,
      "max_height": null,
      "max_width": null,
      "min_height": null,
      "min_width": null,
      "object_fit": null,
      "object_position": null,
      "order": null,
      "overflow": null,
      "overflow_x": null,
      "overflow_y": null,
      "padding": null,
      "right": null,
      "top": null,
      "visibility": null,
      "width": null
     }
    },
    "5122c633168d4d4b901103e020b626b5": {
     "model_module": "@jupyter-widgets/base",
     "model_module_version": "1.2.0",
     "model_name": "LayoutModel",
     "state": {
      "_model_module": "@jupyter-widgets/base",
      "_model_module_version": "1.2.0",
      "_model_name": "LayoutModel",
      "_view_count": null,
      "_view_module": "@jupyter-widgets/base",
      "_view_module_version": "1.2.0",
      "_view_name": "LayoutView",
      "align_content": null,
      "align_items": null,
      "align_self": null,
      "border": null,
      "bottom": null,
      "display": null,
      "flex": null,
      "flex_flow": null,
      "grid_area": null,
      "grid_auto_columns": null,
      "grid_auto_flow": null,
      "grid_auto_rows": null,
      "grid_column": null,
      "grid_gap": null,
      "grid_row": null,
      "grid_template_areas": null,
      "grid_template_columns": null,
      "grid_template_rows": null,
      "height": null,
      "justify_content": null,
      "justify_items": null,
      "left": null,
      "margin": null,
      "max_height": null,
      "max_width": null,
      "min_height": null,
      "min_width": null,
      "object_fit": null,
      "object_position": null,
      "order": null,
      "overflow": null,
      "overflow_x": null,
      "overflow_y": null,
      "padding": null,
      "right": null,
      "top": null,
      "visibility": null,
      "width": null
     }
    },
    "616fc3f2afb8432fb53d2ba1c48606ef": {
     "model_module": "@jupyter-widgets/controls",
     "model_module_version": "1.5.0",
     "model_name": "FloatProgressModel",
     "state": {
      "_dom_classes": [],
      "_model_module": "@jupyter-widgets/controls",
      "_model_module_version": "1.5.0",
      "_model_name": "FloatProgressModel",
      "_view_count": null,
      "_view_module": "@jupyter-widgets/controls",
      "_view_module_version": "1.5.0",
      "_view_name": "ProgressView",
      "bar_style": "success",
      "description": "",
      "description_tooltip": null,
      "layout": "IPY_MODEL_62bcfa339b49409eafd88dc3268fefc6",
      "max": 1,
      "min": 0,
      "orientation": "horizontal",
      "style": "IPY_MODEL_397857d060654489800fbb286b251161",
      "value": 1
     }
    },
    "62bcfa339b49409eafd88dc3268fefc6": {
     "model_module": "@jupyter-widgets/base",
     "model_module_version": "1.2.0",
     "model_name": "LayoutModel",
     "state": {
      "_model_module": "@jupyter-widgets/base",
      "_model_module_version": "1.2.0",
      "_model_name": "LayoutModel",
      "_view_count": null,
      "_view_module": "@jupyter-widgets/base",
      "_view_module_version": "1.2.0",
      "_view_name": "LayoutView",
      "align_content": null,
      "align_items": null,
      "align_self": null,
      "border": null,
      "bottom": null,
      "display": null,
      "flex": null,
      "flex_flow": null,
      "grid_area": null,
      "grid_auto_columns": null,
      "grid_auto_flow": null,
      "grid_auto_rows": null,
      "grid_column": null,
      "grid_gap": null,
      "grid_row": null,
      "grid_template_areas": null,
      "grid_template_columns": null,
      "grid_template_rows": null,
      "height": null,
      "justify_content": null,
      "justify_items": null,
      "left": null,
      "margin": null,
      "max_height": null,
      "max_width": null,
      "min_height": null,
      "min_width": null,
      "object_fit": null,
      "object_position": null,
      "order": null,
      "overflow": null,
      "overflow_x": null,
      "overflow_y": null,
      "padding": null,
      "right": null,
      "top": null,
      "visibility": null,
      "width": "20px"
     }
    },
    "68c14164f5774e5fa7c7c393b0c6f92e": {
     "model_module": "@jupyter-widgets/controls",
     "model_module_version": "1.5.0",
     "model_name": "HTMLModel",
     "state": {
      "_dom_classes": [],
      "_model_module": "@jupyter-widgets/controls",
      "_model_module_version": "1.5.0",
      "_model_name": "HTMLModel",
      "_view_count": null,
      "_view_module": "@jupyter-widgets/controls",
      "_view_module_version": "1.5.0",
      "_view_name": "HTMLView",
      "description": "",
      "description_tooltip": null,
      "layout": "IPY_MODEL_4b377fd7194547439aee1ab1330fc71a",
      "placeholder": "​",
      "style": "IPY_MODEL_394331689a594b3bb3a9a0dd1b8025c8",
      "value": " 765/? [00:50&lt;00:00, 15.31it/s]"
     }
    },
    "7d189f0386e54da39c49506ca4023958": {
     "model_module": "@jupyter-widgets/controls",
     "model_module_version": "1.5.0",
     "model_name": "HTMLModel",
     "state": {
      "_dom_classes": [],
      "_model_module": "@jupyter-widgets/controls",
      "_model_module_version": "1.5.0",
      "_model_name": "HTMLModel",
      "_view_count": null,
      "_view_module": "@jupyter-widgets/controls",
      "_view_module_version": "1.5.0",
      "_view_name": "HTMLView",
      "description": "",
      "description_tooltip": null,
      "layout": "IPY_MODEL_0f72a7f7e8584bd8acece5ca4a207c5b",
      "placeholder": "​",
      "style": "IPY_MODEL_b4a2794c7bd8437e9c8d52d7126fcbda",
      "value": ""
     }
    },
    "8e084bb71f8f41549557da0879f9f48b": {
     "model_module": "@jupyter-widgets/controls",
     "model_module_version": "1.5.0",
     "model_name": "HBoxModel",
     "state": {
      "_dom_classes": [],
      "_model_module": "@jupyter-widgets/controls",
      "_model_module_version": "1.5.0",
      "_model_name": "HBoxModel",
      "_view_count": null,
      "_view_module": "@jupyter-widgets/controls",
      "_view_module_version": "1.5.0",
      "_view_name": "HBoxView",
      "box_style": "",
      "children": [
       "IPY_MODEL_e82d3d9015f34147bc3020a82737380c",
       "IPY_MODEL_616fc3f2afb8432fb53d2ba1c48606ef",
       "IPY_MODEL_4a3acf47607c4949af93e9815b857b94"
      ],
      "layout": "IPY_MODEL_dfdbd4c2fb664a949ed9a49f835a7048"
     }
    },
    "af5f02089b6243ac8541a6f9ad1bab50": {
     "model_module": "@jupyter-widgets/base",
     "model_module_version": "1.2.0",
     "model_name": "LayoutModel",
     "state": {
      "_model_module": "@jupyter-widgets/base",
      "_model_module_version": "1.2.0",
      "_model_name": "LayoutModel",
      "_view_count": null,
      "_view_module": "@jupyter-widgets/base",
      "_view_module_version": "1.2.0",
      "_view_name": "LayoutView",
      "align_content": null,
      "align_items": null,
      "align_self": null,
      "border": null,
      "bottom": null,
      "display": null,
      "flex": null,
      "flex_flow": null,
      "grid_area": null,
      "grid_auto_columns": null,
      "grid_auto_flow": null,
      "grid_auto_rows": null,
      "grid_column": null,
      "grid_gap": null,
      "grid_row": null,
      "grid_template_areas": null,
      "grid_template_columns": null,
      "grid_template_rows": null,
      "height": null,
      "justify_content": null,
      "justify_items": null,
      "left": null,
      "margin": null,
      "max_height": null,
      "max_width": null,
      "min_height": null,
      "min_width": null,
      "object_fit": null,
      "object_position": null,
      "order": null,
      "overflow": null,
      "overflow_x": null,
      "overflow_y": null,
      "padding": null,
      "right": null,
      "top": null,
      "visibility": null,
      "width": "20px"
     }
    },
    "b453e7939d5c46a2b82314041ac5b7df": {
     "model_module": "@jupyter-widgets/base",
     "model_module_version": "1.2.0",
     "model_name": "LayoutModel",
     "state": {
      "_model_module": "@jupyter-widgets/base",
      "_model_module_version": "1.2.0",
      "_model_name": "LayoutModel",
      "_view_count": null,
      "_view_module": "@jupyter-widgets/base",
      "_view_module_version": "1.2.0",
      "_view_name": "LayoutView",
      "align_content": null,
      "align_items": null,
      "align_self": null,
      "border": null,
      "bottom": null,
      "display": null,
      "flex": null,
      "flex_flow": null,
      "grid_area": null,
      "grid_auto_columns": null,
      "grid_auto_flow": null,
      "grid_auto_rows": null,
      "grid_column": null,
      "grid_gap": null,
      "grid_row": null,
      "grid_template_areas": null,
      "grid_template_columns": null,
      "grid_template_rows": null,
      "height": null,
      "justify_content": null,
      "justify_items": null,
      "left": null,
      "margin": null,
      "max_height": null,
      "max_width": null,
      "min_height": null,
      "min_width": null,
      "object_fit": null,
      "object_position": null,
      "order": null,
      "overflow": null,
      "overflow_x": null,
      "overflow_y": null,
      "padding": null,
      "right": null,
      "top": null,
      "visibility": null,
      "width": null
     }
    },
    "b4a2794c7bd8437e9c8d52d7126fcbda": {
     "model_module": "@jupyter-widgets/controls",
     "model_module_version": "1.5.0",
     "model_name": "DescriptionStyleModel",
     "state": {
      "_model_module": "@jupyter-widgets/controls",
      "_model_module_version": "1.5.0",
      "_model_name": "DescriptionStyleModel",
      "_view_count": null,
      "_view_module": "@jupyter-widgets/base",
      "_view_module_version": "1.2.0",
      "_view_name": "StyleView",
      "description_width": ""
     }
    },
    "bb8f5a7483f54653bc5e8c87aa597eb1": {
     "model_module": "@jupyter-widgets/controls",
     "model_module_version": "1.5.0",
     "model_name": "DescriptionStyleModel",
     "state": {
      "_model_module": "@jupyter-widgets/controls",
      "_model_module_version": "1.5.0",
      "_model_name": "DescriptionStyleModel",
      "_view_count": null,
      "_view_module": "@jupyter-widgets/base",
      "_view_module_version": "1.2.0",
      "_view_name": "StyleView",
      "description_width": ""
     }
    },
    "dfdbd4c2fb664a949ed9a49f835a7048": {
     "model_module": "@jupyter-widgets/base",
     "model_module_version": "1.2.0",
     "model_name": "LayoutModel",
     "state": {
      "_model_module": "@jupyter-widgets/base",
      "_model_module_version": "1.2.0",
      "_model_name": "LayoutModel",
      "_view_count": null,
      "_view_module": "@jupyter-widgets/base",
      "_view_module_version": "1.2.0",
      "_view_name": "LayoutView",
      "align_content": null,
      "align_items": null,
      "align_self": null,
      "border": null,
      "bottom": null,
      "display": null,
      "flex": null,
      "flex_flow": null,
      "grid_area": null,
      "grid_auto_columns": null,
      "grid_auto_flow": null,
      "grid_auto_rows": null,
      "grid_column": null,
      "grid_gap": null,
      "grid_row": null,
      "grid_template_areas": null,
      "grid_template_columns": null,
      "grid_template_rows": null,
      "height": null,
      "justify_content": null,
      "justify_items": null,
      "left": null,
      "margin": null,
      "max_height": null,
      "max_width": null,
      "min_height": null,
      "min_width": null,
      "object_fit": null,
      "object_position": null,
      "order": null,
      "overflow": null,
      "overflow_x": null,
      "overflow_y": null,
      "padding": null,
      "right": null,
      "top": null,
      "visibility": null,
      "width": null
     }
    },
    "e6b7ad856643400ea7f410a8276fcb81": {
     "model_module": "@jupyter-widgets/controls",
     "model_module_version": "1.5.0",
     "model_name": "FloatProgressModel",
     "state": {
      "_dom_classes": [],
      "_model_module": "@jupyter-widgets/controls",
      "_model_module_version": "1.5.0",
      "_model_name": "FloatProgressModel",
      "_view_count": null,
      "_view_module": "@jupyter-widgets/controls",
      "_view_module_version": "1.5.0",
      "_view_name": "ProgressView",
      "bar_style": "success",
      "description": "",
      "description_tooltip": null,
      "layout": "IPY_MODEL_af5f02089b6243ac8541a6f9ad1bab50",
      "max": 1,
      "min": 0,
      "orientation": "horizontal",
      "style": "IPY_MODEL_e8c59862f3aa47398c7be3fdcfa3b3c5",
      "value": 1
     }
    },
    "e82d3d9015f34147bc3020a82737380c": {
     "model_module": "@jupyter-widgets/controls",
     "model_module_version": "1.5.0",
     "model_name": "HTMLModel",
     "state": {
      "_dom_classes": [],
      "_model_module": "@jupyter-widgets/controls",
      "_model_module_version": "1.5.0",
      "_model_name": "HTMLModel",
      "_view_count": null,
      "_view_module": "@jupyter-widgets/controls",
      "_view_module_version": "1.5.0",
      "_view_name": "HTMLView",
      "description": "",
      "description_tooltip": null,
      "layout": "IPY_MODEL_b453e7939d5c46a2b82314041ac5b7df",
      "placeholder": "​",
      "style": "IPY_MODEL_3a1af80cda844908a9da1a0de918ad93",
      "value": ""
     }
    },
    "e8c59862f3aa47398c7be3fdcfa3b3c5": {
     "model_module": "@jupyter-widgets/controls",
     "model_module_version": "1.5.0",
     "model_name": "ProgressStyleModel",
     "state": {
      "_model_module": "@jupyter-widgets/controls",
      "_model_module_version": "1.5.0",
      "_model_name": "ProgressStyleModel",
      "_view_count": null,
      "_view_module": "@jupyter-widgets/base",
      "_view_module_version": "1.2.0",
      "_view_name": "StyleView",
      "bar_color": null,
      "description_width": ""
     }
    }
   }
  }
 },
 "nbformat": 4,
 "nbformat_minor": 1
}
