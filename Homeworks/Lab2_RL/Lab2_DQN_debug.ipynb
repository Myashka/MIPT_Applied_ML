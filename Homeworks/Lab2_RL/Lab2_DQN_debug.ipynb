{
 "cells": [
  {
   "cell_type": "markdown",
   "metadata": {
    "id": "bMTDgGFx0QxH"
   },
   "source": [
    "# Lab 2: Deep Q-Network implementation.\n",
    "## PyTorch debug mode\n",
    "\n",
    "This homework shamelessly demands you to implement a DQN - an approximate q-learning algorithm with experience replay and target networks - and see if it works any better this way.\n",
    "\n",
    "Original paper:\n",
    "https://arxiv.org/pdf/1312.5602.pdf"
   ]
  },
  {
   "cell_type": "markdown",
   "metadata": {
    "id": "nadodz5b0QxK"
   },
   "source": [
    "**This notebook is given for debug.** The main DQN task will be in the same folder later. The tasks are similar and share most of the code. The main difference is in environments. In main notebook it can take some 2 hours for the agent to start improving so it seems reasonable to launch the algorithm on a simpler env first. Here it is CartPole and it will train in several minutes.\n",
    "\n",
    "**We suggest the following pipeline:** First implement debug notebook then implement the main one."
   ]
  },
  {
   "cell_type": "code",
   "execution_count": null,
   "metadata": {
    "id": "8zsjzlV-0QxL"
   },
   "outputs": [],
   "source": [
    "import os\n",
    "import sys\n",
    "\n",
    "\n",
    "if \"google.colab\" in sys.modules and not os.path.exists(\".setup_complete\"):\n",
    "    !wget -q https://raw.githubusercontent.com/yandexdataschool/Practical_RL/master/setup_colab.sh -O- | bash\n",
    "    !wget -q https://raw.githubusercontent.com/girafe-ai/ml-mipt/develop_advanced_practice/homeworks_advanced/Lab2_RL/replay_buffer.py\n",
    "    !wget -q https://raw.githubusercontent.com/girafe-ai/ml-mipt/develop_advanced_practice/homeworks_advanced/Lab2_RL/utils.py\n",
    "    !touch .setup_complete\n",
    "\n",
    "# This code creates a virtual display to draw game images on.\n",
    "# It will have no effect if your machine has a monitor.\n",
    "if type(os.environ.get(\"DISPLAY\")) is not str or len(os.environ.get(\"DISPLAY\")) == 0:\n",
    "    !bash ../xvfb start\n",
    "    os.environ[\"DISPLAY\"] = \":1\""
   ]
  },
  {
   "cell_type": "markdown",
   "metadata": {
    "id": "rSdkoTDP0QxP"
   },
   "source": [
    "## CartPole again"
   ]
  },
  {
   "cell_type": "code",
<<<<<<< HEAD
   "execution_count": 22,
=======
   "execution_count": 78,
>>>>>>> 6d906172164c2d37dc504a343e6e6ea59a6a4f62
   "metadata": {
    "id": "aaYh_z1W0QxP"
   },
   "outputs": [],
   "source": [
    "import gym\n",
    "\n",
    "\n",
    "def make_env(seed=None):\n",
    "    # CartPole is wrapped with a time limit wrapper by default\n",
    "    env = gym.make('CartPole-v1').unwrapped\n",
    "    if seed is not None:\n",
    "        env.seed(seed)\n",
    "    return env"
   ]
  },
  {
   "cell_type": "code",
<<<<<<< HEAD
   "execution_count": 23,
=======
   "execution_count": 79,
   "metadata": {},
   "outputs": [],
   "source": [
    "%matplotlib notebook"
   ]
  },
  {
   "cell_type": "code",
   "execution_count": 81,
>>>>>>> 6d906172164c2d37dc504a343e6e6ea59a6a4f62
   "metadata": {
    "id": "_mbn-Y0g0QxQ"
   },
   "outputs": [
    {
<<<<<<< HEAD
     "data": {
      "image/png": "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\n",
=======
     "data": {
      "application/javascript": [
       "/* Put everything inside the global mpl namespace */\n",
       "/* global mpl */\n",
       "window.mpl = {};\n",
       "\n",
       "mpl.get_websocket_type = function () {\n",
       "    if (typeof WebSocket !== 'undefined') {\n",
       "        return WebSocket;\n",
       "    } else if (typeof MozWebSocket !== 'undefined') {\n",
       "        return MozWebSocket;\n",
       "    } else {\n",
       "        alert(\n",
       "            'Your browser does not have WebSocket support. ' +\n",
       "                'Please try Chrome, Safari or Firefox ≥ 6. ' +\n",
       "                'Firefox 4 and 5 are also supported but you ' +\n",
       "                'have to enable WebSockets in about:config.'\n",
       "        );\n",
       "    }\n",
       "};\n",
       "\n",
       "mpl.figure = function (figure_id, websocket, ondownload, parent_element) {\n",
       "    this.id = figure_id;\n",
       "\n",
       "    this.ws = websocket;\n",
       "\n",
       "    this.supports_binary = this.ws.binaryType !== undefined;\n",
       "\n",
       "    if (!this.supports_binary) {\n",
       "        var warnings = document.getElementById('mpl-warnings');\n",
       "        if (warnings) {\n",
       "            warnings.style.display = 'block';\n",
       "            warnings.textContent =\n",
       "                'This browser does not support binary websocket messages. ' +\n",
       "                'Performance may be slow.';\n",
       "        }\n",
       "    }\n",
       "\n",
       "    this.imageObj = new Image();\n",
       "\n",
       "    this.context = undefined;\n",
       "    this.message = undefined;\n",
       "    this.canvas = undefined;\n",
       "    this.rubberband_canvas = undefined;\n",
       "    this.rubberband_context = undefined;\n",
       "    this.format_dropdown = undefined;\n",
       "\n",
       "    this.image_mode = 'full';\n",
       "\n",
       "    this.root = document.createElement('div');\n",
       "    this.root.setAttribute('style', 'display: inline-block');\n",
       "    this._root_extra_style(this.root);\n",
       "\n",
       "    parent_element.appendChild(this.root);\n",
       "\n",
       "    this._init_header(this);\n",
       "    this._init_canvas(this);\n",
       "    this._init_toolbar(this);\n",
       "\n",
       "    var fig = this;\n",
       "\n",
       "    this.waiting = false;\n",
       "\n",
       "    this.ws.onopen = function () {\n",
       "        fig.send_message('supports_binary', { value: fig.supports_binary });\n",
       "        fig.send_message('send_image_mode', {});\n",
       "        if (fig.ratio !== 1) {\n",
       "            fig.send_message('set_device_pixel_ratio', {\n",
       "                device_pixel_ratio: fig.ratio,\n",
       "            });\n",
       "        }\n",
       "        fig.send_message('refresh', {});\n",
       "    };\n",
       "\n",
       "    this.imageObj.onload = function () {\n",
       "        if (fig.image_mode === 'full') {\n",
       "            // Full images could contain transparency (where diff images\n",
       "            // almost always do), so we need to clear the canvas so that\n",
       "            // there is no ghosting.\n",
       "            fig.context.clearRect(0, 0, fig.canvas.width, fig.canvas.height);\n",
       "        }\n",
       "        fig.context.drawImage(fig.imageObj, 0, 0);\n",
       "    };\n",
       "\n",
       "    this.imageObj.onunload = function () {\n",
       "        fig.ws.close();\n",
       "    };\n",
       "\n",
       "    this.ws.onmessage = this._make_on_message_function(this);\n",
       "\n",
       "    this.ondownload = ondownload;\n",
       "};\n",
       "\n",
       "mpl.figure.prototype._init_header = function () {\n",
       "    var titlebar = document.createElement('div');\n",
       "    titlebar.classList =\n",
       "        'ui-dialog-titlebar ui-widget-header ui-corner-all ui-helper-clearfix';\n",
       "    var titletext = document.createElement('div');\n",
       "    titletext.classList = 'ui-dialog-title';\n",
       "    titletext.setAttribute(\n",
       "        'style',\n",
       "        'width: 100%; text-align: center; padding: 3px;'\n",
       "    );\n",
       "    titlebar.appendChild(titletext);\n",
       "    this.root.appendChild(titlebar);\n",
       "    this.header = titletext;\n",
       "};\n",
       "\n",
       "mpl.figure.prototype._canvas_extra_style = function (_canvas_div) {};\n",
       "\n",
       "mpl.figure.prototype._root_extra_style = function (_canvas_div) {};\n",
       "\n",
       "mpl.figure.prototype._init_canvas = function () {\n",
       "    var fig = this;\n",
       "\n",
       "    var canvas_div = (this.canvas_div = document.createElement('div'));\n",
       "    canvas_div.setAttribute(\n",
       "        'style',\n",
       "        'border: 1px solid #ddd;' +\n",
       "            'box-sizing: content-box;' +\n",
       "            'clear: both;' +\n",
       "            'min-height: 1px;' +\n",
       "            'min-width: 1px;' +\n",
       "            'outline: 0;' +\n",
       "            'overflow: hidden;' +\n",
       "            'position: relative;' +\n",
       "            'resize: both;'\n",
       "    );\n",
       "\n",
       "    function on_keyboard_event_closure(name) {\n",
       "        return function (event) {\n",
       "            return fig.key_event(event, name);\n",
       "        };\n",
       "    }\n",
       "\n",
       "    canvas_div.addEventListener(\n",
       "        'keydown',\n",
       "        on_keyboard_event_closure('key_press')\n",
       "    );\n",
       "    canvas_div.addEventListener(\n",
       "        'keyup',\n",
       "        on_keyboard_event_closure('key_release')\n",
       "    );\n",
       "\n",
       "    this._canvas_extra_style(canvas_div);\n",
       "    this.root.appendChild(canvas_div);\n",
       "\n",
       "    var canvas = (this.canvas = document.createElement('canvas'));\n",
       "    canvas.classList.add('mpl-canvas');\n",
       "    canvas.setAttribute('style', 'box-sizing: content-box;');\n",
       "\n",
       "    this.context = canvas.getContext('2d');\n",
       "\n",
       "    var backingStore =\n",
       "        this.context.backingStorePixelRatio ||\n",
       "        this.context.webkitBackingStorePixelRatio ||\n",
       "        this.context.mozBackingStorePixelRatio ||\n",
       "        this.context.msBackingStorePixelRatio ||\n",
       "        this.context.oBackingStorePixelRatio ||\n",
       "        this.context.backingStorePixelRatio ||\n",
       "        1;\n",
       "\n",
       "    this.ratio = (window.devicePixelRatio || 1) / backingStore;\n",
       "\n",
       "    var rubberband_canvas = (this.rubberband_canvas = document.createElement(\n",
       "        'canvas'\n",
       "    ));\n",
       "    rubberband_canvas.setAttribute(\n",
       "        'style',\n",
       "        'box-sizing: content-box; position: absolute; left: 0; top: 0; z-index: 1;'\n",
       "    );\n",
       "\n",
       "    // Apply a ponyfill if ResizeObserver is not implemented by browser.\n",
       "    if (this.ResizeObserver === undefined) {\n",
       "        if (window.ResizeObserver !== undefined) {\n",
       "            this.ResizeObserver = window.ResizeObserver;\n",
       "        } else {\n",
       "            var obs = _JSXTOOLS_RESIZE_OBSERVER({});\n",
       "            this.ResizeObserver = obs.ResizeObserver;\n",
       "        }\n",
       "    }\n",
       "\n",
       "    this.resizeObserverInstance = new this.ResizeObserver(function (entries) {\n",
       "        var nentries = entries.length;\n",
       "        for (var i = 0; i < nentries; i++) {\n",
       "            var entry = entries[i];\n",
       "            var width, height;\n",
       "            if (entry.contentBoxSize) {\n",
       "                if (entry.contentBoxSize instanceof Array) {\n",
       "                    // Chrome 84 implements new version of spec.\n",
       "                    width = entry.contentBoxSize[0].inlineSize;\n",
       "                    height = entry.contentBoxSize[0].blockSize;\n",
       "                } else {\n",
       "                    // Firefox implements old version of spec.\n",
       "                    width = entry.contentBoxSize.inlineSize;\n",
       "                    height = entry.contentBoxSize.blockSize;\n",
       "                }\n",
       "            } else {\n",
       "                // Chrome <84 implements even older version of spec.\n",
       "                width = entry.contentRect.width;\n",
       "                height = entry.contentRect.height;\n",
       "            }\n",
       "\n",
       "            // Keep the size of the canvas and rubber band canvas in sync with\n",
       "            // the canvas container.\n",
       "            if (entry.devicePixelContentBoxSize) {\n",
       "                // Chrome 84 implements new version of spec.\n",
       "                canvas.setAttribute(\n",
       "                    'width',\n",
       "                    entry.devicePixelContentBoxSize[0].inlineSize\n",
       "                );\n",
       "                canvas.setAttribute(\n",
       "                    'height',\n",
       "                    entry.devicePixelContentBoxSize[0].blockSize\n",
       "                );\n",
       "            } else {\n",
       "                canvas.setAttribute('width', width * fig.ratio);\n",
       "                canvas.setAttribute('height', height * fig.ratio);\n",
       "            }\n",
       "            canvas.setAttribute(\n",
       "                'style',\n",
       "                'width: ' + width + 'px; height: ' + height + 'px;'\n",
       "            );\n",
       "\n",
       "            rubberband_canvas.setAttribute('width', width);\n",
       "            rubberband_canvas.setAttribute('height', height);\n",
       "\n",
       "            // And update the size in Python. We ignore the initial 0/0 size\n",
       "            // that occurs as the element is placed into the DOM, which should\n",
       "            // otherwise not happen due to the minimum size styling.\n",
       "            if (fig.ws.readyState == 1 && width != 0 && height != 0) {\n",
       "                fig.request_resize(width, height);\n",
       "            }\n",
       "        }\n",
       "    });\n",
       "    this.resizeObserverInstance.observe(canvas_div);\n",
       "\n",
       "    function on_mouse_event_closure(name) {\n",
       "        return function (event) {\n",
       "            return fig.mouse_event(event, name);\n",
       "        };\n",
       "    }\n",
       "\n",
       "    rubberband_canvas.addEventListener(\n",
       "        'mousedown',\n",
       "        on_mouse_event_closure('button_press')\n",
       "    );\n",
       "    rubberband_canvas.addEventListener(\n",
       "        'mouseup',\n",
       "        on_mouse_event_closure('button_release')\n",
       "    );\n",
       "    rubberband_canvas.addEventListener(\n",
       "        'dblclick',\n",
       "        on_mouse_event_closure('dblclick')\n",
       "    );\n",
       "    // Throttle sequential mouse events to 1 every 20ms.\n",
       "    rubberband_canvas.addEventListener(\n",
       "        'mousemove',\n",
       "        on_mouse_event_closure('motion_notify')\n",
       "    );\n",
       "\n",
       "    rubberband_canvas.addEventListener(\n",
       "        'mouseenter',\n",
       "        on_mouse_event_closure('figure_enter')\n",
       "    );\n",
       "    rubberband_canvas.addEventListener(\n",
       "        'mouseleave',\n",
       "        on_mouse_event_closure('figure_leave')\n",
       "    );\n",
       "\n",
       "    canvas_div.addEventListener('wheel', function (event) {\n",
       "        if (event.deltaY < 0) {\n",
       "            event.step = 1;\n",
       "        } else {\n",
       "            event.step = -1;\n",
       "        }\n",
       "        on_mouse_event_closure('scroll')(event);\n",
       "    });\n",
       "\n",
       "    canvas_div.appendChild(canvas);\n",
       "    canvas_div.appendChild(rubberband_canvas);\n",
       "\n",
       "    this.rubberband_context = rubberband_canvas.getContext('2d');\n",
       "    this.rubberband_context.strokeStyle = '#000000';\n",
       "\n",
       "    this._resize_canvas = function (width, height, forward) {\n",
       "        if (forward) {\n",
       "            canvas_div.style.width = width + 'px';\n",
       "            canvas_div.style.height = height + 'px';\n",
       "        }\n",
       "    };\n",
       "\n",
       "    // Disable right mouse context menu.\n",
       "    this.rubberband_canvas.addEventListener('contextmenu', function (_e) {\n",
       "        event.preventDefault();\n",
       "        return false;\n",
       "    });\n",
       "\n",
       "    function set_focus() {\n",
       "        canvas.focus();\n",
       "        canvas_div.focus();\n",
       "    }\n",
       "\n",
       "    window.setTimeout(set_focus, 100);\n",
       "};\n",
       "\n",
       "mpl.figure.prototype._init_toolbar = function () {\n",
       "    var fig = this;\n",
       "\n",
       "    var toolbar = document.createElement('div');\n",
       "    toolbar.classList = 'mpl-toolbar';\n",
       "    this.root.appendChild(toolbar);\n",
       "\n",
       "    function on_click_closure(name) {\n",
       "        return function (_event) {\n",
       "            return fig.toolbar_button_onclick(name);\n",
       "        };\n",
       "    }\n",
       "\n",
       "    function on_mouseover_closure(tooltip) {\n",
       "        return function (event) {\n",
       "            if (!event.currentTarget.disabled) {\n",
       "                return fig.toolbar_button_onmouseover(tooltip);\n",
       "            }\n",
       "        };\n",
       "    }\n",
       "\n",
       "    fig.buttons = {};\n",
       "    var buttonGroup = document.createElement('div');\n",
       "    buttonGroup.classList = 'mpl-button-group';\n",
       "    for (var toolbar_ind in mpl.toolbar_items) {\n",
       "        var name = mpl.toolbar_items[toolbar_ind][0];\n",
       "        var tooltip = mpl.toolbar_items[toolbar_ind][1];\n",
       "        var image = mpl.toolbar_items[toolbar_ind][2];\n",
       "        var method_name = mpl.toolbar_items[toolbar_ind][3];\n",
       "\n",
       "        if (!name) {\n",
       "            /* Instead of a spacer, we start a new button group. */\n",
       "            if (buttonGroup.hasChildNodes()) {\n",
       "                toolbar.appendChild(buttonGroup);\n",
       "            }\n",
       "            buttonGroup = document.createElement('div');\n",
       "            buttonGroup.classList = 'mpl-button-group';\n",
       "            continue;\n",
       "        }\n",
       "\n",
       "        var button = (fig.buttons[name] = document.createElement('button'));\n",
       "        button.classList = 'mpl-widget';\n",
       "        button.setAttribute('role', 'button');\n",
       "        button.setAttribute('aria-disabled', 'false');\n",
       "        button.addEventListener('click', on_click_closure(method_name));\n",
       "        button.addEventListener('mouseover', on_mouseover_closure(tooltip));\n",
       "\n",
       "        var icon_img = document.createElement('img');\n",
       "        icon_img.src = '_images/' + image + '.png';\n",
       "        icon_img.srcset = '_images/' + image + '_large.png 2x';\n",
       "        icon_img.alt = tooltip;\n",
       "        button.appendChild(icon_img);\n",
       "\n",
       "        buttonGroup.appendChild(button);\n",
       "    }\n",
       "\n",
       "    if (buttonGroup.hasChildNodes()) {\n",
       "        toolbar.appendChild(buttonGroup);\n",
       "    }\n",
       "\n",
       "    var fmt_picker = document.createElement('select');\n",
       "    fmt_picker.classList = 'mpl-widget';\n",
       "    toolbar.appendChild(fmt_picker);\n",
       "    this.format_dropdown = fmt_picker;\n",
       "\n",
       "    for (var ind in mpl.extensions) {\n",
       "        var fmt = mpl.extensions[ind];\n",
       "        var option = document.createElement('option');\n",
       "        option.selected = fmt === mpl.default_extension;\n",
       "        option.innerHTML = fmt;\n",
       "        fmt_picker.appendChild(option);\n",
       "    }\n",
       "\n",
       "    var status_bar = document.createElement('span');\n",
       "    status_bar.classList = 'mpl-message';\n",
       "    toolbar.appendChild(status_bar);\n",
       "    this.message = status_bar;\n",
       "};\n",
       "\n",
       "mpl.figure.prototype.request_resize = function (x_pixels, y_pixels) {\n",
       "    // Request matplotlib to resize the figure. Matplotlib will then trigger a resize in the client,\n",
       "    // which will in turn request a refresh of the image.\n",
       "    this.send_message('resize', { width: x_pixels, height: y_pixels });\n",
       "};\n",
       "\n",
       "mpl.figure.prototype.send_message = function (type, properties) {\n",
       "    properties['type'] = type;\n",
       "    properties['figure_id'] = this.id;\n",
       "    this.ws.send(JSON.stringify(properties));\n",
       "};\n",
       "\n",
       "mpl.figure.prototype.send_draw_message = function () {\n",
       "    if (!this.waiting) {\n",
       "        this.waiting = true;\n",
       "        this.ws.send(JSON.stringify({ type: 'draw', figure_id: this.id }));\n",
       "    }\n",
       "};\n",
       "\n",
       "mpl.figure.prototype.handle_save = function (fig, _msg) {\n",
       "    var format_dropdown = fig.format_dropdown;\n",
       "    var format = format_dropdown.options[format_dropdown.selectedIndex].value;\n",
       "    fig.ondownload(fig, format);\n",
       "};\n",
       "\n",
       "mpl.figure.prototype.handle_resize = function (fig, msg) {\n",
       "    var size = msg['size'];\n",
       "    if (size[0] !== fig.canvas.width || size[1] !== fig.canvas.height) {\n",
       "        fig._resize_canvas(size[0], size[1], msg['forward']);\n",
       "        fig.send_message('refresh', {});\n",
       "    }\n",
       "};\n",
       "\n",
       "mpl.figure.prototype.handle_rubberband = function (fig, msg) {\n",
       "    var x0 = msg['x0'] / fig.ratio;\n",
       "    var y0 = (fig.canvas.height - msg['y0']) / fig.ratio;\n",
       "    var x1 = msg['x1'] / fig.ratio;\n",
       "    var y1 = (fig.canvas.height - msg['y1']) / fig.ratio;\n",
       "    x0 = Math.floor(x0) + 0.5;\n",
       "    y0 = Math.floor(y0) + 0.5;\n",
       "    x1 = Math.floor(x1) + 0.5;\n",
       "    y1 = Math.floor(y1) + 0.5;\n",
       "    var min_x = Math.min(x0, x1);\n",
       "    var min_y = Math.min(y0, y1);\n",
       "    var width = Math.abs(x1 - x0);\n",
       "    var height = Math.abs(y1 - y0);\n",
       "\n",
       "    fig.rubberband_context.clearRect(\n",
       "        0,\n",
       "        0,\n",
       "        fig.canvas.width / fig.ratio,\n",
       "        fig.canvas.height / fig.ratio\n",
       "    );\n",
       "\n",
       "    fig.rubberband_context.strokeRect(min_x, min_y, width, height);\n",
       "};\n",
       "\n",
       "mpl.figure.prototype.handle_figure_label = function (fig, msg) {\n",
       "    // Updates the figure title.\n",
       "    fig.header.textContent = msg['label'];\n",
       "};\n",
       "\n",
       "mpl.figure.prototype.handle_cursor = function (fig, msg) {\n",
       "    fig.rubberband_canvas.style.cursor = msg['cursor'];\n",
       "};\n",
       "\n",
       "mpl.figure.prototype.handle_message = function (fig, msg) {\n",
       "    fig.message.textContent = msg['message'];\n",
       "};\n",
       "\n",
       "mpl.figure.prototype.handle_draw = function (fig, _msg) {\n",
       "    // Request the server to send over a new figure.\n",
       "    fig.send_draw_message();\n",
       "};\n",
       "\n",
       "mpl.figure.prototype.handle_image_mode = function (fig, msg) {\n",
       "    fig.image_mode = msg['mode'];\n",
       "};\n",
       "\n",
       "mpl.figure.prototype.handle_history_buttons = function (fig, msg) {\n",
       "    for (var key in msg) {\n",
       "        if (!(key in fig.buttons)) {\n",
       "            continue;\n",
       "        }\n",
       "        fig.buttons[key].disabled = !msg[key];\n",
       "        fig.buttons[key].setAttribute('aria-disabled', !msg[key]);\n",
       "    }\n",
       "};\n",
       "\n",
       "mpl.figure.prototype.handle_navigate_mode = function (fig, msg) {\n",
       "    if (msg['mode'] === 'PAN') {\n",
       "        fig.buttons['Pan'].classList.add('active');\n",
       "        fig.buttons['Zoom'].classList.remove('active');\n",
       "    } else if (msg['mode'] === 'ZOOM') {\n",
       "        fig.buttons['Pan'].classList.remove('active');\n",
       "        fig.buttons['Zoom'].classList.add('active');\n",
       "    } else {\n",
       "        fig.buttons['Pan'].classList.remove('active');\n",
       "        fig.buttons['Zoom'].classList.remove('active');\n",
       "    }\n",
       "};\n",
       "\n",
       "mpl.figure.prototype.updated_canvas_event = function () {\n",
       "    // Called whenever the canvas gets updated.\n",
       "    this.send_message('ack', {});\n",
       "};\n",
       "\n",
       "// A function to construct a web socket function for onmessage handling.\n",
       "// Called in the figure constructor.\n",
       "mpl.figure.prototype._make_on_message_function = function (fig) {\n",
       "    return function socket_on_message(evt) {\n",
       "        if (evt.data instanceof Blob) {\n",
       "            var img = evt.data;\n",
       "            if (img.type !== 'image/png') {\n",
       "                /* FIXME: We get \"Resource interpreted as Image but\n",
       "                 * transferred with MIME type text/plain:\" errors on\n",
       "                 * Chrome.  But how to set the MIME type?  It doesn't seem\n",
       "                 * to be part of the websocket stream */\n",
       "                img.type = 'image/png';\n",
       "            }\n",
       "\n",
       "            /* Free the memory for the previous frames */\n",
       "            if (fig.imageObj.src) {\n",
       "                (window.URL || window.webkitURL).revokeObjectURL(\n",
       "                    fig.imageObj.src\n",
       "                );\n",
       "            }\n",
       "\n",
       "            fig.imageObj.src = (window.URL || window.webkitURL).createObjectURL(\n",
       "                img\n",
       "            );\n",
       "            fig.updated_canvas_event();\n",
       "            fig.waiting = false;\n",
       "            return;\n",
       "        } else if (\n",
       "            typeof evt.data === 'string' &&\n",
       "            evt.data.slice(0, 21) === 'data:image/png;base64'\n",
       "        ) {\n",
       "            fig.imageObj.src = evt.data;\n",
       "            fig.updated_canvas_event();\n",
       "            fig.waiting = false;\n",
       "            return;\n",
       "        }\n",
       "\n",
       "        var msg = JSON.parse(evt.data);\n",
       "        var msg_type = msg['type'];\n",
       "\n",
       "        // Call the  \"handle_{type}\" callback, which takes\n",
       "        // the figure and JSON message as its only arguments.\n",
       "        try {\n",
       "            var callback = fig['handle_' + msg_type];\n",
       "        } catch (e) {\n",
       "            console.log(\n",
       "                \"No handler for the '\" + msg_type + \"' message type: \",\n",
       "                msg\n",
       "            );\n",
       "            return;\n",
       "        }\n",
       "\n",
       "        if (callback) {\n",
       "            try {\n",
       "                // console.log(\"Handling '\" + msg_type + \"' message: \", msg);\n",
       "                callback(fig, msg);\n",
       "            } catch (e) {\n",
       "                console.log(\n",
       "                    \"Exception inside the 'handler_\" + msg_type + \"' callback:\",\n",
       "                    e,\n",
       "                    e.stack,\n",
       "                    msg\n",
       "                );\n",
       "            }\n",
       "        }\n",
       "    };\n",
       "};\n",
       "\n",
       "// from https://stackoverflow.com/questions/1114465/getting-mouse-location-in-canvas\n",
       "mpl.findpos = function (e) {\n",
       "    //this section is from http://www.quirksmode.org/js/events_properties.html\n",
       "    var targ;\n",
       "    if (!e) {\n",
       "        e = window.event;\n",
       "    }\n",
       "    if (e.target) {\n",
       "        targ = e.target;\n",
       "    } else if (e.srcElement) {\n",
       "        targ = e.srcElement;\n",
       "    }\n",
       "    if (targ.nodeType === 3) {\n",
       "        // defeat Safari bug\n",
       "        targ = targ.parentNode;\n",
       "    }\n",
       "\n",
       "    // pageX,Y are the mouse positions relative to the document\n",
       "    var boundingRect = targ.getBoundingClientRect();\n",
       "    var x = e.pageX - (boundingRect.left + document.body.scrollLeft);\n",
       "    var y = e.pageY - (boundingRect.top + document.body.scrollTop);\n",
       "\n",
       "    return { x: x, y: y };\n",
       "};\n",
       "\n",
       "/*\n",
       " * return a copy of an object with only non-object keys\n",
       " * we need this to avoid circular references\n",
       " * https://stackoverflow.com/a/24161582/3208463\n",
       " */\n",
       "function simpleKeys(original) {\n",
       "    return Object.keys(original).reduce(function (obj, key) {\n",
       "        if (typeof original[key] !== 'object') {\n",
       "            obj[key] = original[key];\n",
       "        }\n",
       "        return obj;\n",
       "    }, {});\n",
       "}\n",
       "\n",
       "mpl.figure.prototype.mouse_event = function (event, name) {\n",
       "    var canvas_pos = mpl.findpos(event);\n",
       "\n",
       "    if (name === 'button_press') {\n",
       "        this.canvas.focus();\n",
       "        this.canvas_div.focus();\n",
       "    }\n",
       "\n",
       "    var x = canvas_pos.x * this.ratio;\n",
       "    var y = canvas_pos.y * this.ratio;\n",
       "\n",
       "    this.send_message(name, {\n",
       "        x: x,\n",
       "        y: y,\n",
       "        button: event.button,\n",
       "        step: event.step,\n",
       "        guiEvent: simpleKeys(event),\n",
       "    });\n",
       "\n",
       "    /* This prevents the web browser from automatically changing to\n",
       "     * the text insertion cursor when the button is pressed.  We want\n",
       "     * to control all of the cursor setting manually through the\n",
       "     * 'cursor' event from matplotlib */\n",
       "    event.preventDefault();\n",
       "    return false;\n",
       "};\n",
       "\n",
       "mpl.figure.prototype._key_event_extra = function (_event, _name) {\n",
       "    // Handle any extra behaviour associated with a key event\n",
       "};\n",
       "\n",
       "mpl.figure.prototype.key_event = function (event, name) {\n",
       "    // Prevent repeat events\n",
       "    if (name === 'key_press') {\n",
       "        if (event.key === this._key) {\n",
       "            return;\n",
       "        } else {\n",
       "            this._key = event.key;\n",
       "        }\n",
       "    }\n",
       "    if (name === 'key_release') {\n",
       "        this._key = null;\n",
       "    }\n",
       "\n",
       "    var value = '';\n",
       "    if (event.ctrlKey && event.key !== 'Control') {\n",
       "        value += 'ctrl+';\n",
       "    }\n",
       "    else if (event.altKey && event.key !== 'Alt') {\n",
       "        value += 'alt+';\n",
       "    }\n",
       "    else if (event.shiftKey && event.key !== 'Shift') {\n",
       "        value += 'shift+';\n",
       "    }\n",
       "\n",
       "    value += 'k' + event.key;\n",
       "\n",
       "    this._key_event_extra(event, name);\n",
       "\n",
       "    this.send_message(name, { key: value, guiEvent: simpleKeys(event) });\n",
       "    return false;\n",
       "};\n",
       "\n",
       "mpl.figure.prototype.toolbar_button_onclick = function (name) {\n",
       "    if (name === 'download') {\n",
       "        this.handle_save(this, null);\n",
       "    } else {\n",
       "        this.send_message('toolbar_button', { name: name });\n",
       "    }\n",
       "};\n",
       "\n",
       "mpl.figure.prototype.toolbar_button_onmouseover = function (tooltip) {\n",
       "    this.message.textContent = tooltip;\n",
       "};\n",
       "\n",
       "///////////////// REMAINING CONTENT GENERATED BY embed_js.py /////////////////\n",
       "// prettier-ignore\n",
       "var _JSXTOOLS_RESIZE_OBSERVER=function(A){var t,i=new WeakMap,n=new WeakMap,a=new WeakMap,r=new WeakMap,o=new Set;function s(e){if(!(this instanceof s))throw new TypeError(\"Constructor requires 'new' operator\");i.set(this,e)}function h(){throw new TypeError(\"Function is not a constructor\")}function c(e,t,i,n){e=0 in arguments?Number(arguments[0]):0,t=1 in arguments?Number(arguments[1]):0,i=2 in arguments?Number(arguments[2]):0,n=3 in arguments?Number(arguments[3]):0,this.right=(this.x=this.left=e)+(this.width=i),this.bottom=(this.y=this.top=t)+(this.height=n),Object.freeze(this)}function d(){t=requestAnimationFrame(d);var s=new WeakMap,p=new Set;o.forEach((function(t){r.get(t).forEach((function(i){var r=t instanceof window.SVGElement,o=a.get(t),d=r?0:parseFloat(o.paddingTop),f=r?0:parseFloat(o.paddingRight),l=r?0:parseFloat(o.paddingBottom),u=r?0:parseFloat(o.paddingLeft),g=r?0:parseFloat(o.borderTopWidth),m=r?0:parseFloat(o.borderRightWidth),w=r?0:parseFloat(o.borderBottomWidth),b=u+f,F=d+l,v=(r?0:parseFloat(o.borderLeftWidth))+m,W=g+w,y=r?0:t.offsetHeight-W-t.clientHeight,E=r?0:t.offsetWidth-v-t.clientWidth,R=b+v,z=F+W,M=r?t.width:parseFloat(o.width)-R-E,O=r?t.height:parseFloat(o.height)-z-y;if(n.has(t)){var k=n.get(t);if(k[0]===M&&k[1]===O)return}n.set(t,[M,O]);var S=Object.create(h.prototype);S.target=t,S.contentRect=new c(u,d,M,O),s.has(i)||(s.set(i,[]),p.add(i)),s.get(i).push(S)}))})),p.forEach((function(e){i.get(e).call(e,s.get(e),e)}))}return s.prototype.observe=function(i){if(i instanceof window.Element){r.has(i)||(r.set(i,new Set),o.add(i),a.set(i,window.getComputedStyle(i)));var n=r.get(i);n.has(this)||n.add(this),cancelAnimationFrame(t),t=requestAnimationFrame(d)}},s.prototype.unobserve=function(i){if(i instanceof window.Element&&r.has(i)){var n=r.get(i);n.has(this)&&(n.delete(this),n.size||(r.delete(i),o.delete(i))),n.size||r.delete(i),o.size||cancelAnimationFrame(t)}},A.DOMRectReadOnly=c,A.ResizeObserver=s,A.ResizeObserverEntry=h,A}; // eslint-disable-line\n",
       "mpl.toolbar_items = [[\"Home\", \"Reset original view\", \"fa fa-home icon-home\", \"home\"], [\"Back\", \"Back to previous view\", \"fa fa-arrow-left icon-arrow-left\", \"back\"], [\"Forward\", \"Forward to next view\", \"fa fa-arrow-right icon-arrow-right\", \"forward\"], [\"\", \"\", \"\", \"\"], [\"Pan\", \"Left button pans, Right button zooms\\nx/y fixes axis, CTRL fixes aspect\", \"fa fa-arrows icon-move\", \"pan\"], [\"Zoom\", \"Zoom to rectangle\\nx/y fixes axis\", \"fa fa-square-o icon-check-empty\", \"zoom\"], [\"\", \"\", \"\", \"\"], [\"Download\", \"Download plot\", \"fa fa-floppy-o icon-save\", \"download\"]];\n",
       "\n",
       "mpl.extensions = [\"eps\", \"jpeg\", \"pgf\", \"pdf\", \"png\", \"ps\", \"raw\", \"svg\", \"tif\"];\n",
       "\n",
       "mpl.default_extension = \"png\";/* global mpl */\n",
       "\n",
       "var comm_websocket_adapter = function (comm) {\n",
       "    // Create a \"websocket\"-like object which calls the given IPython comm\n",
       "    // object with the appropriate methods. Currently this is a non binary\n",
       "    // socket, so there is still some room for performance tuning.\n",
       "    var ws = {};\n",
       "\n",
       "    ws.binaryType = comm.kernel.ws.binaryType;\n",
       "    ws.readyState = comm.kernel.ws.readyState;\n",
       "    function updateReadyState(_event) {\n",
       "        if (comm.kernel.ws) {\n",
       "            ws.readyState = comm.kernel.ws.readyState;\n",
       "        } else {\n",
       "            ws.readyState = 3; // Closed state.\n",
       "        }\n",
       "    }\n",
       "    comm.kernel.ws.addEventListener('open', updateReadyState);\n",
       "    comm.kernel.ws.addEventListener('close', updateReadyState);\n",
       "    comm.kernel.ws.addEventListener('error', updateReadyState);\n",
       "\n",
       "    ws.close = function () {\n",
       "        comm.close();\n",
       "    };\n",
       "    ws.send = function (m) {\n",
       "        //console.log('sending', m);\n",
       "        comm.send(m);\n",
       "    };\n",
       "    // Register the callback with on_msg.\n",
       "    comm.on_msg(function (msg) {\n",
       "        //console.log('receiving', msg['content']['data'], msg);\n",
       "        var data = msg['content']['data'];\n",
       "        if (data['blob'] !== undefined) {\n",
       "            data = {\n",
       "                data: new Blob(msg['buffers'], { type: data['blob'] }),\n",
       "            };\n",
       "        }\n",
       "        // Pass the mpl event to the overridden (by mpl) onmessage function.\n",
       "        ws.onmessage(data);\n",
       "    });\n",
       "    return ws;\n",
       "};\n",
       "\n",
       "mpl.mpl_figure_comm = function (comm, msg) {\n",
       "    // This is the function which gets called when the mpl process\n",
       "    // starts-up an IPython Comm through the \"matplotlib\" channel.\n",
       "\n",
       "    var id = msg.content.data.id;\n",
       "    // Get hold of the div created by the display call when the Comm\n",
       "    // socket was opened in Python.\n",
       "    var element = document.getElementById(id);\n",
       "    var ws_proxy = comm_websocket_adapter(comm);\n",
       "\n",
       "    function ondownload(figure, _format) {\n",
       "        window.open(figure.canvas.toDataURL());\n",
       "    }\n",
       "\n",
       "    var fig = new mpl.figure(id, ws_proxy, ondownload, element);\n",
       "\n",
       "    // Call onopen now - mpl needs it, as it is assuming we've passed it a real\n",
       "    // web socket which is closed, not our websocket->open comm proxy.\n",
       "    ws_proxy.onopen();\n",
       "\n",
       "    fig.parent_element = element;\n",
       "    fig.cell_info = mpl.find_output_cell(\"<div id='\" + id + \"'></div>\");\n",
       "    if (!fig.cell_info) {\n",
       "        console.error('Failed to find cell for figure', id, fig);\n",
       "        return;\n",
       "    }\n",
       "    fig.cell_info[0].output_area.element.on(\n",
       "        'cleared',\n",
       "        { fig: fig },\n",
       "        fig._remove_fig_handler\n",
       "    );\n",
       "};\n",
       "\n",
       "mpl.figure.prototype.handle_close = function (fig, msg) {\n",
       "    var width = fig.canvas.width / fig.ratio;\n",
       "    fig.cell_info[0].output_area.element.off(\n",
       "        'cleared',\n",
       "        fig._remove_fig_handler\n",
       "    );\n",
       "    fig.resizeObserverInstance.unobserve(fig.canvas_div);\n",
       "\n",
       "    // Update the output cell to use the data from the current canvas.\n",
       "    fig.push_to_output();\n",
       "    var dataURL = fig.canvas.toDataURL();\n",
       "    // Re-enable the keyboard manager in IPython - without this line, in FF,\n",
       "    // the notebook keyboard shortcuts fail.\n",
       "    IPython.keyboard_manager.enable();\n",
       "    fig.parent_element.innerHTML =\n",
       "        '<img src=\"' + dataURL + '\" width=\"' + width + '\">';\n",
       "    fig.close_ws(fig, msg);\n",
       "};\n",
       "\n",
       "mpl.figure.prototype.close_ws = function (fig, msg) {\n",
       "    fig.send_message('closing', msg);\n",
       "    // fig.ws.close()\n",
       "};\n",
       "\n",
       "mpl.figure.prototype.push_to_output = function (_remove_interactive) {\n",
       "    // Turn the data on the canvas into data in the output cell.\n",
       "    var width = this.canvas.width / this.ratio;\n",
       "    var dataURL = this.canvas.toDataURL();\n",
       "    this.cell_info[1]['text/html'] =\n",
       "        '<img src=\"' + dataURL + '\" width=\"' + width + '\">';\n",
       "};\n",
       "\n",
       "mpl.figure.prototype.updated_canvas_event = function () {\n",
       "    // Tell IPython that the notebook contents must change.\n",
       "    IPython.notebook.set_dirty(true);\n",
       "    this.send_message('ack', {});\n",
       "    var fig = this;\n",
       "    // Wait a second, then push the new image to the DOM so\n",
       "    // that it is saved nicely (might be nice to debounce this).\n",
       "    setTimeout(function () {\n",
       "        fig.push_to_output();\n",
       "    }, 1000);\n",
       "};\n",
       "\n",
       "mpl.figure.prototype._init_toolbar = function () {\n",
       "    var fig = this;\n",
       "\n",
       "    var toolbar = document.createElement('div');\n",
       "    toolbar.classList = 'btn-toolbar';\n",
       "    this.root.appendChild(toolbar);\n",
       "\n",
       "    function on_click_closure(name) {\n",
       "        return function (_event) {\n",
       "            return fig.toolbar_button_onclick(name);\n",
       "        };\n",
       "    }\n",
       "\n",
       "    function on_mouseover_closure(tooltip) {\n",
       "        return function (event) {\n",
       "            if (!event.currentTarget.disabled) {\n",
       "                return fig.toolbar_button_onmouseover(tooltip);\n",
       "            }\n",
       "        };\n",
       "    }\n",
       "\n",
       "    fig.buttons = {};\n",
       "    var buttonGroup = document.createElement('div');\n",
       "    buttonGroup.classList = 'btn-group';\n",
       "    var button;\n",
       "    for (var toolbar_ind in mpl.toolbar_items) {\n",
       "        var name = mpl.toolbar_items[toolbar_ind][0];\n",
       "        var tooltip = mpl.toolbar_items[toolbar_ind][1];\n",
       "        var image = mpl.toolbar_items[toolbar_ind][2];\n",
       "        var method_name = mpl.toolbar_items[toolbar_ind][3];\n",
       "\n",
       "        if (!name) {\n",
       "            /* Instead of a spacer, we start a new button group. */\n",
       "            if (buttonGroup.hasChildNodes()) {\n",
       "                toolbar.appendChild(buttonGroup);\n",
       "            }\n",
       "            buttonGroup = document.createElement('div');\n",
       "            buttonGroup.classList = 'btn-group';\n",
       "            continue;\n",
       "        }\n",
       "\n",
       "        button = fig.buttons[name] = document.createElement('button');\n",
       "        button.classList = 'btn btn-default';\n",
       "        button.href = '#';\n",
       "        button.title = name;\n",
       "        button.innerHTML = '<i class=\"fa ' + image + ' fa-lg\"></i>';\n",
       "        button.addEventListener('click', on_click_closure(method_name));\n",
       "        button.addEventListener('mouseover', on_mouseover_closure(tooltip));\n",
       "        buttonGroup.appendChild(button);\n",
       "    }\n",
       "\n",
       "    if (buttonGroup.hasChildNodes()) {\n",
       "        toolbar.appendChild(buttonGroup);\n",
       "    }\n",
       "\n",
       "    // Add the status bar.\n",
       "    var status_bar = document.createElement('span');\n",
       "    status_bar.classList = 'mpl-message pull-right';\n",
       "    toolbar.appendChild(status_bar);\n",
       "    this.message = status_bar;\n",
       "\n",
       "    // Add the close button to the window.\n",
       "    var buttongrp = document.createElement('div');\n",
       "    buttongrp.classList = 'btn-group inline pull-right';\n",
       "    button = document.createElement('button');\n",
       "    button.classList = 'btn btn-mini btn-primary';\n",
       "    button.href = '#';\n",
       "    button.title = 'Stop Interaction';\n",
       "    button.innerHTML = '<i class=\"fa fa-power-off icon-remove icon-large\"></i>';\n",
       "    button.addEventListener('click', function (_evt) {\n",
       "        fig.handle_close(fig, {});\n",
       "    });\n",
       "    button.addEventListener(\n",
       "        'mouseover',\n",
       "        on_mouseover_closure('Stop Interaction')\n",
       "    );\n",
       "    buttongrp.appendChild(button);\n",
       "    var titlebar = this.root.querySelector('.ui-dialog-titlebar');\n",
       "    titlebar.insertBefore(buttongrp, titlebar.firstChild);\n",
       "};\n",
       "\n",
       "mpl.figure.prototype._remove_fig_handler = function (event) {\n",
       "    var fig = event.data.fig;\n",
       "    if (event.target !== this) {\n",
       "        // Ignore bubbled events from children.\n",
       "        return;\n",
       "    }\n",
       "    fig.close_ws(fig, {});\n",
       "};\n",
       "\n",
       "mpl.figure.prototype._root_extra_style = function (el) {\n",
       "    el.style.boxSizing = 'content-box'; // override notebook setting of border-box.\n",
       "};\n",
       "\n",
       "mpl.figure.prototype._canvas_extra_style = function (el) {\n",
       "    // this is important to make the div 'focusable\n",
       "    el.setAttribute('tabindex', 0);\n",
       "    // reach out to IPython and tell the keyboard manager to turn it's self\n",
       "    // off when our div gets focus\n",
       "\n",
       "    // location in version 3\n",
       "    if (IPython.notebook.keyboard_manager) {\n",
       "        IPython.notebook.keyboard_manager.register_events(el);\n",
       "    } else {\n",
       "        // location in version 2\n",
       "        IPython.keyboard_manager.register_events(el);\n",
       "    }\n",
       "};\n",
       "\n",
       "mpl.figure.prototype._key_event_extra = function (event, _name) {\n",
       "    // Check for shift+enter\n",
       "    if (event.shiftKey && event.which === 13) {\n",
       "        this.canvas_div.blur();\n",
       "        // select the cell after this one\n",
       "        var index = IPython.notebook.find_cell_index(this.cell_info[0]);\n",
       "        IPython.notebook.select(index + 1);\n",
       "    }\n",
       "};\n",
       "\n",
       "mpl.figure.prototype.handle_save = function (fig, _msg) {\n",
       "    fig.ondownload(fig, null);\n",
       "};\n",
       "\n",
       "mpl.find_output_cell = function (html_output) {\n",
       "    // Return the cell and output element which can be found *uniquely* in the notebook.\n",
       "    // Note - this is a bit hacky, but it is done because the \"notebook_saving.Notebook\"\n",
       "    // IPython event is triggered only after the cells have been serialised, which for\n",
       "    // our purposes (turning an active figure into a static one), is too late.\n",
       "    var cells = IPython.notebook.get_cells();\n",
       "    var ncells = cells.length;\n",
       "    for (var i = 0; i < ncells; i++) {\n",
       "        var cell = cells[i];\n",
       "        if (cell.cell_type === 'code') {\n",
       "            for (var j = 0; j < cell.output_area.outputs.length; j++) {\n",
       "                var data = cell.output_area.outputs[j];\n",
       "                if (data.data) {\n",
       "                    // IPython >= 3 moved mimebundle to data attribute of output\n",
       "                    data = data.data;\n",
       "                }\n",
       "                if (data['text/html'] === html_output) {\n",
       "                    return [cell, data, j];\n",
       "                }\n",
       "            }\n",
       "        }\n",
       "    }\n",
       "};\n",
       "\n",
       "// Register the function which deals with the matplotlib target/channel.\n",
       "// The kernel may be null if the page has been refreshed.\n",
       "if (IPython.notebook.kernel !== null) {\n",
       "    IPython.notebook.kernel.comm_manager.register_target(\n",
       "        'matplotlib',\n",
       "        mpl.mpl_figure_comm\n",
       "    );\n",
       "}\n"
      ],
      "text/plain": [
       "<IPython.core.display.Javascript object>"
      ]
     },
     "metadata": {},
     "output_type": "display_data"
    },
    {
     "data": {
      "text/html": [
       "<img src=\"data:image/png;base64,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\" width=\"512\">"
      ],
>>>>>>> 6d906172164c2d37dc504a343e6e6ea59a6a4f62
      "text/plain": [
       "<IPython.core.display.HTML object>"
      ]
     },
     "metadata": {},
     "output_type": "display_data"
    }
   ],
   "source": [
    "import matplotlib.pyplot as plt\n",
    "\n",
    "\n",
    "env = make_env()\n",
    "env.reset()\n",
    "n_actions = env.action_space.n\n",
    "state_shape = env.observation_space.shape\n",
    "plt.imshow(env.render(\"rgb_array\"))\n",
    "plt.show()"
   ]
  },
  {
   "cell_type": "code",
<<<<<<< HEAD
   "execution_count": 24,
=======
   "execution_count": 82,
>>>>>>> 6d906172164c2d37dc504a343e6e6ea59a6a4f62
   "metadata": {},
   "outputs": [],
   "source": [
    "env.close()"
   ]
  },
  {
   "cell_type": "markdown",
   "metadata": {
    "id": "G50410K00QxR"
   },
   "source": [
    "## Building a network"
   ]
  },
  {
   "cell_type": "markdown",
   "metadata": {
    "id": "5FO6W5fj0QxR"
   },
   "source": [
    "We now need to build a neural network that can map observations to state q-values.\n",
    "The model does not have to be huge yet. 1-2 hidden layers with < 200 neurons and ReLU activation will probably be enough. Batch normalization and dropout can spoil everything here."
   ]
  },
  {
   "cell_type": "code",
<<<<<<< HEAD
   "execution_count": 84,
   "metadata": {},
   "outputs": [
    {
     "data": {
      "text/plain": [
       "tensor(0.5230)"
      ]
     },
     "execution_count": 84,
     "metadata": {},
     "output_type": "execute_result"
    }
   ],
   "source": [
    "torch.rand(size=(32, 2)).mean()"
   ]
  },
  {
   "cell_type": "code",
   "execution_count": 153,
=======
   "execution_count": 4,
>>>>>>> 6d906172164c2d37dc504a343e6e6ea59a6a4f62
   "metadata": {
    "id": "V7HdaIfn0QxR"
   },
   "outputs": [],
   "source": [
    "import numpy as np\n",
    "import torch\n",
    "import torch.nn as nn\n",
    "import torch.nn.functional as F\n",
    "\n",
    "\n",
    "class DQNAgent(nn.Module):\n",
    "    def __init__(self, state_shape, n_actions, epsilon=0):\n",
    "        super().__init__()\n",
    "        self.epsilon = epsilon\n",
    "        self.n_actions = n_actions\n",
    "        self.state_dim = state_shape[0]\n",
    "\n",
    "        # YOUR CODE HERE\n",
    "        # Define your network body here.\n",
    "        self.fc_network = nn.Sequential(\n",
    "            nn.Linear(self.state_dim, 128),\n",
    "            nn.ReLU(),\n",
    "            nn.Linear(128, 64),\n",
    "            nn.ReLU()\n",
    "        )\n",
    "        self.value_linear = nn.Sequential(\n",
    "            nn.Linear(64, 16),\n",
    "            nn.ReLU(),\n",
    "            nn.Linear(16, 1)\n",
    "        )\n",
    "        \n",
    "        self.advantage_linear = nn.Sequential(\n",
    "            nn.Linear(64, 16),\n",
    "            nn.ReLU(),\n",
    "            nn.Linear(16, n_actions)\n",
    "        )\n",
    "\n",
    "    def forward(self, state_t):\n",
    "        \"\"\"\n",
    "        takes agent's observation (tensor), returns qvalues (tensor)\n",
    "        :param state_t: a batch states, shape = [batch_size, *state_dim=4]\n",
    "        \"\"\"\n",
    "        # YOUR CODE HERE\n",
    "        # Use your network to compute qvalues for given state\n",
    "        features = self.fc_network(state_t)\n",
    "        \n",
    "        values = self.value_linear(features)\n",
    "        advantages = self.advantage_linear(features)\n",
    "        \n",
    "        qvalues = values + (advantages - advantages.mean())\n",
    "\n",
    "        assert qvalues.requires_grad, \"qvalues must be a torch tensor with grad\"\n",
    "        assert (\n",
    "            len(qvalues.shape) == 2\n",
    "            and qvalues.shape[0] == state_t.shape[0]\n",
    "            and qvalues.shape[1] == n_actions\n",
    "        )\n",
    "\n",
    "        return qvalues\n",
    "\n",
    "    def get_qvalues(self, states):\n",
    "        \"\"\"\n",
    "        like forward, but works on numpy arrays, not tensors\n",
    "        \"\"\"\n",
    "        model_device = next(self.parameters()).device\n",
    "        states = torch.tensor(states, device=model_device, dtype=torch.float32)\n",
    "        qvalues = self(states)\n",
    "        return qvalues.detach().cpu().numpy()\n",
    "\n",
    "    def sample_actions(self, qvalues):\n",
    "        \"\"\"pick actions given qvalues. Uses epsilon-greedy exploration strategy. \"\"\"\n",
    "        epsilon = self.epsilon\n",
    "        batch_size, n_actions = qvalues.shape\n",
    "\n",
    "        random_actions = np.random.choice(n_actions, size=batch_size)\n",
    "        best_actions = qvalues.argmax(axis=-1)\n",
    "\n",
    "        should_explore = np.random.choice([0, 1], batch_size, p=[1 - epsilon, epsilon])\n",
    "        return np.where(should_explore, random_actions, best_actions)"
   ]
  },
  {
   "cell_type": "code",
<<<<<<< HEAD
   "execution_count": 154,
=======
   "execution_count": 5,
>>>>>>> 6d906172164c2d37dc504a343e6e6ea59a6a4f62
   "metadata": {
    "id": "7daBC1Mh0QxS"
   },
   "outputs": [],
   "source": [
    "device = torch.device('cuda:0' if torch.cuda.is_available() else 'cpu')\n",
    "agent = DQNAgent(state_shape, n_actions, epsilon=0.5).to(device)"
   ]
  },
  {
   "cell_type": "markdown",
   "metadata": {
    "id": "CkxvUUhl0QxS"
   },
   "source": [
    "Now let's try out our agent to see if it raises any errors."
   ]
  },
  {
   "cell_type": "code",
<<<<<<< HEAD
   "execution_count": 155,
=======
   "execution_count": 6,
>>>>>>> 6d906172164c2d37dc504a343e6e6ea59a6a4f62
   "metadata": {
    "id": "ga4r7rl60QxT"
   },
   "outputs": [],
   "source": [
    "def evaluate(env, agent, n_games=5, greedy=False, t_max=10000, render=False):\n",
    "    \"\"\" Plays n_games full games. If greedy, picks actions as argmax(qvalues). Returns mean reward. \"\"\"\n",
    "    rewards = []\n",
    "    for _ in range(n_games):\n",
    "        s = env.reset()\n",
    "        reward = 0\n",
    "        for _ in range(t_max):\n",
    "            if render:\n",
    "                env.render()\n",
    "            qvalues = agent.get_qvalues([s])\n",
    "            if greedy:\n",
    "                action = qvalues.argmax(axis=-1)[0]\n",
    "            else:\n",
    "                action = agent.sample_actions(qvalues)[0]\n",
    "\n",
    "            s, r, done, _ = env.step(action)\n",
    "            reward += r\n",
    "            if done:\n",
    "                break\n",
    "\n",
    "        rewards.append(reward)\n",
    "    \n",
    "    env.close()\n",
    "    \n",
    "    return np.mean(rewards)"
   ]
  },
  {
   "cell_type": "code",
<<<<<<< HEAD
   "execution_count": 156,
=======
   "execution_count": 7,
>>>>>>> 6d906172164c2d37dc504a343e6e6ea59a6a4f62
   "metadata": {
    "id": "z971Dp5J0QxT"
   },
   "outputs": [
    {
     "name": "stderr",
     "output_type": "stream",
     "text": [
      "C:\\Users\\Алексей\\AppData\\Local\\Temp\\ipykernel_860\\549972733.py:47: UserWarning: Creating a tensor from a list of numpy.ndarrays is extremely slow. Please consider converting the list to a single numpy.ndarray with numpy.array() before converting to a tensor. (Triggered internally at  C:\\cb\\pytorch_1000000000000\\work\\torch\\csrc\\utils\\tensor_new.cpp:204.)\n",
      "  states = torch.tensor(states, device=model_device, dtype=torch.float32)\n"
     ]
    },
    {
     "data": {
      "text/plain": [
<<<<<<< HEAD
       "9.0"
      ]
     },
     "execution_count": 156,
=======
       "14.0"
      ]
     },
     "execution_count": 7,
>>>>>>> 6d906172164c2d37dc504a343e6e6ea59a6a4f62
     "metadata": {},
     "output_type": "execute_result"
    }
   ],
   "source": [
    "evaluate(env, agent, n_games=1, render=True)"
   ]
  },
  {
   "cell_type": "markdown",
   "metadata": {
    "id": "-ybEuEmV0QxT"
   },
   "source": [
    "## Experience replay\n",
    "For this assignment, we provide you with experience replay buffer. If you implemented experience replay buffer in previous bonus assigments, you can copy-paste it here in main notebook.\n",
    "\n",
    "![img](https://github.com/yandexdataschool/Practical_RL/raw/master/yet_another_week/_resource/exp_replay.png)"
   ]
  },
  {
   "cell_type": "markdown",
   "metadata": {
    "id": "J6iaSlmh0QxT"
   },
   "source": [
    "#### The interface is fairly simple:\n",
    "* `exp_replay.add(obs, act, rw, next_obs, done)` - saves (s,a,r,s',done) tuple into the buffer\n",
    "* `exp_replay.sample(batch_size)` - returns observations, actions, rewards, next_observations and is_done for `batch_size` random samples.\n",
    "* `len(exp_replay)` - returns number of elements stored in replay buffer."
   ]
  },
  {
   "cell_type": "code",
<<<<<<< HEAD
   "execution_count": 157,
=======
   "execution_count": 8,
>>>>>>> 6d906172164c2d37dc504a343e6e6ea59a6a4f62
   "metadata": {
    "id": "HyY9sm470QxT"
   },
   "outputs": [],
   "source": [
    "from replay_buffer import ReplayBuffer\n",
    "\n",
    "\n",
    "exp_replay = ReplayBuffer(10)\n",
    "\n",
    "for _ in range(30):\n",
    "    exp_replay.add(env.reset(), env.action_space.sample(), 1.0, env.reset(), done=False)\n",
    "\n",
    "obs_batch, act_batch, reward_batch, next_obs_batch, is_done_batch = exp_replay.sample(5)\n",
    "\n",
    "assert (\n",
    "    len(exp_replay) == 10\n",
    "), \"experience replay size should be 10 because that's what maximum capacity is\""
   ]
  },
  {
   "cell_type": "code",
<<<<<<< HEAD
   "execution_count": 158,
=======
   "execution_count": 9,
>>>>>>> 6d906172164c2d37dc504a343e6e6ea59a6a4f62
   "metadata": {
    "id": "xMAgRDmQ0QxU"
   },
   "outputs": [],
   "source": [
    "def play_and_record(initial_state, agent, env, exp_replay, n_steps=1):\n",
    "    \"\"\"\n",
    "    Play the game for exactly n steps, record every (s,a,r,s', done) to replay buffer.\n",
    "    Whenever game ends, add record with done=True and reset the game.\n",
    "    It is guaranteed that env has done=False when passed to this function.\n",
    "\n",
    "    PLEASE DO NOT RESET ENV UNLESS IT IS \"DONE\"\n",
    "\n",
    "    :returns: return sum of rewards over time and the state in which the env stays\n",
    "    \"\"\"\n",
    "    state = initial_state\n",
    "    sum_rewards = 0\n",
    "\n",
    "    # YOUR CODE HERE\n",
    "    # Play the game for n_steps as per instructions above\n",
    "    for _ in range(n_steps):\n",
    "        qvalues = agent.get_qvalues([state])\n",
    "        action = agent.sample_actions(qvalues)[0]\n",
    "\n",
    "        next_state, reward, done, _ = env.step(action)\n",
    "        \n",
    "        exp_replay.add(state, action, reward, next_state, done)\n",
    "        \n",
    "        sum_rewards += reward\n",
    "        state = next_state  \n",
    "        \n",
    "        if done:\n",
    "            state = env.reset()\n",
    "\n",
    "    return sum_rewards, next_state"
   ]
  },
  {
   "cell_type": "code",
<<<<<<< HEAD
   "execution_count": 159,
=======
   "execution_count": 10,
>>>>>>> 6d906172164c2d37dc504a343e6e6ea59a6a4f62
   "metadata": {
    "id": "FAApDtew0QxU"
   },
   "outputs": [
    {
     "name": "stdout",
     "output_type": "stream",
     "text": [
      "Well done!\n"
     ]
    }
   ],
   "source": [
    "# testing your code.\n",
    "exp_replay = ReplayBuffer(2000)\n",
    "\n",
    "state = env.reset()\n",
    "play_and_record(state, agent, env, exp_replay, n_steps=1000)\n",
    "\n",
    "# if you're using your own experience replay buffer, some of those tests may need correction.\n",
    "# just make sure you know what your code does\n",
    "assert (\n",
    "    len(exp_replay) == 1000\n",
    "), \"play_and_record should have added exactly 1000 steps, \" \"but instead added %i\" % len(exp_replay)\n",
    "is_dones = list(zip(*exp_replay._storage))[-1]\n",
    "\n",
    "assert 0 < np.mean(is_dones) < 0.1, (\n",
    "    f\"Please make sure you restart the game whenever it is 'done' and record the is_done correctly into the buffer.\"\n",
    "    f\"Got {np.mean(is_dones)} is_done rate over {len(exp_replay)} steps. [If you think it's your tough luck, just re-run the test]\"\n",
    ")\n",
    "\n",
    "for _ in range(100):\n",
    "    obs_batch, act_batch, reward_batch, next_obs_batch, is_done_batch = exp_replay.sample(10)\n",
    "    assert obs_batch.shape == next_obs_batch.shape == (10,) + state_shape\n",
    "    assert act_batch.shape == (\n",
    "        10,\n",
    "    ), \"actions batch should have shape (10,) but is instead %s\" % str(act_batch.shape)\n",
    "    assert reward_batch.shape == (\n",
    "        10,\n",
    "    ), \"rewards batch should have shape (10,) but is instead %s\" % str(reward_batch.shape)\n",
    "    assert is_done_batch.shape == (\n",
    "        10,\n",
    "    ), \"is_done batch should have shape (10,) but is instead %s\" % str(is_done_batch.shape)\n",
    "    assert [int(i) in (0, 1) for i in is_dones], \"is_done should be strictly True or False\"\n",
    "    assert [0 <= a < n_actions for a in act_batch], \"actions should be within [0, n_actions]\"\n",
    "\n",
    "print(\"Well done!\")"
   ]
  },
  {
   "cell_type": "markdown",
   "metadata": {
    "id": "-RPRhuaQ0QxU"
   },
   "source": [
    "## Target networks\n",
    "\n",
    "We also employ the so called \"target network\" - a copy of neural network weights to be used for reference Q-values:\n",
    "\n",
    "The network itself is an exact copy of agent network, but it's parameters are not trained. Instead, they are moved here from agent's actual network every so often.\n",
    "\n",
    "$$ Q_{reference}(s,a) = r + \\gamma \\cdot \\max _{a'} Q_{target}(s',a') $$\n",
    "\n",
    "![img](https://github.com/yandexdataschool/Practical_RL/raw/master/yet_another_week/_resource/target_net.png)"
   ]
  },
  {
   "cell_type": "code",
<<<<<<< HEAD
   "execution_count": 160,
=======
   "execution_count": 11,
>>>>>>> 6d906172164c2d37dc504a343e6e6ea59a6a4f62
   "metadata": {
    "id": "e1qJmM_o0QxU"
   },
   "outputs": [
    {
     "data": {
      "text/plain": [
       "<All keys matched successfully>"
      ]
     },
<<<<<<< HEAD
     "execution_count": 160,
=======
     "execution_count": 11,
>>>>>>> 6d906172164c2d37dc504a343e6e6ea59a6a4f62
     "metadata": {},
     "output_type": "execute_result"
    }
   ],
   "source": [
    "target_network = DQNAgent(state_shape, n_actions, epsilon=0.5).to(device)\n",
    "# This is how you can load weights from agent into target network\n",
    "target_network.load_state_dict(agent.state_dict())"
   ]
  },
  {
   "cell_type": "markdown",
   "metadata": {
    "id": "5Sfe-ZeX0QxU"
   },
   "source": [
    "## Learning with... Q-learning\n",
    "Here we write a function similar to `agent.update` from tabular q-learning."
   ]
  },
  {
   "cell_type": "markdown",
   "metadata": {
    "id": "t7xMi87d0QxU"
   },
   "source": [
    "Compute Q-learning TD error:\n",
    "\n",
    "$$ L = { 1 \\over N} \\sum_i [ Q_{\\theta}(s,a) - Q_{reference}(s,a) ] ^2 $$\n",
    "\n",
    "With Q-reference defined as\n",
    "\n",
    "$$ Q_{reference}(s,a) = r(s,a) + \\gamma \\cdot max_{a'} Q_{target}(s', a') $$\n",
    "\n",
    "Where\n",
    "* $Q_{target}(s',a')$ denotes q-value of next state and next action predicted by __target_network__\n",
    "* $s, a, r, s'$ are current state, action, reward and next state respectively\n",
    "* $\\gamma$ is a discount factor defined two cells above.\n",
    "\n",
    "\n",
    "__Note 1:__ there's an example input below. Feel free to experiment with it before you write the function.\n",
    "\n",
    "__Note 2:__ compute_td_loss is a source of 99% of bugs in this homework. If reward doesn't improve, it often helps to go through it line by line [with a rubber duck](https://rubberduckdebugging.com/)."
   ]
  },
  {
   "cell_type": "code",
<<<<<<< HEAD
   "execution_count": 161,
=======
   "execution_count": 12,
>>>>>>> 6d906172164c2d37dc504a343e6e6ea59a6a4f62
   "metadata": {
    "id": "jl12tQsN0QxU"
   },
   "outputs": [],
   "source": [
    "def compute_td_loss(\n",
    "    states,\n",
    "    actions,\n",
    "    rewards,\n",
    "    next_states,\n",
    "    done,\n",
    "    agent,\n",
    "    target_network,\n",
    "    gamma=0.99,\n",
    "    check_shapes=False,\n",
    "):\n",
    "    \"\"\"Compute td loss using torch operations only. Use the formula above.\"\"\"\n",
    "    states = torch.tensor(\n",
    "        states, device=device, dtype=torch.float32\n",
    "    )  # shape: [batch_size, state_size]\n",
    "    actions = torch.tensor(actions, device=device, dtype=torch.long)  # shape: [batch_size]\n",
    "    rewards = torch.tensor(rewards, device=device, dtype=torch.float32)  # shape: [batch_size]\n",
    "    next_states = torch.tensor(\n",
    "        next_states, device=device, dtype=torch.float32\n",
    "    )  # shape: [batch_size, state_size]\n",
    "    done = torch.tensor(done, device=device, dtype=torch.bool)  # shape: [batch_size]\n",
    "\n",
    "    # get q-values for all actions in current states\n",
    "    predicted_qvalues = agent(states)\n",
    "\n",
    "    # select q-values for chosen actions\n",
    "    predicted_qvalues_for_actions = predicted_qvalues[range(states.shape[0]), actions]\n",
    "\n",
    "    # compute q-values for all actions in next states\n",
    "    predicted_next_qvalues = target_network(next_states)\n",
    "\n",
    "    # YOUR CODE HERE\n",
    "    # compute V*(next_states) using predicted next q-values\n",
    "    # next_state_values = ...\n",
    "    next_state_values = torch.max(predicted_next_qvalues, dim=1).values\n",
    "\n",
    "    assert next_state_values.dtype == torch.float32\n",
    "\n",
    "    # YOUR CODE HERE\n",
    "    # compute \"target q-values\" for loss - it's what's inside square parentheses in the above formula.\n",
    "    # at the last state we shall use simplified formula: Q(s,a) = r(s,a) since s' doesn't exist\n",
    "    # target_qvalues_for_actions = ...\n",
    "    target_qvalues_for_actions = rewards + gamma * next_state_values\n",
    "    target_qvalues_for_actions = torch.where(done, rewards, target_qvalues_for_actions)\n",
    "\n",
    "    # mean squared error loss to minimize\n",
    "    loss = F.mse_loss(predicted_qvalues_for_actions, target_qvalues_for_actions.detach())\n",
    "\n",
    "    if check_shapes:\n",
    "        assert (\n",
    "            predicted_next_qvalues.data.dim() == 2\n",
    "        ), \"make sure you predicted q-values for all actions in next state\"\n",
    "        assert (\n",
    "            next_state_values.data.dim() == 1\n",
    "        ), \"make sure you computed V(s') as maximum over just the actions axis and not all axes\"\n",
    "        assert (\n",
    "            target_qvalues_for_actions.data.dim() == 1\n",
    "        ), \"there's something wrong with target q-values, they must be a vector\"\n",
    "\n",
    "    return loss"
   ]
  },
  {
   "cell_type": "markdown",
   "metadata": {
    "id": "VoaPUkf20QxV"
   },
   "source": [
    "Sanity checks"
   ]
  },
  {
   "cell_type": "code",
<<<<<<< HEAD
   "execution_count": 162,
=======
   "execution_count": 13,
>>>>>>> 6d906172164c2d37dc504a343e6e6ea59a6a4f62
   "metadata": {
    "id": "v9sHc3KV0QxV"
   },
   "outputs": [],
   "source": [
    "obs_batch, act_batch, reward_batch, next_obs_batch, is_done_batch = exp_replay.sample(10)\n",
    "\n",
    "loss = compute_td_loss(\n",
    "    obs_batch,\n",
    "    act_batch,\n",
    "    reward_batch,\n",
    "    next_obs_batch,\n",
    "    is_done_batch,\n",
    "    agent,\n",
    "    target_network,\n",
    "    gamma=0.99,\n",
    "    check_shapes=True,\n",
    ")\n",
    "loss.backward()\n",
    "\n",
    "assert (\n",
    "    loss.requires_grad and tuple(loss.data.size()) == ()\n",
    "), \"you must return scalar loss - mean over batch\"\n",
    "assert np.any(\n",
    "    next(agent.parameters()).grad.data.cpu().numpy() != 0\n",
    "), \"loss must be differentiable w.r.t. network weights\"\n",
    "assert np.all(\n",
    "    next(target_network.parameters()).grad is None\n",
    "), \"target network should not have grads\""
   ]
  },
  {
   "cell_type": "markdown",
   "metadata": {
    "id": "DyNJ7lXa0QxV"
   },
   "source": [
    "## Main loop\n",
    "\n",
    "It's time to put everything together and see if it learns anything."
   ]
  },
  {
   "cell_type": "code",
<<<<<<< HEAD
   "execution_count": 163,
=======
   "execution_count": 26,
>>>>>>> 6d906172164c2d37dc504a343e6e6ea59a6a4f62
   "metadata": {
    "id": "QprJNbKq0QxV"
   },
   "outputs": [
    {
     "data": {
      "text/plain": [
       "<All keys matched successfully>"
      ]
     },
<<<<<<< HEAD
     "execution_count": 163,
=======
     "execution_count": 26,
>>>>>>> 6d906172164c2d37dc504a343e6e6ea59a6a4f62
     "metadata": {},
     "output_type": "execute_result"
    }
   ],
   "source": [
    "# YOUR CODE HERE\n",
    "# Choose your favourite seed.\n",
    "# seed = ...\n",
    "seed = 42\n",
    "\n",
    "env = make_env(seed)\n",
    "state = env.reset()\n",
    "\n",
    "agent = DQNAgent(state_shape, n_actions, epsilon=1).to(device)\n",
    "target_network = DQNAgent(state_shape, n_actions, epsilon=1).to(device)\n",
    "target_network.load_state_dict(agent.state_dict())"
   ]
  },
  {
   "cell_type": "code",
<<<<<<< HEAD
   "execution_count": 164,
=======
   "execution_count": 27,
>>>>>>> 6d906172164c2d37dc504a343e6e6ea59a6a4f62
   "metadata": {
    "id": "-mhYAEBO0QxV"
   },
   "outputs": [
    {
     "name": "stdout",
     "output_type": "stream",
     "text": [
      "10000\n"
     ]
    }
   ],
   "source": [
    "import utils\n",
    "\n",
    "\n",
    "exp_replay = ReplayBuffer(int(1e4))\n",
    "for i in range(100):\n",
    "    if not utils.is_enough_ram(min_available_gb=0.1):\n",
    "        print(\n",
    "            \"\"\"\n",
    "            Less than 100 Mb RAM available. \n",
    "            Make sure the buffer size in not too huge.\n",
    "            Also check, maybe other processes consume RAM heavily.\n",
    "            \"\"\"\n",
    "        )\n",
    "        break\n",
    "\n",
    "    play_and_record(state, agent, env, exp_replay, n_steps=100)\n",
    "\n",
    "print(len(exp_replay))"
   ]
  },
  {
   "cell_type": "markdown",
   "metadata": {
    "id": "n3Wisoj9b7Nk"
   },
   "source": [
    "Don't hesitate to play with the hyperparameters in the following cell."
   ]
  },
  {
   "cell_type": "code",
<<<<<<< HEAD
   "execution_count": 165,
=======
   "execution_count": 28,
>>>>>>> 6d906172164c2d37dc504a343e6e6ea59a6a4f62
   "metadata": {
    "id": "xEyjCvMt0QxV"
   },
   "outputs": [],
   "source": [
    "timesteps_per_epoch = int(10)\n",
    "batch_size = 32\n",
    "total_steps = int(5e4)\n",
    "decay_steps = 3e4\n",
    "\n",
    "opt = torch.optim.Adam(agent.parameters(), lr=1e-4)\n",
    "\n",
    "init_epsilon = 0.7\n",
    "final_epsilon = 0.1\n",
    "\n",
    "loss_freq = 20\n",
    "refresh_target_network_freq = 100\n",
    "eval_freq = 1000\n",
    "\n",
    "max_grad_norm = 50"
   ]
  },
  {
   "cell_type": "code",
<<<<<<< HEAD
   "execution_count": 166,
=======
   "execution_count": 29,
>>>>>>> 6d906172164c2d37dc504a343e6e6ea59a6a4f62
   "metadata": {
    "id": "hpi2xw-30QxW"
   },
   "outputs": [],
   "source": [
    "mean_rw_history = []\n",
    "td_loss_history = []\n",
    "grad_norm_history = []\n",
    "initial_state_v_history = []"
   ]
  },
  {
   "cell_type": "code",
<<<<<<< HEAD
   "execution_count": 167,
=======
   "execution_count": 30,
>>>>>>> 6d906172164c2d37dc504a343e6e6ea59a6a4f62
   "metadata": {
    "id": "wGuYZZgg0QxW",
    "scrolled": false
   },
   "outputs": [
    {
     "name": "stdout",
     "output_type": "stream",
     "text": [
      "buffer size = 10000, epsilon = 0.10000\n"
     ]
    },
    {
     "data": {
<<<<<<< HEAD
      "image/png": "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\n",
=======
      "image/png": "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\n",
>>>>>>> 6d906172164c2d37dc504a343e6e6ea59a6a4f62
      "text/plain": [
       "<Figure size 1152x648 with 4 Axes>"
      ]
     },
     "metadata": {
      "needs_background": "light"
     },
     "output_type": "display_data"
<<<<<<< HEAD
=======
    },
    {
     "ename": "KeyboardInterrupt",
     "evalue": "",
     "output_type": "error",
     "traceback": [
      "\u001b[1;31m---------------------------------------------------------------------------\u001b[0m",
      "\u001b[1;31mKeyboardInterrupt\u001b[0m                         Traceback (most recent call last)",
      "Input \u001b[1;32mIn [30]\u001b[0m, in \u001b[0;36m<cell line: 5>\u001b[1;34m()\u001b[0m\n\u001b[0;32m     27\u001b[0m opt\u001b[38;5;241m.\u001b[39mzero_grad()\n\u001b[0;32m     29\u001b[0m loss \u001b[38;5;241m=\u001b[39m compute_td_loss(obs_batch,\n\u001b[0;32m     30\u001b[0m                        act_batch,\n\u001b[0;32m     31\u001b[0m                        reward_batch,\n\u001b[1;32m   (...)\u001b[0m\n\u001b[0;32m     35\u001b[0m                        target_network\n\u001b[0;32m     36\u001b[0m                       )\n\u001b[1;32m---> 38\u001b[0m \u001b[43mloss\u001b[49m\u001b[38;5;241;43m.\u001b[39;49m\u001b[43mbackward\u001b[49m\u001b[43m(\u001b[49m\u001b[43m)\u001b[49m\n\u001b[0;32m     39\u001b[0m grad_norm \u001b[38;5;241m=\u001b[39m nn\u001b[38;5;241m.\u001b[39mutils\u001b[38;5;241m.\u001b[39mclip_grad_norm_(agent\u001b[38;5;241m.\u001b[39mparameters(), max_grad_norm)\u001b[38;5;241m.\u001b[39mcpu()\u001b[38;5;241m.\u001b[39mnumpy()\n\u001b[0;32m     40\u001b[0m opt\u001b[38;5;241m.\u001b[39mstep()\n",
      "File \u001b[1;32mC:\\Anaconda\\lib\\site-packages\\torch\\_tensor.py:396\u001b[0m, in \u001b[0;36mTensor.backward\u001b[1;34m(self, gradient, retain_graph, create_graph, inputs)\u001b[0m\n\u001b[0;32m    387\u001b[0m \u001b[38;5;28;01mif\u001b[39;00m has_torch_function_unary(\u001b[38;5;28mself\u001b[39m):\n\u001b[0;32m    388\u001b[0m     \u001b[38;5;28;01mreturn\u001b[39;00m handle_torch_function(\n\u001b[0;32m    389\u001b[0m         Tensor\u001b[38;5;241m.\u001b[39mbackward,\n\u001b[0;32m    390\u001b[0m         (\u001b[38;5;28mself\u001b[39m,),\n\u001b[1;32m   (...)\u001b[0m\n\u001b[0;32m    394\u001b[0m         create_graph\u001b[38;5;241m=\u001b[39mcreate_graph,\n\u001b[0;32m    395\u001b[0m         inputs\u001b[38;5;241m=\u001b[39minputs)\n\u001b[1;32m--> 396\u001b[0m \u001b[43mtorch\u001b[49m\u001b[38;5;241;43m.\u001b[39;49m\u001b[43mautograd\u001b[49m\u001b[38;5;241;43m.\u001b[39;49m\u001b[43mbackward\u001b[49m\u001b[43m(\u001b[49m\u001b[38;5;28;43mself\u001b[39;49m\u001b[43m,\u001b[49m\u001b[43m \u001b[49m\u001b[43mgradient\u001b[49m\u001b[43m,\u001b[49m\u001b[43m \u001b[49m\u001b[43mretain_graph\u001b[49m\u001b[43m,\u001b[49m\u001b[43m \u001b[49m\u001b[43mcreate_graph\u001b[49m\u001b[43m,\u001b[49m\u001b[43m \u001b[49m\u001b[43minputs\u001b[49m\u001b[38;5;241;43m=\u001b[39;49m\u001b[43minputs\u001b[49m\u001b[43m)\u001b[49m\n",
      "File \u001b[1;32mC:\\Anaconda\\lib\\site-packages\\torch\\autograd\\__init__.py:173\u001b[0m, in \u001b[0;36mbackward\u001b[1;34m(tensors, grad_tensors, retain_graph, create_graph, grad_variables, inputs)\u001b[0m\n\u001b[0;32m    168\u001b[0m     retain_graph \u001b[38;5;241m=\u001b[39m create_graph\n\u001b[0;32m    170\u001b[0m \u001b[38;5;66;03m# The reason we repeat same the comment below is that\u001b[39;00m\n\u001b[0;32m    171\u001b[0m \u001b[38;5;66;03m# some Python versions print out the first line of a multi-line function\u001b[39;00m\n\u001b[0;32m    172\u001b[0m \u001b[38;5;66;03m# calls in the traceback and some print out the last line\u001b[39;00m\n\u001b[1;32m--> 173\u001b[0m \u001b[43mVariable\u001b[49m\u001b[38;5;241;43m.\u001b[39;49m\u001b[43m_execution_engine\u001b[49m\u001b[38;5;241;43m.\u001b[39;49m\u001b[43mrun_backward\u001b[49m\u001b[43m(\u001b[49m\u001b[43m  \u001b[49m\u001b[38;5;66;43;03m# Calls into the C++ engine to run the backward pass\u001b[39;49;00m\n\u001b[0;32m    174\u001b[0m \u001b[43m    \u001b[49m\u001b[43mtensors\u001b[49m\u001b[43m,\u001b[49m\u001b[43m \u001b[49m\u001b[43mgrad_tensors_\u001b[49m\u001b[43m,\u001b[49m\u001b[43m \u001b[49m\u001b[43mretain_graph\u001b[49m\u001b[43m,\u001b[49m\u001b[43m \u001b[49m\u001b[43mcreate_graph\u001b[49m\u001b[43m,\u001b[49m\u001b[43m \u001b[49m\u001b[43minputs\u001b[49m\u001b[43m,\u001b[49m\n\u001b[0;32m    175\u001b[0m \u001b[43m    \u001b[49m\u001b[43mallow_unreachable\u001b[49m\u001b[38;5;241;43m=\u001b[39;49m\u001b[38;5;28;43;01mTrue\u001b[39;49;00m\u001b[43m,\u001b[49m\u001b[43m \u001b[49m\u001b[43maccumulate_grad\u001b[49m\u001b[38;5;241;43m=\u001b[39;49m\u001b[38;5;28;43;01mTrue\u001b[39;49;00m\u001b[43m)\u001b[49m\n",
      "\u001b[1;31mKeyboardInterrupt\u001b[0m: "
     ]
>>>>>>> 6d906172164c2d37dc504a343e6e6ea59a6a4f62
    }
   ],
   "source": [
    "from IPython.display import clear_output\n",
    "\n",
    "\n",
    "state = env.reset()\n",
    "for step in range(total_steps + 1):\n",
    "    if not utils.is_enough_ram(min_available_gb=0.1):\n",
    "        print('less that 100 Mb RAM available, freezing')\n",
    "        print('make sure everything is ok and make KeyboardInterrupt to continue')\n",
    "        try:\n",
    "            while True:\n",
    "                pass\n",
    "        except KeyboardInterrupt:\n",
    "            pass\n",
    "\n",
    "    agent.epsilon = utils.linear_decay(init_epsilon, final_epsilon, step, decay_steps)\n",
    "\n",
    "    # play\n",
    "    _, state = play_and_record(state, agent, env, exp_replay, timesteps_per_epoch)\n",
    "\n",
    "    # train\n",
    "\n",
    "    # YOUR CODE HERE\n",
    "    # Sample batch_size of data from experience replay and compute td loss.\n",
    "    # loss = ...\n",
    "    obs_batch, act_batch, reward_batch, next_obs_batch, is_done_batch = exp_replay.sample(batch_size)\n",
    "\n",
    "    opt.zero_grad()\n",
    "    \n",
    "    loss = compute_td_loss(obs_batch,\n",
    "                           act_batch,\n",
    "                           reward_batch,\n",
    "                           next_obs_batch,\n",
    "                           is_done_batch,\n",
    "                           agent,\n",
    "                           target_network\n",
    "                          )\n",
    "    \n",
    "    loss.backward()\n",
    "    grad_norm = nn.utils.clip_grad_norm_(agent.parameters(), max_grad_norm).cpu().numpy()\n",
    "    opt.step()\n",
    "\n",
    "    if step % loss_freq == 0:\n",
    "        td_loss_history.append(loss.data.cpu().item())\n",
    "        grad_norm_history.append(grad_norm)\n",
    "\n",
    "    if step % refresh_target_network_freq == 0:\n",
    "        # YOUR CODE HERE\n",
    "        # Load agent weights into target_network\n",
    "        target_network.load_state_dict(agent.state_dict())\n",
    "\n",
    "    if step % eval_freq == 0:\n",
    "        # eval the agent\n",
    "        mean_rw_history.append(\n",
    "            evaluate(make_env(seed=step), agent, n_games=3, greedy=True, t_max=1000)\n",
    "        )\n",
    "        initial_state_q_values = agent.get_qvalues([make_env(seed=step).reset()])\n",
    "        initial_state_v_history.append(np.max(initial_state_q_values))\n",
    "\n",
    "        clear_output(True)\n",
    "        print(\"buffer size = %i, epsilon = %.5f\" % (len(exp_replay), agent.epsilon))\n",
    "\n",
    "        plt.figure(figsize=[16, 9])\n",
    "        plt.subplot(2, 2, 1)\n",
    "        plt.title(\"Mean reward per episode\")\n",
    "        plt.plot(mean_rw_history)\n",
    "        plt.grid()\n",
    "\n",
    "        assert not np.isnan(td_loss_history[-1])\n",
    "        plt.subplot(2, 2, 2)\n",
    "        plt.title(\"TD loss history (smoothened)\")\n",
    "        plt.plot(utils.smoothen(td_loss_history))\n",
    "        plt.grid()\n",
    "\n",
    "        plt.subplot(2, 2, 3)\n",
    "        plt.title(\"Initial state V\")\n",
    "        plt.plot(initial_state_v_history)\n",
    "        plt.grid()\n",
    "\n",
    "        plt.subplot(2, 2, 4)\n",
    "        plt.title(\"Grad norm history (smoothened)\")\n",
    "        plt.plot(utils.smoothen(grad_norm_history))\n",
    "        plt.grid()\n",
    "\n",
    "        plt.show()"
   ]
  },
  {
   "cell_type": "code",
<<<<<<< HEAD
   "execution_count": 170,
=======
   "execution_count": 31,
>>>>>>> 6d906172164c2d37dc504a343e6e6ea59a6a4f62
   "metadata": {
    "id": "FUShOwLX0QxW"
   },
   "outputs": [
    {
     "name": "stdout",
     "output_type": "stream",
     "text": [
<<<<<<< HEAD
      "final score: 260.47\n"
     ]
    },
    {
     "ename": "AssertionError",
     "evalue": "not good enough for DQN",
     "output_type": "error",
     "traceback": [
      "\u001b[1;31m---------------------------------------------------------------------------\u001b[0m",
      "\u001b[1;31mAssertionError\u001b[0m                            Traceback (most recent call last)",
      "Input \u001b[1;32mIn [170]\u001b[0m, in \u001b[0;36m<cell line: 3>\u001b[1;34m()\u001b[0m\n\u001b[0;32m      1\u001b[0m final_score \u001b[38;5;241m=\u001b[39m evaluate(make_env(), agent, n_games\u001b[38;5;241m=\u001b[39m\u001b[38;5;241m100\u001b[39m, greedy\u001b[38;5;241m=\u001b[39m\u001b[38;5;28;01mTrue\u001b[39;00m, t_max\u001b[38;5;241m=\u001b[39m\u001b[38;5;241m1000\u001b[39m)\n\u001b[0;32m      2\u001b[0m \u001b[38;5;28mprint\u001b[39m(\u001b[38;5;124m'\u001b[39m\u001b[38;5;124mfinal score:\u001b[39m\u001b[38;5;124m'\u001b[39m, final_score)\n\u001b[1;32m----> 3\u001b[0m \u001b[38;5;28;01massert\u001b[39;00m final_score \u001b[38;5;241m>\u001b[39m \u001b[38;5;241m300\u001b[39m, \u001b[38;5;124m'\u001b[39m\u001b[38;5;124mnot good enough for DQN\u001b[39m\u001b[38;5;124m'\u001b[39m\n\u001b[0;32m      4\u001b[0m \u001b[38;5;28mprint\u001b[39m(\u001b[38;5;124m'\u001b[39m\u001b[38;5;124mWell done\u001b[39m\u001b[38;5;124m'\u001b[39m)\n",
      "\u001b[1;31mAssertionError\u001b[0m: not good enough for DQN"
=======
      "final score: 1000.0\n",
      "Well done\n"
>>>>>>> 6d906172164c2d37dc504a343e6e6ea59a6a4f62
     ]
    }
   ],
   "source": [
    "final_score = evaluate(make_env(), agent, n_games=100, greedy=True, t_max=1000)\n",
    "print('final score:', final_score)\n",
    "assert final_score > 300, 'not good enough for DQN'\n",
    "print('Well done')"
   ]
  },
  {
   "cell_type": "code",
<<<<<<< HEAD
   "execution_count": 172,
=======
   "execution_count": 33,
>>>>>>> 6d906172164c2d37dc504a343e6e6ea59a6a4f62
   "metadata": {},
   "outputs": [
    {
     "data": {
      "text/plain": [
<<<<<<< HEAD
       "291.0"
      ]
     },
     "execution_count": 172,
=======
       "1000.0"
      ]
     },
     "execution_count": 33,
>>>>>>> 6d906172164c2d37dc504a343e6e6ea59a6a4f62
     "metadata": {},
     "output_type": "execute_result"
    }
   ],
   "source": [
    "evaluate(make_env(), agent, n_games=1, greedy=True, t_max=1000, render=True)"
   ]
  },
  {
   "cell_type": "code",
   "execution_count": 34,
   "metadata": {},
   "outputs": [],
   "source": [
    "env.close()"
   ]
  },
  {
   "cell_type": "code",
   "execution_count": null,
   "metadata": {},
   "outputs": [],
   "source": []
  }
 ],
 "metadata": {
  "anaconda-cloud": {},
  "colab": {
   "collapsed_sections": [],
   "name": "Lab2_DQN_debug.ipynb",
   "provenance": []
  },
  "kernelspec": {
   "display_name": "Python 3 (ipykernel)",
   "language": "python",
   "name": "python3"
  },
  "language_info": {
   "codemirror_mode": {
    "name": "ipython",
    "version": 3
   },
   "file_extension": ".py",
   "mimetype": "text/x-python",
   "name": "python",
   "nbconvert_exporter": "python",
   "pygments_lexer": "ipython3",
   "version": "3.9.12"
  }
 },
 "nbformat": 4,
 "nbformat_minor": 1
}
