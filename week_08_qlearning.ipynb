{
 "cells": [
  {
   "cell_type": "markdown",
   "metadata": {
    "id": "pwUEmpTvyXZV"
   },
   "source": [
    "# Practice: Q-learning\n",
    "\n",
    "_Reference:_ This notebook is based on Practical RL [week03](https://github.com/yandexdataschool/Practical_RL/tree/master/week03_model_free)"
   ]
  },
  {
   "cell_type": "code",
   "execution_count": 1,
   "metadata": {
    "id": "S4_8lIHAyXZY"
   },
   "outputs": [
    {
     "name": "stdout",
     "output_type": "stream",
     "text": [
      "??? ????????????? ????????????? ?????????? Windows ??? Linux.\n",
      "\n",
      "???????????? ????? ?????????? ?? Microsoft Store:\n",
      "\n",
      "https://aka.ms/wslstore\n",
      "\n"
     ]
    }
   ],
   "source": [
    "import os\n",
    "import sys\n",
    "\n",
    "\n",
    "if \"google.colab\" in sys.modules and not os.path.exists(\".setup_complete\"):\n",
    "    !wget -q https://raw.githubusercontent.com/yandexdataschool/Practical_RL/master/setup_colab.sh -O- | bash\n",
    "    !touch .setup_complete\n",
    "\n",
    "# This code creates a virtual display to draw game images on.\n",
    "# It will have no effect if your machine has a monitor.\n",
    "if type(os.environ.get(\"DISPLAY\")) is not str or len(os.environ.get(\"DISPLAY\")) == 0:\n",
    "    !bash ../xvfb start\n",
    "    os.environ[\"DISPLAY\"] = \":1\""
   ]
  },
  {
   "cell_type": "markdown",
   "metadata": {
    "id": "QeYgwaKKZGgd"
   },
   "source": [
    "## Q-Learning Agent"
   ]
  },
  {
   "cell_type": "markdown",
   "metadata": {
    "id": "YRmBDXR2y37a"
   },
   "source": [
    "This notebook will guide you through implementation of vanilla Q-learning algorithm. This part is based on the [Berkeley's RL course](https://inst.eecs.berkeley.edu/~cs188/sp19/projects.html).\n",
    "\n",
    "You need to implement the main methods of the agent, namely, action sampling and q-values update procedure.\n",
    "\n",
    "In order to simplify the implementation, agent also has separate function to estimate the value function of the state given the q-function estimates. The value-function in this case can be estimated as the maximum of q-function values in current state:\n",
    "\n",
    "$$\n",
    "V(s) = \\max_a Q(s, a)\n",
    "$$\n",
    "\n",
    "Once we can evaluate states, we can try to update our q-values accordingly, i.e. suppose we were in a state $s$ and took action $a$, which changed the state to $s'$ and yielded the reward $r$. In this case we can deduce that our q-function should be equal to:\n",
    "\n",
    "$$\n",
    "Q(s, a) = r + \\gamma V(s')\n",
    "$$\n",
    "\n",
    "Here $\\gamma$ is the discounting factor.\n",
    "\n",
    "However, we don't want to change our q-value so radically on each step, because this would mean that we will be discarding all our previous updates to this value. Instead we will call this new value $Q'(s, a)$ and will update our q-function in a following maner:\n",
    "\n",
    "$$\n",
    "Q_{n+1}(s, a) = (1 - \\alpha) \\cdot Q_n(s, a) + \\alpha \\cdot Q_n'(s, a)\n",
    "$$\n",
    "\n",
    "Action sampling is done using the simple $\\varepsilon$-greedy strategy, which means that we take random action with probability $\\varepsilon$ or the best action (wrt the q-function values) otherwise."
   ]
  },
  {
   "cell_type": "code",
   "execution_count": 3,
   "metadata": {
    "id": "P95haD6wyXZZ"
   },
   "outputs": [],
   "source": [
    "import random\n",
    "from collections import defaultdict\n",
    "\n",
    "\n",
    "class QLearningAgent:\n",
    "    def __init__(self, alpha, epsilon, gamma, n_actions):\n",
    "        self.alpha = alpha\n",
    "        self.epsilon = epsilon\n",
    "        self.gamma = gamma\n",
    "        self.possible_actions = range(n_actions)\n",
    "        self._qvalues = defaultdict(lambda: defaultdict(lambda: 0))\n",
    "\n",
    "    def get_qvalue(self, state, action):\n",
    "        return self._qvalues[state][action]\n",
    "\n",
    "    def set_qvalue(self, state, action, value):\n",
    "        self._qvalues[state][action] = value\n",
    "\n",
    "    # -------------------------START OF YOUR CODE-------------------------#\n",
    "    #                          !!!Important!!!                           #\n",
    "    #              Please avoid using self._qvalues directly.            #\n",
    "    #  There's a special self.get_qvalue/set_qvalue functions for that.  #\n",
    "    # -------------------------START OF YOUR CODE-------------------------#\n",
    "         \n",
    "\n",
    "    def get_value(self, state):\n",
    "        # Agent parameters.\n",
    "        possible_actions = self.possible_actions\n",
    "\n",
    "        # YOUR CODE HERE\n",
    "        # Calculate the approximation of value function V(s).\n",
    "        value = max(self.get_qvalue(state, action) for action in possible_actions)\n",
    "\n",
    "        return value\n",
    "\n",
    "    def update(self, state, action, reward, next_state):\n",
    "        # Agent parameters.\n",
    "        alpha = self.alpha\n",
    "        gamma = self.gamma\n",
    "\n",
    "        # YOUR CODE HERE\n",
    "        # Calculate the updated value of Q(s, a).\n",
    "        # qvalue = ...\n",
    "        \n",
    "        qvalue = (1 - alpha) * self.get_qvalue(state, action) + alpha * (reward + gamma * self.get_value(next_state))\n",
    "\n",
    "        self.set_qvalue(state, action, qvalue)\n",
    "\n",
    "    def get_best_action(self, state):\n",
    "        # Agent parameters.\n",
    "        possible_actions = self.possible_actions\n",
    "\n",
    "        # YOUR CODE HERE\n",
    "        # Choose the best action wrt the qvalues.\n",
    "        best_action = max(possible_actions, key=lambda action: self.get_qvalue(state, action))\n",
    "\n",
    "        return best_action\n",
    "\n",
    "    def get_action(self, state):\n",
    "        # Agent parameters.\n",
    "        possible_actions = self.possible_actions\n",
    "        epsilon = self.epsilon\n",
    "\n",
    "        # YOUR CODE HERE\n",
    "        # Choose action in an epsilon-greedy maner.\n",
    "        # action = ...\n",
    "        \n",
    "        action = random.choice(possible_actions) if (random.random() < epsilon) else self.get_best_action(state)\n",
    "\n",
    "        return action"
   ]
  },
  {
   "cell_type": "markdown",
   "metadata": {
    "id": "t6lkqpS-yXZb"
   },
   "source": [
    "## Try it on taxi"
   ]
  },
  {
   "cell_type": "markdown",
   "metadata": {
    "id": "chnLpPKAZENJ"
   },
   "source": [
    "Here we use the qlearning agent on taxi env from openai gym.\n",
    "You will need to insert a few agent functions here."
   ]
  },
  {
   "cell_type": "code",
   "execution_count": 62,
   "metadata": {
    "id": "6REbLYeDyXZb"
   },
   "outputs": [],
   "source": [
    "import gym\n",
    "\n",
    "\n",
    "env = gym.make(\"Taxi-v3\")\n",
    "n_actions = env.action_space.n\n",
    "agent = QLearningAgent(alpha=0.5, epsilon=0.25, gamma=0.99, n_actions=n_actions)"
   ]
  },
  {
   "cell_type": "code",
   "execution_count": 63,
   "metadata": {
    "id": "Ud0VvArnyXZb"
   },
   "outputs": [],
   "source": [
    "def play_and_train(env, agent, time_limit=10 ** 4, render=False):\n",
    "    total_reward = 0.0\n",
    "    state = env.reset()\n",
    "    for _ in range(time_limit):\n",
    "        if render:\n",
    "            env.render()\n",
    "        # YOUR CODE HERE\n",
    "        # Pick action given current state, take the selected action and update agent.\n",
    "        action = agent.get_action(state)\n",
    "        next_state, reward, done, _ = env.step(action)\n",
    "        agent.update(state, action, reward, next_state)\n",
    "        \n",
    "        total_reward += reward\n",
    "        if done:\n",
    "            break\n",
    "\n",
    "        state = next_state\n",
    "    \n",
    "    env.close()\n",
    "\n",
    "    return total_reward"
   ]
  },
  {
   "cell_type": "code",
   "execution_count": 64,
   "metadata": {
    "id": "TX5UO6B5HnZY"
   },
   "outputs": [],
   "source": [
    "import matplotlib.pyplot as plt\n",
    "import pandas as pd\n",
    "\n",
    "\n",
    "# Helper functions to plot rewards during training.\n",
    "\n",
    "\n",
    "def moving_average(data, span=100):\n",
    "    return pd.Series(data).ewm(span=span).mean().values\n",
    "\n",
    "\n",
    "def plot_rewards(rewards, epsilon):\n",
    "    rewards_ewma = moving_average(rewards)\n",
    "    plt.plot(rewards, label='rewards')\n",
    "    plt.plot(rewards_ewma, label='rewards ewma@100')\n",
    "    plt.legend()\n",
    "    plt.grid()\n",
    "    plt.title(f\"eps = {epsilon:e}, rewards ewma@100 = {rewards_ewma[-1]:.1f}\")\n",
    "    plt.show()"
   ]
  },
  {
   "cell_type": "code",
   "execution_count": 65,
   "metadata": {
    "id": "bIXSPSsnyXZc"
   },
   "outputs": [
    {
     "data": {
      "image/png": "[encoded data removed]",
      "text/plain": [
       "<Figure size 432x288 with 1 Axes>"
      ]
     },
     "metadata": {
      "needs_background": "light"
     },
     "output_type": "display_data"
    }
   ],
   "source": [
    "from IPython.display import clear_output\n",
    "\n",
    "\n",
    "rewards = []\n",
    "for i in range(1000):\n",
    "    rewards.append(play_and_train(env, agent))\n",
    "    agent.epsilon *= 0.99\n",
    "\n",
    "    if i % 100 == 0:\n",
    "        clear_output(True)\n",
    "        plot_rewards(rewards, agent.epsilon)"
   ]
  },
  {
   "cell_type": "markdown",
   "metadata": {
    "id": "sj0kO9NyyXZd"
   },
   "source": [
    "## Binarized state spaces"
   ]
  },
  {
   "cell_type": "markdown",
   "metadata": {
    "id": "MZUgRkNegoc5"
   },
   "source": [
    "Now that we know how to use our agent in case of discrete observation space, let's try to use agent to train efficiently on `CartPole-v0`. This environment has a continuous set of possible states, so you will have to group them into bins somehow.\n",
    "\n",
    "The simplest way is to use `round(x, ndigits)` to round real number to a given amount of digits.\n",
    "\n",
    "The tricky part is to get the `ndigits` right for each state to train effectively.\n",
    "\n",
    "Note that you don't need to convert state to integers, but to __tuples__ of any kind of values."
   ]
  },
  {
   "cell_type": "code",
   "execution_count": 66,
   "metadata": {
    "id": "eBp_wHDXyXZd"
   },
   "outputs": [
    {
     "name": "stdout",
     "output_type": "stream",
     "text": [
      "first state:[-0.00619862  0.02346971 -0.01883222  0.04197386]\n"
     ]
    },
    {
     "data": {
      "image/png": "[encoded data removed]",
      "text/plain": [
       "<Figure size 432x288 with 1 Axes>"
      ]
     },
     "metadata": {
      "needs_background": "light"
     },
     "output_type": "display_data"
    }
   ],
   "source": [
    "def make_env():\n",
    "    return gym.make(\"CartPole-v0\").env  # .env unwraps the TimeLimit wrapper\n",
    "\n",
    "\n",
    "env = make_env()\n",
    "n_actions = env.action_space.n\n",
    "\n",
    "print(f\"first state:{env.reset()}\")\n",
    "plt.imshow(env.render(\"rgb_array\"));"
   ]
  },
  {
   "cell_type": "code",
   "execution_count": 67,
   "metadata": {},
   "outputs": [],
   "source": [
    "env.close()"
   ]
  },
  {
   "cell_type": "markdown",
   "metadata": {
    "id": "JU1sIGMSyXZd"
   },
   "source": [
    "### Play a few games"
   ]
  },
  {
   "cell_type": "markdown",
   "metadata": {
    "id": "XG-wxq7QhEfS"
   },
   "source": [
    "We need to estimate observation distributions. To do so, we'll play a few games and record all states."
   ]
  },
  {
   "cell_type": "code",
   "execution_count": 75,
   "metadata": {
    "id": "-7tC9VbOEhmI"
   },
   "outputs": [],
   "source": [
    "import numpy as np\n",
    "\n",
    "\n",
    "def visualize_cartpole_observation_distribution(states):\n",
    "    states = np.array(states)\n",
    "    fig, axes = plt.subplots(2, 2, figsize=(16, 9), sharey=True)\n",
    "    axes = axes.flatten()\n",
    "    for i, title in enumerate(\n",
    "        ['Cart Position', 'Cart Velocity', 'Pole Angle', 'Pole Velocity At Tip']\n",
    "    ):\n",
    "        ax = axes[i]\n",
    "        ax.hist(states[:, i], bins=20)\n",
    "        ax.set_title(title)\n",
    "        xmin, xmax = ax.get_xlim()\n",
    "        ax.set_xlim(min(xmin, -xmax), max(-xmin, xmax))\n",
    "        \n",
    "        ax.grid()\n",
    "\n",
    "    fig.tight_layout()"
   ]
  },
  {
   "cell_type": "code",
   "execution_count": 76,
   "metadata": {
    "id": "kiTRSS6byXZe"
   },
   "outputs": [
    {
     "data": {
      "image/png": "[encoded data removed]",
      "text/plain": [
       "<Figure size 1152x648 with 4 Axes>"
      ]
     },
     "metadata": {
      "needs_background": "light"
     },
     "output_type": "display_data"
    }
   ],
   "source": [
    "states = []\n",
    "for _ in range(1000):\n",
    "    states.append(env.reset())\n",
    "    done = False\n",
    "    while not done:\n",
    "        state, _, done, _ = env.step(env.action_space.sample())\n",
    "        states.append(state)\n",
    "\n",
    "visualize_cartpole_observation_distribution(states)"
   ]
  },
  {
   "cell_type": "markdown",
   "metadata": {
    "id": "F5yL-LJHyXZe"
   },
   "source": [
    "### Binarize environment"
   ]
  },
  {
   "cell_type": "code",
   "execution_count": 104,
   "metadata": {
    "id": "nFHn7eOoyXZe"
   },
   "outputs": [],
   "source": [
    "from gym.core import ObservationWrapper\n",
    "\n",
    "\n",
    "class Binarizer(ObservationWrapper):\n",
    "    def observation(self, state):\n",
    "        # YOUR CODE HERE\n",
    "        # Binarize state, e.g. round it to some amount digits (hint: you can do that with round(x, ndigits))\n",
    "        # You might need to pick a different n_digits for each dimension based on histograms.\n",
    "        features_ndigits = [1, 1, 2, 1]\n",
    "        for feature_index in range(len(state)):\n",
    "            state[feature_index] = round(state[feature_index], features_ndigits[feature_index])\n",
    "\n",
    "        return tuple(state)"
   ]
  },
  {
   "cell_type": "code",
   "execution_count": 105,
   "metadata": {
    "id": "l26s0px8yXZe"
   },
   "outputs": [],
   "source": [
    "env = Binarizer(make_env())"
   ]
  },
  {
   "cell_type": "code",
   "execution_count": 106,
   "metadata": {
    "id": "vb9JspcfyXZf"
   },
   "outputs": [
    {
     "data": {
      "image/png": "[encoded data removed]",
      "text/plain": [
       "<Figure size 1152x648 with 4 Axes>"
      ]
     },
     "metadata": {
      "needs_background": "light"
     },
     "output_type": "display_data"
    }
   ],
   "source": [
    "states = []\n",
    "for _ in range(1000):\n",
    "    states.append(env.reset())\n",
    "    done = False\n",
    "    while not done:\n",
    "        state, _, done, _ = env.step(env.action_space.sample())\n",
    "        states.append(state)\n",
    "\n",
    "visualize_cartpole_observation_distribution(states)"
   ]
  },
  {
   "cell_type": "markdown",
   "metadata": {
    "id": "CnGfei25yXZf"
   },
   "source": [
    "### Learn binarized policy"
   ]
  },
  {
   "cell_type": "markdown",
   "metadata": {
    "id": "hQGhbh2hkjUn"
   },
   "source": [
    "Now let's train a policy that uses binarized state space.\n",
    "\n",
    "__Tips:__ \n",
    "* Note that increasing the number of digits for one dimension of the observations increases your state space by a factor of $10$.\n",
    "* If your binarization is too fine-grained, your agent will take much longer than 10000 steps to converge. You can either increase the number of iterations and reduce epsilon decay or change binarization. In practice we found that this kind of mistake is rather frequent.\n",
    "* If your binarization is too coarse, your agent may fail to find the optimal policy. In practice we found that on this particular environment this kind of mistake is rare.\n",
    "* **Start with a coarse binarization** and make it more fine-grained if that seems necessary.\n",
    "* Having $10^3$–$10^4$ distinct states is recommended (len(agent._qvalues)), but not required.\n",
    "* If things don't work without annealing $\\varepsilon$, consider adding that, but make sure that it doesn't go to zero too quickly.\n",
    "\n",
    "A reasonable agent should attain an average reward of at least 50."
   ]
  },
  {
   "cell_type": "code",
   "execution_count": 107,
   "metadata": {
    "id": "0KWSvLWayXZf"
   },
   "outputs": [],
   "source": [
    "agent = QLearningAgent(alpha=0.5, epsilon=0.1, gamma=0.99, n_actions=n_actions)"
   ]
  },
  {
   "cell_type": "code",
   "execution_count": 118,
   "metadata": {},
   "outputs": [
    {
     "data": {
      "text/plain": [
       "10000.0"
      ]
     },
     "execution_count": 118,
     "metadata": {},
     "output_type": "execute_result"
    }
   ],
   "source": [
    "play_and_train(env, agent, render=True)"
   ]
  },
  {
   "cell_type": "code",
   "execution_count": 113,
   "metadata": {},
   "outputs": [],
   "source": [
    "agent.epsilon = 0"
   ]
  },
  {
   "cell_type": "code",
   "execution_count": 109,
   "metadata": {},
   "outputs": [],
   "source": [
    "rewards = []"
   ]
  },
  {
   "cell_type": "code",
   "execution_count": 114,
   "metadata": {
    "id": "DrUyIy5dyXZf"
   },
   "outputs": [
    {
     "data": {
      "image/png": "[encoded data removed]",
      "text/plain": [
       "<Figure size 432x288 with 1 Axes>"
      ]
     },
     "metadata": {
      "needs_background": "light"
     },
     "output_type": "display_data"
    },
    {
     "ename": "KeyboardInterrupt",
     "evalue": "",
     "output_type": "error",
     "traceback": [
      "\u001b[1;31m---------------------------------------------------------------------------\u001b[0m",
      "\u001b[1;31mKeyboardInterrupt\u001b[0m                         Traceback (most recent call last)",
      "Input \u001b[1;32mIn [114]\u001b[0m, in \u001b[0;36m<cell line: 1>\u001b[1;34m()\u001b[0m\n\u001b[0;32m      1\u001b[0m \u001b[38;5;28;01mfor\u001b[39;00m i \u001b[38;5;129;01min\u001b[39;00m \u001b[38;5;28mrange\u001b[39m(\u001b[38;5;241m10000\u001b[39m):\n\u001b[1;32m----> 2\u001b[0m     rewards\u001b[38;5;241m.\u001b[39mappend(\u001b[43mplay_and_train\u001b[49m\u001b[43m(\u001b[49m\u001b[43menv\u001b[49m\u001b[43m,\u001b[49m\u001b[43m \u001b[49m\u001b[43magent\u001b[49m\u001b[43m)\u001b[49m)\n\u001b[0;32m      3\u001b[0m     \u001b[38;5;66;03m# YOUR CODE HERE (optional)\u001b[39;00m\n\u001b[0;32m      4\u001b[0m     \u001b[38;5;66;03m# Adjust epsilon.\u001b[39;00m\n\u001b[0;32m      6\u001b[0m     \u001b[38;5;28;01mif\u001b[39;00m np\u001b[38;5;241m.\u001b[39mmean(rewards[:\u001b[38;5;241m10\u001b[39m]) \u001b[38;5;241m>\u001b[39m \u001b[38;5;241m150\u001b[39m:\n",
      "Input \u001b[1;32mIn [63]\u001b[0m, in \u001b[0;36mplay_and_train\u001b[1;34m(env, agent, time_limit, render)\u001b[0m\n\u001b[0;32m      7\u001b[0m \u001b[38;5;66;03m# YOUR CODE HERE\u001b[39;00m\n\u001b[0;32m      8\u001b[0m \u001b[38;5;66;03m# Pick action given current state, take the selected action and update agent.\u001b[39;00m\n\u001b[0;32m      9\u001b[0m action \u001b[38;5;241m=\u001b[39m agent\u001b[38;5;241m.\u001b[39mget_action(state)\n\u001b[1;32m---> 10\u001b[0m next_state, reward, done, _ \u001b[38;5;241m=\u001b[39m env\u001b[38;5;241m.\u001b[39mstep(action)\n\u001b[0;32m     11\u001b[0m agent\u001b[38;5;241m.\u001b[39mupdate(state, action, reward, next_state)\n\u001b[0;32m     13\u001b[0m total_reward \u001b[38;5;241m+\u001b[39m\u001b[38;5;241m=\u001b[39m reward\n",
      "\u001b[1;31mKeyboardInterrupt\u001b[0m: "
     ]
    }
   ],
   "source": [
    "for i in range(10000):\n",
    "    rewards.append(play_and_train(env, agent))\n",
    "    # YOUR CODE HERE (optional)\n",
    "    # Adjust epsilon.\n",
    "    \n",
    "    if np.mean(rewards[:10]) > 150:\n",
    "        agent.epsilon *= 0.6\n",
    "    if np.mean(rewards[:10]) > 190:\n",
    "        agent.epsilon *= 0.2\n",
    "\n",
    "    if i % 100 == 0:\n",
    "        clear_output(True)\n",
    "        plot_rewards(rewards, agent.epsilon)"
   ]
  },
  {
   "cell_type": "code",
   "execution_count": 120,
   "metadata": {
    "id": "Y5KKOknoBn1E"
   },
   "outputs": [
    {
     "name": "stdout",
     "output_type": "stream",
     "text": [
      "Your agent has learned 12660 Q-values.\n"
     ]
    }
   ],
   "source": [
    "print('Your agent has learned {} Q-values.'.format(len(agent._qvalues)))"
   ]
  }
 ],
 "metadata": {
  "colab": {
   "collapsed_sections": [],
   "name": "practice_qlearning.ipynb",
   "provenance": [],
   "toc_visible": true
  },
  "kernelspec": {
   "display_name": "Python 3 (ipykernel)",
   "language": "python",
   "name": "python3"
  },
  "language_info": {
   "codemirror_mode": {
    "name": "ipython",
    "version": 3
   },
   "file_extension": ".py",
   "mimetype": "text/x-python",
   "name": "python",
   "nbconvert_exporter": "python",
   "pygments_lexer": "ipython3",
   "version": "3.9.12"
  }
 },
 "nbformat": 4,
 "nbformat_minor": 1
}
