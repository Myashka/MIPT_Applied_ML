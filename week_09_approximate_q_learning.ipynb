{
  "cells": [
    {
      "cell_type": "markdown",
      "metadata": {
        "id": "vDwqM_GRYaOY"
      },
      "source": [
        "# Practice: approximate q-learning"
      ]
    },
    {
      "cell_type": "markdown",
      "metadata": {
        "id": "SLrzIf8aeOs9"
      },
      "source": [
        "In this notebook you will teach a __PyTorch__ neural network to do Q-learning."
      ]
    },
    {
      "cell_type": "code",
      "execution_count": 2,
      "metadata": {
        "id": "S1mg93zbYaOb",
        "outputId": "5a50dded-fe24-439a-e050-672a4ca2478e",
        "colab": {
          "base_uri": "https://localhost:8080/"
        }
      },
      "outputs": [
        {
          "output_type": "stream",
          "name": "stdout",
          "text": [
            "Selecting previously unselected package xvfb.\n",
            "(Reading database ... 155680 files and directories currently installed.)\n",
            "Preparing to unpack .../xvfb_2%3a1.19.6-1ubuntu4.11_amd64.deb ...\n",
            "Unpacking xvfb (2:1.19.6-1ubuntu4.11) ...\n",
            "Setting up xvfb (2:1.19.6-1ubuntu4.11) ...\n",
            "Processing triggers for man-db (2.8.3-2ubuntu0.1) ...\n",
            "Starting virtual X frame buffer: Xvfb.\n"
          ]
        }
      ],
      "source": [
        "import os\n",
        "import sys\n",
        "\n",
        "\n",
        "if \"google.colab\" in sys.modules and not os.path.exists(\".setup_complete\"):\n",
        "    !wget -q https://raw.githubusercontent.com/yandexdataschool/Practical_RL/master/setup_colab.sh -O- | bash\n",
        "    !touch .setup_complete\n",
        "\n",
        "# This code creates a virtual display to draw game images on.\n",
        "# It will have no effect if your machine has a monitor.\n",
        "if type(os.environ.get(\"DISPLAY\")) is not str or len(os.environ.get(\"DISPLAY\")) == 0:\n",
        "    !bash ../xvfb start\n",
        "    os.environ[\"DISPLAY\"] = \":1\""
      ]
    },
    {
      "cell_type": "code",
      "execution_count": 41,
      "metadata": {
        "id": "MnGor2mlYaOc"
      },
      "outputs": [],
      "source": [
        "import gym\n",
        "import matplotlib.pyplot as plt\n",
        "import numpy as np\n",
        "import pandas as pd\n",
        "\n",
        "\n",
        "plt.rcParams['figure.figsize'] = (20, 7)\n",
        "plt.rcParams['font.size'] = 16"
      ]
    },
    {
      "cell_type": "code",
      "source": [
        "%matplotlib inline"
      ],
      "metadata": {
        "id": "ptACbxfm03NG"
      },
      "execution_count": 42,
      "outputs": []
    },
    {
      "cell_type": "code",
      "execution_count": 43,
      "metadata": {
        "id": "1oloxWjFYaOd",
        "outputId": "82819774-f185-4ddd-b41f-ee32c16adcb9",
        "colab": {
          "base_uri": "https://localhost:8080/",
          "height": 269
        }
      },
      "outputs": [
        {
          "output_type": "display_data",
          "data": {
            "text/plain": [
              "<Figure size 432x288 with 1 Axes>"
            ],
            "image/png": "[encoded data removed]"
          },
          "metadata": {
            "needs_background": "light"
          }
        }
      ],
      "source": [
        "env = gym.make(\"CartPole-v0\").env\n",
        "env.reset()\n",
        "n_actions = env.action_space.n\n",
        "state_dim = env.observation_space.shape[0]\n",
        "\n",
        "plt.imshow(env.render(\"rgb_array\"))\n",
        "env.close()"
      ]
    },
    {
      "cell_type": "code",
      "source": [
        "n_actions, state_dim"
      ],
      "metadata": {
        "id": "aZrunBvN1NZV",
        "outputId": "ee745ca8-c73c-4ac8-db2f-81f6563db90b",
        "colab": {
          "base_uri": "https://localhost:8080/"
        }
      },
      "execution_count": 44,
      "outputs": [
        {
          "output_type": "execute_result",
          "data": {
            "text/plain": [
              "(2, 4)"
            ]
          },
          "metadata": {},
          "execution_count": 44
        }
      ]
    },
    {
      "cell_type": "code",
      "source": [
        "env.observation_space.shape"
      ],
      "metadata": {
        "id": "8QAMeX6E2INb",
        "outputId": "0c00cfaf-aeba-42c6-e49d-478e25a68053",
        "colab": {
          "base_uri": "https://localhost:8080/"
        }
      },
      "execution_count": 45,
      "outputs": [
        {
          "output_type": "execute_result",
          "data": {
            "text/plain": [
              "(4,)"
            ]
          },
          "metadata": {},
          "execution_count": 45
        }
      ]
    },
    {
      "cell_type": "markdown",
      "metadata": {
        "id": "_KGMX6sfYaOd"
      },
      "source": [
        "## Approximate Q-learning: building the network"
      ]
    },
    {
      "cell_type": "markdown",
      "metadata": {
        "id": "RJQyUFGjeUKM"
      },
      "source": [
        "To train a neural network policy one must have a neural network policy. Let's build it.\n",
        "\n",
        "\n",
        "Since we're working with a pre-extracted features (cart positions, angles and velocities), we don't need a complicated network yet. In fact, let's build something like this for starters:\n",
        "\n",
        "![img](https://raw.githubusercontent.com/yandexdataschool/Practical_RL/master/yet_another_week/_resource/qlearning_scheme.png)\n",
        "\n",
        "For your first run, please only use linear layers (`nn.Linear`) and activations. Stuff like batch normalization or dropout may ruin everything if used haphazardly. \n",
        "\n",
        "Also please avoid using nonlinearities like sigmoid & tanh: since agent's observations are not normalized, sigmoids might be saturated at initialization. Instead, use non-saturating nonlinearities like ReLU.\n",
        "\n",
        "Ideally you should start small with maybe 1-2 hidden layers with < 200 neurons and then increase network size if agent doesn't beat the target score."
      ]
    },
    {
      "cell_type": "code",
      "execution_count": 46,
      "metadata": {
        "id": "jC0VtAEKYaOe"
      },
      "outputs": [],
      "source": [
        "import torch\n",
        "import torch.nn as nn\n",
        "import torch.nn.functional as F"
      ]
    },
    {
      "cell_type": "code",
      "execution_count": 47,
      "metadata": {
        "id": "Z4U-SjNvYaOe"
      },
      "outputs": [],
      "source": [
        "network = nn.Sequential()\n",
        "\n",
        "# YOUR CODE HERE\n",
        "# Hint: use state_dim as input size and n_actions as output size.\n",
        "# network.add_module(\"layer1\", ...)\n",
        "\n",
        "network.add_module('layer1', nn.Linear(state_dim, 128))\n",
        "network.add_module('activation1', nn.ReLU())\n",
        "network.add_module('layer2', nn.Linear(128, 64))\n",
        "network.add_module('activation2', nn.ReLU())\n",
        "network.add_module('layer3', nn.Linear(64, n_actions))"
      ]
    },
    {
      "cell_type": "code",
      "source": [
        "example_input = torch.from_numpy(env.reset()).type(torch.FloatTensor)"
      ],
      "metadata": {
        "id": "X4DTqz2g2h5n"
      },
      "execution_count": 48,
      "outputs": []
    },
    {
      "cell_type": "code",
      "source": [
        "network(example_input)"
      ],
      "metadata": {
        "id": "A7usw5-02p5S",
        "outputId": "60e7dd50-fdf9-46c4-cd9b-c604d0070e18",
        "colab": {
          "base_uri": "https://localhost:8080/"
        }
      },
      "execution_count": 49,
      "outputs": [
        {
          "output_type": "execute_result",
          "data": {
            "text/plain": [
              "tensor([0.0554, 0.0067], grad_fn=<AddBackward0>)"
            ]
          },
          "metadata": {},
          "execution_count": 49
        }
      ]
    },
    {
      "cell_type": "code",
      "source": [
        "state = env.reset()\n",
        "state = torch.tensor(state[None], dtype=torch.float32)\n",
        "state.shape"
      ],
      "metadata": {
        "id": "gPwN7z4l6gsh",
        "outputId": "17f62b51-931b-4195-818b-c0a8bdac67a6",
        "colab": {
          "base_uri": "https://localhost:8080/"
        }
      },
      "execution_count": 50,
      "outputs": [
        {
          "output_type": "execute_result",
          "data": {
            "text/plain": [
              "torch.Size([1, 4])"
            ]
          },
          "metadata": {},
          "execution_count": 50
        }
      ]
    },
    {
      "cell_type": "code",
      "execution_count": 51,
      "metadata": {
        "id": "vEktD_R5YaOf"
      },
      "outputs": [],
      "source": [
        "from math import e\n",
        "import random\n",
        "\n",
        "\n",
        "def get_action(state, epsilon=0.0):\n",
        "    state = torch.tensor(state[None], dtype=torch.float32)\n",
        "    q_values = network(state).detach().numpy()\n",
        "\n",
        "    # YOUR CODE HERE\n",
        "    # Sample actions with epsilon-greedy policy, i.e. pick random action\n",
        "    # with probability of epsilon else pick action with highest Q(s,a).\n",
        "    # action = ...\n",
        "    if random.random() < epsilon:\n",
        "      action = np.random.choice(np.arange(n_actions))\n",
        "    else:\n",
        "      action = np.argmax(q_values)\n",
        "\n",
        "    return int(action)"
      ]
    },
    {
      "cell_type": "code",
      "execution_count": 52,
      "metadata": {
        "id": "lrtctVyhYaOg",
        "outputId": "75e32332-2895-4dc5-e729-53ae60d86522",
        "colab": {
          "base_uri": "https://localhost:8080/"
        }
      },
      "outputs": [
        {
          "output_type": "stream",
          "name": "stdout",
          "text": [
            "eps=0.0 tests passed\n",
            "eps=0.1 tests passed\n",
            "eps=0.5 tests passed\n",
            "eps=1.0 tests passed\n"
          ]
        }
      ],
      "source": [
        "state = env.reset()\n",
        "assert tuple(network(torch.tensor([state] * 3, dtype=torch.float32)).size()) == (\n",
        "    3,\n",
        "    n_actions,\n",
        "), \"please make sure your model maps state s -> [Q(s,a0), ..., Q(s, a_last)]\"\n",
        "assert isinstance(\n",
        "    list(network.modules())[-1], nn.Linear\n",
        "), \"please make sure you predict q-values without nonlinearity (ignore if you know what you're doing)\"\n",
        "assert isinstance(\n",
        "    get_action(state), int\n",
        "), f\"get_action(s) must return int, not {type(get_action(state))}. try int(action)\"\n",
        "\n",
        "# test epsilon-greedy exploration\n",
        "for eps in [0.0, 0.1, 0.5, 1.0]:\n",
        "    state_frequencies = np.bincount(\n",
        "        [get_action(state, epsilon=eps) for i in range(10000)],\n",
        "        minlength=n_actions,\n",
        "    )\n",
        "    best_action = state_frequencies.argmax()\n",
        "    assert abs(state_frequencies[best_action] - 10000 * (1 - eps + eps / n_actions)) < 200\n",
        "    for other_action in range(n_actions):\n",
        "        if other_action != best_action:\n",
        "            assert abs(state_frequencies[other_action] - 10000 * (eps / n_actions)) < 200\n",
        "    print(f\"eps={eps} tests passed\")"
      ]
    },
    {
      "cell_type": "markdown",
      "metadata": {
        "id": "edUEt2mOYaOh"
      },
      "source": [
        "## Q-learning via gradient descent"
      ]
    },
    {
      "cell_type": "markdown",
      "metadata": {
        "id": "uOqgs_Qth0Ek"
      },
      "source": [
        "We shall now train our agent's Q-function by minimizing the TD loss:\n",
        "\n",
        "$$\n",
        "L = { 1 \\over N} \\sum_i (Q_{\\theta}(s,a) - [r(s,a) + \\gamma \\cdot max_{a'} Q_{-}(s', a')]) ^2\n",
        "$$\n",
        "\n",
        "Where\n",
        "* $s, a, r, s'$ are current state, action, reward and next state respectively\n",
        "* $\\gamma$ is a discount factor defined two cells above.\n",
        "\n",
        "The tricky part is with  $Q_{-}(s',a')$. From an engineering standpoint, it's the same as $Q_{\\theta}$ - the output of your neural network policy. However, when doing gradient descent, __we won't propagate gradients through it__ to make training more stable (see lectures).\n",
        "\n",
        "To do so, we shall use `x.detach()` function which basically says \"consider this thing constant when doingbackprop\"."
      ]
    },
    {
      "cell_type": "code",
      "execution_count": 53,
      "metadata": {
        "id": "sCQIHp9GYaOi"
      },
      "outputs": [],
      "source": [
        "def compute_td_loss(states, actions, rewards, next_states, done, gamma=0.99, check_shapes=False):\n",
        "    \"\"\"Compute td loss using torch operations only. Use the formula above.\"\"\"\n",
        "    states = torch.tensor(states, dtype=torch.float32)  # shape: [batch_size, state_size]\n",
        "    actions = torch.tensor(actions, dtype=torch.long)  # shape: [batch_size]\n",
        "    rewards = torch.tensor(rewards, dtype=torch.float32)  # shape: [batch_size]\n",
        "    next_states = torch.tensor(next_states, dtype=torch.float32)  # shape: [batch_size, state_size]\n",
        "    done = torch.tensor(done, dtype=torch.bool)  # shape: [batch_size]\n",
        "\n",
        "    # get q-values for all actions in current states\n",
        "    predicted_qvalues = network(states)\n",
        "\n",
        "    # select q-values for chosen actions\n",
        "    predicted_qvalues_for_actions = predicted_qvalues[range(states.shape[0]), actions]\n",
        "\n",
        "    # YOUR CODE HERE\n",
        "    # compute q-values for all actions in next states\n",
        "    # predicted_next_qvalues = ...\n",
        "    predicted_next_qvalues = network(next_states)\n",
        "\n",
        "    # YOUR CODE HERE\n",
        "    # compute V*(next_states) using predicted next q-values\n",
        "    # next_state_values = ...\n",
        "    next_state_values = torch.max(predicted_next_qvalues, dim=1).values\n",
        "    assert next_state_values.dtype == torch.float32\n",
        "\n",
        "    # YOUR CODE HERE\n",
        "    # compute \"target q-values\" for loss - it's what's inside square parentheses in the above formula.\n",
        "    # target_qvalues_for_actions = ...\n",
        "    target_qvalues_for_actions = reward + gamma * next_state_values\n",
        "\n",
        "    # at the last state we shall use simplified formula: Q(s,a) = r(s,a) since s' doesn't exist\n",
        "    target_qvalues_for_actions = torch.where(done, rewards, target_qvalues_for_actions)\n",
        "\n",
        "    # mean squared error loss to minimize\n",
        "    # DETACH TARGET DONE!    \n",
        "    loss = F.mse_loss(predicted_qvalues_for_actions, target_qvalues_for_actions.detach())\n",
        "\n",
        "    if check_shapes:\n",
        "        assert (\n",
        "            predicted_next_qvalues.data.dim() == 2\n",
        "        ), \"make sure you predicted q-values for all actions in next state\"\n",
        "        assert (\n",
        "            next_state_values.data.dim() == 1\n",
        "        ), \"make sure you computed V(s') as maximum over just the actions axis and not all axes\"\n",
        "        assert (\n",
        "            target_qvalues_for_actions.data.dim() == 1\n",
        "        ), \"there's something wrong with target q-values, they must be a vector\"\n",
        "\n",
        "    return loss"
      ]
    },
    {
      "cell_type": "code",
      "execution_count": 54,
      "metadata": {
        "id": "63LeDmSxYaOi"
      },
      "outputs": [],
      "source": [
        "# sanity checks\n",
        "state = env.reset()\n",
        "action = env.action_space.sample()\n",
        "next_state, reward, done, _ = env.step(action)\n",
        "loss = compute_td_loss([state], [action], [reward], [next_state], [done], check_shapes=True)\n",
        "loss.backward()\n",
        "\n",
        "assert len(loss.size()) == 0, \"you must return scalar loss - mean over batch\"\n",
        "assert np.any(\n",
        "    next(network.parameters()).grad.detach().numpy() != 0\n",
        "), \"loss must be differentiable w.r.t. network weights\""
      ]
    },
    {
      "cell_type": "markdown",
      "metadata": {
        "id": "qx9UOxiQYaOi"
      },
      "source": [
        "### Playing the game"
      ]
    },
    {
      "cell_type": "code",
      "execution_count": 55,
      "metadata": {
        "id": "ptFregdIYaOj"
      },
      "outputs": [],
      "source": [
        "optimizer = torch.optim.Adam(network.parameters(), lr=1e-4)"
      ]
    },
    {
      "cell_type": "code",
      "execution_count": 56,
      "metadata": {
        "id": "Yz6SDmgdYaOj"
      },
      "outputs": [],
      "source": [
        "def generate_session(env, epsilon=0.0, train=False, time_limit=1000, render=False):\n",
        "    \"\"\"play env with approximate q-learning agent and train it at the same time\"\"\"\n",
        "    total_reward = 0.0\n",
        "    state = env.reset()\n",
        "\n",
        "    for _ in range(time_limit):\n",
        "        if render:\n",
        "            env.render()\n",
        "\n",
        "        # get action w.r.t. agent (network) policy or epsilon proba\n",
        "        action = get_action(state, epsilon)\n",
        "        next_state, reward, done, _ = env.step(action)\n",
        "\n",
        "        if train:\n",
        "            optimizer.zero_grad()\n",
        "            loss = compute_td_loss([state], [action], [reward], [next_state], [done])\n",
        "            loss.backward()\n",
        "            optimizer.step()\n",
        "\n",
        "        total_reward += reward\n",
        "        state = next_state\n",
        "        if done:\n",
        "            break\n",
        "\n",
        "    env.close()      \n",
        "    \n",
        "    return total_reward"
      ]
    },
    {
      "cell_type": "code",
      "execution_count": 57,
      "metadata": {
        "id": "aHPp0pU_nBWs"
      },
      "outputs": [],
      "source": [
        "# Helper functions to plot rewards.\n",
        "\n",
        "\n",
        "def moving_average(data, span):\n",
        "    return pd.Series(data).ewm(span=span).mean().values\n",
        "\n",
        "\n",
        "def plot_results(epoch, mean_rewards, epsilons, span=10):\n",
        "    rewards_ewma = moving_average(mean_rewards, span)\n",
        "    plt.suptitle(f\"epoch #{epoch}: mean reward = {rewards_ewma[-1]:.1f}, epsilon = {epsilon:.1f}\")\n",
        "\n",
        "    plt.subplot(1, 2, 1)\n",
        "    plt.plot(mean_rewards, label=\"mean reward\")\n",
        "    plt.plot(rewards_ewma, label=f\"mean reward ewma@{span}\")\n",
        "\n",
        "    plt.xlabel(\"epoch\")\n",
        "    plt.ylabel(\"reward\")\n",
        "    plt.legend()\n",
        "    plt.grid()\n",
        "\n",
        "    plt.subplot(1, 2, 2)\n",
        "    plt.plot(epsilons)\n",
        "    plt.xlabel(\"epoch\")\n",
        "    plt.ylabel(\"epsilon\")\n",
        "    plt.grid()\n",
        "\n",
        "    plt.show()"
      ]
    },
    {
      "cell_type": "code",
      "execution_count": 58,
      "metadata": {
        "id": "RZvS-6owYaOj",
        "outputId": "77945926-f66d-45ed-9037-06831bdf0e2d",
        "colab": {
          "base_uri": "https://localhost:8080/",
          "height": 308
        }
      },
      "outputs": [
        {
          "output_type": "display_data",
          "data": {
            "text/plain": [
              "<Figure size 432x288 with 2 Axes>"
            ],
            "image/png": "[encoded data removed]"
          },
          "metadata": {
            "needs_background": "light"
          }
        }
      ],
      "source": [
        "from IPython.display import clear_output\n",
        "\n",
        "\n",
        "mean_rewards, epsilons = [], []\n",
        "epsilon = 0.5\n",
        "for epoch in range(1000):\n",
        "    session_rewards = [generate_session(env, epsilon, train=True) for _ in range(100)]\n",
        "    mean_reward = np.mean(session_rewards)\n",
        "    mean_rewards.append(mean_reward)\n",
        "    epsilons.append(epsilon)\n",
        "\n",
        "    if epoch % 5 == 0:\n",
        "        clear_output(wait=True)\n",
        "        plot_results(epoch, mean_rewards, epsilons)\n",
        "\n",
        "    if mean_reward > 300:\n",
        "        print(\"You Win!\")\n",
        "        clear_output(wait=True)\n",
        "        plot_results(epoch, mean_rewards, epsilons)\n",
        "        break\n",
        "\n",
        "    epsilon *= 0.99\n",
        "    assert epsilon >= 1e-4, \"Make sure epsilon is always nonzero during training\""
      ]
    },
    {
      "cell_type": "markdown",
      "metadata": {
        "id": "txVjLZx5YaOk"
      },
      "source": [
        "## How to interpret results"
      ]
    },
    {
      "cell_type": "markdown",
      "metadata": {
        "id": "v2QwGPtUi0pG"
      },
      "source": [
        "Welcome to the f.. world of deep f...n reinforcement learning. Don't expect agent's reward to smoothly go up. Hope for it to go increase eventually. If it deems you worthy.\n",
        "\n",
        "Seriously though,\n",
        "* __mean reward__ is the average reward per game. For a correct implementation it may stay low for some 10 epochs, then start growing while oscilating insanely and converges by ~50-100 steps depending on the network architecture. \n",
        "* If it never reaches target score by the end of for loop, try increasing the number of hidden neurons or look at the epsilon.\n",
        "* __epsilon__ - agent's willingness to explore. If you see that agent's already at < 0.01 epsilon before it's is at least 200, just reset it back to 0.1 - 0.5."
      ]
    },
    {
      "cell_type": "markdown",
      "metadata": {
        "id": "4fz76RXcYaOk"
      },
      "source": [
        "## Record videos"
      ]
    },
    {
      "cell_type": "markdown",
      "metadata": {
        "id": "ab6FxJkmi33o"
      },
      "source": [
        "As usual, we now use `gym.wrappers.Monitor` to record a video of our agent playing the game. Unlike our previous attempts with state binarization, this time we expect our agent to act ~~(or fail)~~ more smoothly since there's no more binarization error at play.\n",
        "\n",
        "As you already did with tabular q-learning, we set epsilon=0 for final evaluation to prevent agent from exploring himself to death."
      ]
    },
    {
      "cell_type": "code",
      "execution_count": 59,
      "metadata": {
        "id": "YzYRdScNYaOk"
      },
      "outputs": [],
      "source": [
        "import gym.wrappers\n",
        "\n",
        "\n",
        "with gym.wrappers.Monitor(gym.make(\"CartPole-v0\"), directory=\"videos\", force=True) as env_monitor:\n",
        "    sessions = [generate_session(env_monitor, epsilon=0, train=False) for _ in range(100)]"
      ]
    },
    {
      "cell_type": "code",
      "execution_count": 63,
      "metadata": {
        "id": "rmRVjyYLYaOk",
        "outputId": "fbf2dda0-e287-49e4-d854-08fc6b69116f",
        "colab": {
          "base_uri": "https://localhost:8080/",
          "height": 501
        }
      },
      "outputs": [
        {
          "output_type": "execute_result",
          "data": {
            "text/plain": [
              "<IPython.core.display.HTML object>"
            ],
            "text/html": [
              "\n",
              "<video width=\"640\" height=\"480\" controls>\n",
              "  <source src=\"data:video/mp4;base64,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\" type=\"video/mp4\">\n",
              "</video>\n"
            ]
          },
          "metadata": {},
          "execution_count": 63
        }
      ],
      "source": [
        "from base64 import b64encode\n",
        "from pathlib import Path\n",
        "\n",
        "from IPython.display import HTML\n",
        "\n",
        "\n",
        "video_paths = sorted([s for s in Path(\"videos\").iterdir() if s.suffix == \".mp4\"])\n",
        "video_path = video_paths[-1]  # You can also try other indices\n",
        "\n",
        "if \"google.colab\" in sys.modules:\n",
        "    # https://stackoverflow.com/a/57378660/1214547\n",
        "    with video_path.open('rb') as fp:\n",
        "        mp4 = fp.read()\n",
        "    data_url = \"data:video/mp4;base64,\" + b64encode(mp4).decode()\n",
        "else:\n",
        "    data_url = str(video_path)\n",
        "\n",
        "HTML(\n",
        "    \"\"\"\n",
        "<video width=\"640\" height=\"480\" controls>\n",
        "  <source src=\"{}\" type=\"video/mp4\">\n",
        "</video>\n",
        "\"\"\".format(\n",
        "        data_url\n",
        "    )\n",
        ")"
      ]
    },
    {
      "cell_type": "code",
      "execution_count": null,
      "metadata": {
        "id": "tupIsK2xkEbA"
      },
      "outputs": [],
      "source": [
        ""
      ]
    }
  ],
  "metadata": {
    "colab": {
      "name": "practice_approximate_q_learning_clean.ipynb",
      "provenance": []
    },
    "kernelspec": {
      "display_name": "Python 3 (ipykernel)",
      "language": "python",
      "name": "python3"
    },
    "language_info": {
      "codemirror_mode": {
        "name": "ipython",
        "version": 3
      },
      "file_extension": ".py",
      "mimetype": "text/x-python",
      "name": "python",
      "nbconvert_exporter": "python",
      "pygments_lexer": "ipython3",
      "version": "3.9.7"
    }
  },
  "nbformat": 4,
  "nbformat_minor": 0
}