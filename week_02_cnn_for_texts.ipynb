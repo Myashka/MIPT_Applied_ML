{
 "cells": [
  {
   "cell_type": "markdown",
   "metadata": {
    "id": "13pL--6rycN3"
   },
   "source": [
    "# Practice: Dealing with texts using CNN\n",
    "_Reference: Based on YSDA [materials](https://github.com/yandexdataschool/nlp_course/blob/master/week02_classification/seminar.ipynb). Special thanks to [Oleg Vasilev](https://github.com/Omrigan/) for the core assignment idea._\n",
    "\n",
    "Today we're gonna apply the newly learned tools for the task of predicting job salary.\n",
    "\n",
    "<img src=\"https://storage.googleapis.com/kaggle-competitions/kaggle/3342/media/salary%20prediction%20engine%20v2.png\" width=400px>"
   ]
  },
  {
   "cell_type": "markdown",
   "metadata": {
    "id": "34x92vWQycN_"
   },
   "source": [
    "## About the challenge\n",
    "For starters, let's download and unpack the data.\n",
    "\n",
    "You can also get it from [Yandex.Disk](https://yadi.sk/d/vVEOWPFY3NruT7) or [the competition page](https://www.kaggle.com/c/job-salary-prediction/data) (pick `Train_rev1.*`)."
   ]
  },
  {
   "cell_type": "code",
   "execution_count": 1,
   "metadata": {
    "id": "vwN72gd4ycOA"
   },
   "outputs": [
    {
     "name": "stderr",
     "output_type": "stream",
     "text": [
      "  % Total    % Received % Xferd  Average Speed   Time    Time     Time  Current\n",
      "                                 Dload  Upload   Total   Spent    Left  Speed\n",
      "\n",
      "  0     0    0     0    0     0      0      0 --:--:-- --:--:-- --:--:--     0\n",
      "  0     0    0     0    0     0      0      0 --:--:-- --:--:-- --:--:--     0\n",
      "100   145    0   145    0     0    204      0 --:--:-- --:--:-- --:--:--   204\n",
      "\n",
      "100   342  100   342    0     0    282      0  0:00:01  0:00:01 --:--:--   282\n",
      "\n",
      "  0     0    0     0    0     0      0      0 --:--:--  0:00:01 --:--:--     0\n",
      "  0     0    0     0    0     0      0      0 --:--:--  0:00:02 --:--:--     0\n",
      "  5  119M    5 7008k    0     0  2119k      0  0:00:57  0:00:03  0:00:54 3505k\n",
      " 13  119M   13 16.5M    0     0  3930k      0  0:00:31  0:00:04  0:00:27 5644k\n",
      " 20  119M   20 24.5M    0     0  4738k      0  0:00:25  0:00:05  0:00:20 6287k\n",
      " 27  119M   27 32.5M    0     0  5275k      0  0:00:23  0:00:06  0:00:17 6656k\n",
      " 34  119M   34 40.8M    0     0  5727k      0  0:00:21  0:00:07  0:00:14 8586k\n",
      " 43  119M   43 52.0M    0     0  6407k      0  0:00:19  0:00:08  0:00:11 9236k\n",
      " 50  119M   50 59.9M    0     0  6601k      0  0:00:18  0:00:09  0:00:09 8901k\n",
      " 57  119M   57 68.5M    0     0  6811k      0  0:00:17  0:00:10  0:00:07 9010k\n",
      " 63  119M   63 76.2M    0     0  6909k      0  0:00:17  0:00:11  0:00:06 8970k\n",
      " 71  119M   71 85.4M    0     0  7105k      0  0:00:17  0:00:12  0:00:05 9117k\n",
      " 76  119M   76 91.4M    0     0  7003k      0  0:00:17  0:00:13  0:00:04 7984k\n",
      " 84  119M   84  100M    0     0  7212k      0  0:00:16  0:00:14  0:00:02 8348k\n",
      " 90  119M   90  108M    0     0  7266k      0  0:00:16  0:00:15  0:00:01 8207k\n",
      " 97  119M   97  117M    0     0  7352k      0  0:00:16  0:00:16 --:--:-- 8355k\n",
      "100  119M  100  119M    0     0  7340k      0  0:00:16  0:00:16 --:--:-- 8004k\n"
     ]
    }
   ],
   "source": [
    "!curl -L \"https://www.dropbox.com/s/5msc5ix7ndyba10/Train_rev1.csv.tar.gz?dl=1\" -o Train_rev1.csv.tar.gz\n",
    "!tar xzf Train_rev1.csv.tar.gz"
   ]
  },
  {
   "cell_type": "code",
   "execution_count": 11,
   "metadata": {
    "id": "xIjzhbXEpHfT"
   },
   "outputs": [
    {
     "data": {
      "text/plain": [
       "(244768, 12)"
      ]
     },
     "execution_count": 11,
     "metadata": {},
     "output_type": "execute_result"
    }
   ],
   "source": [
    "import pandas as pd\n",
    "\n",
    "\n",
    "data = pd.read_csv(\"Train_rev1.csv\", index_col=None)\n",
    "data.shape"
   ]
  },
  {
   "cell_type": "markdown",
   "metadata": {
    "id": "z7kznuJfycOH"
   },
   "source": [
    "One problem with salary prediction is that it's oddly distributed: there are many people who are paid standard salaries and a few that get tons o money. The distribution is fat-tailed on the right side, which is inconvenient for MSE minimization.\n",
    "\n",
    "There are several techniques to combat this: using a different loss function, predicting log-target instead of raw target or even replacing targets with their percentiles among all salaries in the training set. We gonna use logarithm for now."
   ]
  },
  {
   "cell_type": "code",
   "execution_count": 12,
   "metadata": {
    "id": "UuuKIKfrycOH"
   },
   "outputs": [
    {
     "data": {
      "image/png": "[encoded data removed]",
      "text/plain": [
       "<Figure size 576x288 with 2 Axes>"
      ]
     },
     "metadata": {
      "needs_background": "light"
     },
     "output_type": "display_data"
    }
   ],
   "source": [
    "import matplotlib.pyplot as plt\n",
    "import numpy as np\n",
    "\n",
    "\n",
    "data[\"Log1pSalary\"] = np.log1p(data[\"SalaryNormalized\"]).astype(\"float32\")\n",
    "\n",
    "plt.figure(figsize=[8, 4])\n",
    "plt.subplot(1, 2, 1)\n",
    "plt.hist(data[\"SalaryNormalized\"], bins=20)\n",
    "\n",
    "plt.subplot(1, 2, 2)\n",
    "plt.hist(data[\"Log1pSalary\"], bins=20)\n",
    "\n",
    "plt.show()"
   ]
  },
  {
   "cell_type": "markdown",
   "metadata": {
    "id": "Fcu-qmHRycOK"
   },
   "source": [
    "Our task is to predict one number, __Log1pSalary__.\n",
    "\n",
    "To do so, our model can access a number of features:\n",
    "* Free text: __`Title`__ and  __`FullDescription`__\n",
    "* Categorical: __`Category`__, __`Company`__, __`LocationNormalized`__, __`ContractType`__, and __`ContractTime`__."
   ]
  },
  {
   "cell_type": "code",
   "execution_count": 13,
   "metadata": {
    "id": "p9vyA_erycOK"
   },
   "outputs": [
    {
     "data": {
      "text/html": [
       "<div>\n",
       "<style scoped>\n",
       "    .dataframe tbody tr th:only-of-type {\n",
       "        vertical-align: middle;\n",
       "    }\n",
       "\n",
       "    .dataframe tbody tr th {\n",
       "        vertical-align: top;\n",
       "    }\n",
       "\n",
       "    .dataframe thead th {\n",
       "        text-align: right;\n",
       "    }\n",
       "</style>\n",
       "<table border=\"1\" class=\"dataframe\">\n",
       "  <thead>\n",
       "    <tr style=\"text-align: right;\">\n",
       "      <th></th>\n",
       "      <th>Id</th>\n",
       "      <th>Title</th>\n",
       "      <th>FullDescription</th>\n",
       "      <th>LocationRaw</th>\n",
       "      <th>LocationNormalized</th>\n",
       "      <th>ContractType</th>\n",
       "      <th>ContractTime</th>\n",
       "      <th>Company</th>\n",
       "      <th>Category</th>\n",
       "      <th>SalaryRaw</th>\n",
       "      <th>SalaryNormalized</th>\n",
       "      <th>SourceName</th>\n",
       "      <th>Log1pSalary</th>\n",
       "    </tr>\n",
       "  </thead>\n",
       "  <tbody>\n",
       "    <tr>\n",
       "      <th>220198</th>\n",
       "      <td>72346413</td>\n",
       "      <td>Technical Manager / Head of Development  NET /...</td>\n",
       "      <td>Job Title: Technical Manager / Head of Develop...</td>\n",
       "      <td>Manchester Lancashire North West</td>\n",
       "      <td>UK</td>\n",
       "      <td>NaN</td>\n",
       "      <td>permanent</td>\n",
       "      <td>Applause IT Innovation</td>\n",
       "      <td>IT Jobs</td>\n",
       "      <td>35000 - 45000 per annum + Benefits</td>\n",
       "      <td>40000</td>\n",
       "      <td>cwjobs.co.uk</td>\n",
       "      <td>10.596660</td>\n",
       "    </tr>\n",
       "    <tr>\n",
       "      <th>136495</th>\n",
       "      <td>70331893</td>\n",
       "      <td>Constructive Supervisors</td>\n",
       "      <td>Introduction We are currently looking for a nu...</td>\n",
       "      <td>Rosyth</td>\n",
       "      <td>Rosyth</td>\n",
       "      <td>NaN</td>\n",
       "      <td>NaN</td>\n",
       "      <td>Matchtech Group plc.</td>\n",
       "      <td>Engineering Jobs</td>\n",
       "      <td>22/hr</td>\n",
       "      <td>42240</td>\n",
       "      <td>rengineeringjobs.com</td>\n",
       "      <td>10.651147</td>\n",
       "    </tr>\n",
       "    <tr>\n",
       "      <th>111185</th>\n",
       "      <td>69683978</td>\n",
       "      <td>Senior IT Systems Engineer  Fast Growing IT Su...</td>\n",
       "      <td>Senior IT Systems Engineer  Fast Growing IT Su...</td>\n",
       "      <td>Liverpool</td>\n",
       "      <td>Liverpool</td>\n",
       "      <td>full_time</td>\n",
       "      <td>NaN</td>\n",
       "      <td>RecruitmentRevolution.com</td>\n",
       "      <td>IT Jobs</td>\n",
       "      <td>40000</td>\n",
       "      <td>40000</td>\n",
       "      <td>careerbuilder.com</td>\n",
       "      <td>10.596660</td>\n",
       "    </tr>\n",
       "  </tbody>\n",
       "</table>\n",
       "</div>"
      ],
      "text/plain": [
       "              Id                                              Title  \\\n",
       "220198  72346413  Technical Manager / Head of Development  NET /...   \n",
       "136495  70331893                           Constructive Supervisors   \n",
       "111185  69683978  Senior IT Systems Engineer  Fast Growing IT Su...   \n",
       "\n",
       "                                          FullDescription  \\\n",
       "220198  Job Title: Technical Manager / Head of Develop...   \n",
       "136495  Introduction We are currently looking for a nu...   \n",
       "111185  Senior IT Systems Engineer  Fast Growing IT Su...   \n",
       "\n",
       "                             LocationRaw LocationNormalized ContractType  \\\n",
       "220198  Manchester Lancashire North West                 UK          NaN   \n",
       "136495                            Rosyth             Rosyth          NaN   \n",
       "111185                         Liverpool          Liverpool    full_time   \n",
       "\n",
       "       ContractTime                    Company          Category  \\\n",
       "220198    permanent     Applause IT Innovation           IT Jobs   \n",
       "136495          NaN       Matchtech Group plc.  Engineering Jobs   \n",
       "111185          NaN  RecruitmentRevolution.com           IT Jobs   \n",
       "\n",
       "                                 SalaryRaw  SalaryNormalized  \\\n",
       "220198  35000 - 45000 per annum + Benefits             40000   \n",
       "136495                               22/hr             42240   \n",
       "111185                               40000             40000   \n",
       "\n",
       "                  SourceName  Log1pSalary  \n",
       "220198          cwjobs.co.uk    10.596660  \n",
       "136495  rengineeringjobs.com    10.651147  \n",
       "111185     careerbuilder.com    10.596660  "
      ]
     },
     "execution_count": 13,
     "metadata": {},
     "output_type": "execute_result"
    }
   ],
   "source": [
    "text_columns = [\"Title\", \"FullDescription\"]\n",
    "categorical_columns = [\"Category\", \"Company\", \"LocationNormalized\", \"ContractType\", \"ContractTime\"]\n",
    "target_column = \"Log1pSalary\"\n",
    "\n",
    "data[categorical_columns] = data[categorical_columns].fillna(\"NaN\")\n",
    "data[text_columns] = data[text_columns].fillna(\"NaN\")\n",
    "\n",
    "data.sample(3)"
   ]
  },
  {
   "cell_type": "markdown",
   "metadata": {
    "id": "IUdclucmycON"
   },
   "source": [
    "## Preprocessing text data\n",
    "\n",
    "Just like last week, applying NLP to a problem begins from tokenization: splitting raw text into sequences of tokens (words, punctuation, etc).\n",
    "\n",
    "__Your task__ is to lowercase and tokenize all texts under `Title` and `FullDescription` columns. Store the tokenized data as a __space-separated__ string of tokens for performance reasons.\n",
    "\n",
    "It's okay to use nltk tokenizers. Assertions were designed for WordPunctTokenizer, slight deviations are okay."
   ]
  },
  {
   "cell_type": "code",
   "execution_count": 14,
   "metadata": {
    "id": "YzeOxD_aycOO"
   },
   "outputs": [
    {
     "name": "stdout",
     "output_type": "stream",
     "text": [
      "Raw text:\n",
      "2         Mathematical Modeller / Simulation Analyst / O...\n",
      "100002    A successful and high achieving specialist sch...\n",
      "200002    Web Designer  HTML, CSS, JavaScript, Photoshop...\n",
      "Name: FullDescription, dtype: object\n"
     ]
    }
   ],
   "source": [
    "print(\"Raw text:\")\n",
    "print(data[\"FullDescription\"][2::100000])"
   ]
  },
  {
   "cell_type": "code",
   "execution_count": 16,
   "metadata": {
    "id": "RUWkpd7PycOQ"
   },
   "outputs": [],
   "source": [
    "from nltk.tokenize import WordPunctTokenizer\n",
    "\n",
    "\n",
    "tokenizer = WordPunctTokenizer()\n",
    "\n",
    "def normalize(text):\n",
    "    tokens = tokenizer.tokenize(text.lower())\n",
    "    return ' '.join(tokens)\n",
    "# Lowercase and tokenize titles and descriptions (text_columns).\n",
    "# Store items as space-separated strings of tokens.\n",
    "data[text_columns] = data[text_columns].applymap(normalize)"
   ]
  },
  {
   "cell_type": "code",
   "execution_count": 17,
   "metadata": {
    "id": "Gs-6lnS_ycOU"
   },
   "outputs": [
    {
     "name": "stdout",
     "output_type": "stream",
     "text": [
      "Tokenized:\n",
      "2         mathematical modeller / simulation analyst / o...\n",
      "100002    a successful and high achieving specialist sch...\n",
      "200002    web designer html , css , javascript , photosh...\n",
      "Name: FullDescription, dtype: object\n"
     ]
    }
   ],
   "source": [
    "print(\"Tokenized:\")\n",
    "print(data[\"FullDescription\"][2::100000])\n",
    "assert data[\"FullDescription\"][2][:50] == \"mathematical modeller / simulation analyst / opera\"\n",
    "assert data[\"Title\"][54321] == \"international digital account manager ( german )\""
   ]
  },
  {
   "cell_type": "markdown",
   "metadata": {
    "id": "ouE3L2hyycOX"
   },
   "source": [
    "Not all words are equally useful. Some of them are typos or rare words that are only present a few times. \n",
    "\n",
    "Let's count how many times is each word present in the data so that we can build a \"white list\" of known words."
   ]
  },
  {
   "cell_type": "code",
   "execution_count": 34,
   "metadata": {
    "id": "iC7hBwwjycOX"
   },
   "outputs": [],
   "source": [
    "from collections import Counter\n",
    "from tqdm.auto import tqdm\n",
    "\n",
    "\n",
    "\n",
    "# Count how many times does each token occur in both \"Title\" and \"FullDescription\".\n",
    "# Build a dictionary { token -> count }.\n",
    "# Hint: you may or may not want to use collections.Counter\n",
    "token_counts = Counter()\n",
    "for row in data[text_columns].values.flatten():\n",
    "    token_counts.update(row.split(' '))"
   ]
  },
  {
   "cell_type": "code",
   "execution_count": 36,
   "metadata": {
    "id": "GiOWbc15ycOb"
   },
   "outputs": [
    {
     "name": "stdout",
     "output_type": "stream",
     "text": [
      "Total unique tokens : 202704\n",
      "('and', 2657388)\n",
      "('.', 2523216)\n",
      "(',', 2318606)\n",
      "('the', 2080994)\n",
      "('to', 2019884)\n",
      "...\n",
      "('stephanietraveltraderecruitmnt', 1)\n",
      "('ruabon', 1)\n",
      "('lowehays', 1)\n",
      "Correct!\n"
     ]
    }
   ],
   "source": [
    "print(\"Total unique tokens :\", len(token_counts))\n",
    "print(\"\\n\".join(map(str, token_counts.most_common(n=5))))\n",
    "print(\"...\")\n",
    "print(\"\\n\".join(map(str, token_counts.most_common()[-3:])))\n",
    "\n",
    "assert token_counts.most_common(1)[0][1] in range(2600000, 2700000)\n",
    "assert len(token_counts) in range(200000, 210000)\n",
    "print(\"Correct!\")"
   ]
  },
  {
   "cell_type": "markdown",
   "metadata": {
    "id": "W2ih1LV4YhtL"
   },
   "source": [
    "Let's see how many words are there for each count."
   ]
  },
  {
   "cell_type": "code",
   "execution_count": 43,
   "metadata": {
    "id": "nd5v3BNfycOf"
   },
   "outputs": [
    {
     "data": {
      "image/png": "[encoded data removed]",
      "text/plain": [
       "<Figure size 432x288 with 1 Axes>"
      ]
     },
     "metadata": {
      "needs_background": "light"
     },
     "output_type": "display_data"
    }
   ],
   "source": [
    "plt.hist(list(token_counts.values()), range=[0, 10 ** 4], bins=50, log=True)\n",
    "plt.xlabel(\"Word counts\")\n",
    "plt.show()"
   ]
  },
  {
   "cell_type": "markdown",
   "metadata": {
    "id": "znuXxeghycOh"
   },
   "source": [
    "Now we will filter tokens a list of all tokens that occur at least 10 times."
   ]
  },
  {
   "cell_type": "code",
   "execution_count": 55,
   "metadata": {
    "id": "SeNFBWx5ycOh"
   },
   "outputs": [],
   "source": [
    "min_count = 10\n",
    "\n",
    "# We shall only consider tokens that had at least min_count occurences.\n",
    "# Create a list of such tokens.\n",
    "tokens = [token for token, counts in token_counts.items() if counts > min_count]"
   ]
  },
  {
   "cell_type": "code",
   "execution_count": 56,
   "metadata": {},
   "outputs": [
    {
     "data": {
      "text/plain": [
       "32454"
      ]
     },
     "execution_count": 56,
     "metadata": {},
     "output_type": "execute_result"
    }
   ],
   "source": [
    "len(tokens)"
   ]
  },
  {
   "cell_type": "code",
   "execution_count": 57,
   "metadata": {
    "id": "RATIRyPKycOk"
   },
   "outputs": [
    {
     "name": "stdout",
     "output_type": "stream",
     "text": [
      "Vocabulary size: 32456\n",
      "Correct!\n"
     ]
    }
   ],
   "source": [
    "# Add a special tokens for unknown and empty words\n",
    "UNK, PAD = \"UNK\", \"PAD\"\n",
    "tokens = [UNK, PAD] + sorted(tokens)\n",
    "print(\"Vocabulary size:\", len(tokens))\n",
    "\n",
    "assert type(tokens) == list\n",
    "assert len(tokens) in range(32000, 35000)\n",
    "assert \"me\" in tokens\n",
    "assert UNK in tokens\n",
    "print(\"Correct!\")"
   ]
  },
  {
   "cell_type": "markdown",
   "metadata": {
    "id": "cqEsgbjZycOo"
   },
   "source": [
    "Build an inverse token index: a dictionary from token to it's index in `tokens`."
   ]
  },
  {
   "cell_type": "code",
   "execution_count": 58,
   "metadata": {
    "id": "L60lo1l_ycOq"
   },
   "outputs": [],
   "source": [
    "# YOUR CODE HERE\n",
    "token_to_idx = {token: idx for idx, token in enumerate(tokens)}"
   ]
  },
  {
   "cell_type": "code",
   "execution_count": 60,
   "metadata": {
    "id": "DeAoVo4mycOr"
   },
   "outputs": [
    {
     "name": "stdout",
     "output_type": "stream",
     "text": [
      "Correct!\n"
     ]
    }
   ],
   "source": [
    "assert isinstance(token_to_idx, dict)\n",
    "assert len(token_to_idx) == len(tokens)\n",
    "for tok in tokens:\n",
    "    assert tokens[token_to_idx[tok]] == tok\n",
    "\n",
    "print(\"Correct!\")"
   ]
  },
  {
   "cell_type": "markdown",
   "metadata": {
    "id": "cmJAkq3gycOv"
   },
   "source": [
    "And finally, let's use the vocabulary you've built to map text lines into neural network-digestible matrices."
   ]
  },
  {
   "cell_type": "code",
   "execution_count": 61,
   "metadata": {
    "id": "JEsLeBjVycOw"
   },
   "outputs": [],
   "source": [
    "UNK_IDX = token_to_idx[UNK]\n",
    "PAD_IDX = token_to_idx[PAD]\n",
    "\n",
    "\n",
    "def as_matrix(sequences, max_len=None):\n",
    "    \"\"\"Convert a list of tokens into a matrix with padding\"\"\"\n",
    "    if isinstance(sequences[0], str):\n",
    "        sequences = [seq.split(\" \") for seq in sequences]\n",
    "\n",
    "    sequences_max_len = max(len(seq) for seq in sequences)\n",
    "    if max_len is None:\n",
    "        max_len = sequences_max_len\n",
    "    else:\n",
    "        max_len = min(sequences_max_len, max_len)\n",
    "\n",
    "    matrix = np.full((len(sequences), max_len), PAD_IDX)\n",
    "    for i, seq in enumerate(sequences):\n",
    "        for j, token in enumerate(seq):\n",
    "            if j >= max_len:\n",
    "                break\n",
    "\n",
    "            matrix[i, j] = token_to_idx.get(token, UNK_IDX)\n",
    "\n",
    "    return matrix"
   ]
  },
  {
   "cell_type": "code",
   "execution_count": 62,
   "metadata": {
    "id": "JiBlPkdKycOy"
   },
   "outputs": [
    {
     "name": "stdout",
     "output_type": "stream",
     "text": [
      "Lines:\n",
      "engineering systems analyst\n",
      "hr assistant\n",
      "senior ec & i engineer\n",
      "\n",
      "Matrix:\n",
      "[[10273 28655  2055     1     1]\n",
      " [14296  2700     1     1     1]\n",
      " [26272  9698    14 14484 10270]]\n"
     ]
    }
   ],
   "source": [
    "print(\"Lines:\")\n",
    "print(\"\\n\".join(data[\"Title\"][::100000].values), end=\"\\n\\n\")\n",
    "print(\"Matrix:\")\n",
    "print(as_matrix(data[\"Title\"][::100000]))"
   ]
  },
  {
   "cell_type": "markdown",
   "metadata": {
    "id": "nGOdZ3-dycO4"
   },
   "source": [
    "Now let's  encode the categirical data we have.\n",
    "\n",
    "As usual, we shall use one-hot encoding for simplicity. Kudos if you implement more advanced encodings: tf-idf, pseudo-time-series, etc."
   ]
  },
  {
   "cell_type": "code",
   "execution_count": 65,
   "metadata": {
    "id": "pg12nLQijNJg"
   },
   "outputs": [],
   "source": [
    "from sklearn.feature_extraction import DictVectorizer\n",
    "\n",
    "\n",
    "# We only consider top-1k most frequent companies to minimize memory usage\n",
    "company_counts = Counter(data[\"Company\"])\n",
    "top_companies = set(name for name, count in company_counts.most_common(1000))\n",
    "data[\"Company\"] = data[\"Company\"].apply(\n",
    "    lambda company: company if company in top_companies else \"Other\"\n",
    ")\n",
    "\n",
    "categorical_vectorizer = DictVectorizer(dtype=np.float32, sparse=False)\n",
    "categorical_vectorizer.fit(data[categorical_columns].apply(dict, axis=1));"
   ]
  },
  {
   "cell_type": "markdown",
   "metadata": {
    "id": "yk4jmtAYycO8"
   },
   "source": [
    "## The deep learning part\n",
    "\n",
    "Once we've learned to tokenize the data, let's design a machine learning experiment.\n",
    "\n",
    "As before, we won't focus too much on validation, opting for a simple train-test split.\n",
    "\n",
    "__To be completely rigorous,__ we've comitted a small crime here: we used the whole data for tokenization and vocabulary building. A more strict way would be to do that part on training set only. You may want to do that and measure the magnitude of changes."
   ]
  },
  {
   "cell_type": "code",
   "execution_count": 66,
   "metadata": {
    "id": "TngLcWA0ycO_"
   },
   "outputs": [
    {
     "name": "stdout",
     "output_type": "stream",
     "text": [
      "Train size =  195814\n",
      "Validation size =  48954\n"
     ]
    }
   ],
   "source": [
    "from sklearn.model_selection import train_test_split\n",
    "\n",
    "\n",
    "data_train, data_val = train_test_split(data, test_size=0.2, random_state=42)\n",
    "data_train.index = range(len(data_train))\n",
    "data_val.index = range(len(data_val))\n",
    "\n",
    "print(\"Train size = \", len(data_train))\n",
    "print(\"Validation size = \", len(data_val))"
   ]
  },
  {
   "cell_type": "code",
   "execution_count": 67,
   "metadata": {
    "id": "2PXuKgOSycPB"
   },
   "outputs": [],
   "source": [
    "def make_batch(data, max_len=None, word_dropout=0):\n",
    "    \"\"\"\n",
    "    Creates a neural-network-friendly dict from the batch data.\n",
    "    :param word_dropout: replaces token index with UNK_IDX with this probability\n",
    "    :returns: a dict with {'title' : int64[batch, title_max_len]\n",
    "    \"\"\"\n",
    "    batch = {}\n",
    "    batch[\"Title\"] = as_matrix(data[\"Title\"].values, max_len)\n",
    "    batch[\"FullDescription\"] = as_matrix(data[\"FullDescription\"].values, max_len)\n",
    "    batch[\"Categorical\"] = categorical_vectorizer.transform(\n",
    "        data[categorical_columns].apply(dict, axis=1)\n",
    "    )\n",
    "\n",
    "    if word_dropout != 0:\n",
    "        batch[\"FullDescription\"] = apply_word_dropout(batch[\"FullDescription\"], 1.0 - word_dropout)\n",
    "\n",
    "    if target_column in data.columns:\n",
    "        batch[target_column] = data[target_column].values\n",
    "\n",
    "    return batch\n",
    "\n",
    "\n",
    "def apply_word_dropout(matrix, keep_prob, replace_with=UNK_IDX):\n",
    "    dropout_mask = np.random.choice(2, np.shape(matrix), p=[keep_prob, 1 - keep_prob])\n",
    "    dropout_mask &= matrix != PAD_IDX\n",
    "    return np.choose(dropout_mask, [matrix, np.full_like(matrix, replace_with)])"
   ]
  },
  {
   "cell_type": "code",
   "execution_count": 68,
   "metadata": {
    "id": "I6LpEQf0ycPD"
   },
   "outputs": [
    {
     "name": "stdout",
     "output_type": "stream",
     "text": [
      "Example batch:\n",
      "{'Title': array([[26272, 28401, 31999,     1,     1,     1,     1],\n",
      "       [27772,   187, 18227, 19056, 14801, 22008,  3848],\n",
      "       [10082, 28895, 16876,    31,  8281, 27695,    61]]), 'FullDescription': array([[26272, 28401, 31999, 31307,   909, 26272, 28401, 31999, 15662,\n",
      "        31307],\n",
      "       [27772,   187, 18227, 19056, 14801, 22008,  3848, 24230,   836,\n",
      "           77],\n",
      "       [29212, 20872, 19591,  6092, 15662,  7773, 26125,   909, 28895,\n",
      "        16876]]), 'Categorical': array([[0., 0., 0., ..., 0., 0., 0.],\n",
      "       [0., 0., 0., ..., 0., 0., 0.],\n",
      "       [0., 0., 0., ..., 0., 0., 0.]], dtype=float32), 'Log1pSalary': array([ 9.71154 , 10.463132, 10.71444 ], dtype=float32)}\n",
      "FullDescription shape: (3, 10)\n"
     ]
    }
   ],
   "source": [
    "example_batch = make_batch(data_train[:3], max_len=10)\n",
    "print(\"Example batch:\")\n",
    "print(example_batch)\n",
    "print(\"FullDescription shape:\", example_batch[\"FullDescription\"].shape)"
   ]
  },
  {
   "cell_type": "code",
   "execution_count": 69,
   "metadata": {
    "id": "nBfN182zpHfd"
   },
   "outputs": [],
   "source": [
    "def iterate_minibatches(data, batch_size=256, shuffle=True, cycle=False, **kwargs):\n",
    "    \"\"\"iterates minibatches of data in random order\"\"\"\n",
    "    while True:\n",
    "        indices = np.arange(len(data))\n",
    "        if shuffle:\n",
    "            indices = np.random.permutation(indices)\n",
    "\n",
    "        for start in range(0, len(indices), batch_size):\n",
    "            batch = make_batch(data.iloc[indices[start : start + batch_size]], **kwargs)\n",
    "            target = batch.pop(target_column)\n",
    "            yield batch, target\n",
    "\n",
    "        if not cycle:\n",
    "            break"
   ]
  },
  {
   "cell_type": "markdown",
   "metadata": {
    "id": "iQAQPx3-pHfd"
   },
   "source": [
    "To generate minibatches we will use simple pyton generator."
   ]
  },
  {
   "cell_type": "code",
   "execution_count": 70,
   "metadata": {
    "id": "fCeb-W9EodjZ"
   },
   "outputs": [],
   "source": [
    "iterator = iterate_minibatches(data_train, 3)\n",
    "batch, target = next(iterator)"
   ]
  },
  {
   "cell_type": "markdown",
   "metadata": {
    "id": "0eI5h9UMycPF"
   },
   "source": [
    "## Architecture\n",
    "\n",
    "Our main model consists of three branches:\n",
    "* Title encoder\n",
    "* Description encoder\n",
    "* Categorical features encoder\n",
    "\n",
    "We will then feed all 3 branches into one common network that predicts salary.\n",
    "\n",
    "<img src=\"https://github.com/yandexdataschool/nlp_course/raw/master/resources/w2_conv_arch.png\" width=600px>\n",
    "\n",
    "This clearly doesn't fit into PyTorch __Sequential__ interface. To build such a network, one will have to use [__PyTorch nn.Module API__](https://pytorch.org/docs/stable/nn.html#torch.nn.Module)."
   ]
  },
  {
   "cell_type": "markdown",
   "metadata": {
    "id": "SbhrCEl1pHfc"
   },
   "source": [
    "But to start with let's build the simple model using only the part of the data. Let's create the baseline solution using only the description part (so it should definetely fit into the Sequential model)."
   ]
  },
  {
   "cell_type": "code",
   "execution_count": 75,
   "metadata": {
    "id": "2jjPFvWZpHfc"
   },
   "outputs": [],
   "source": [
    "import torch.nn as nn\n",
    "\n",
    "class Flatten(nn.Module):\n",
    "    def forward(self, input):\n",
    "        return input.view(input.size(0), -1)\n",
    "\n",
    "# Initially, our FullDescription has a shape [batch_size, seq_len].\n",
    "# After an Embedding layer shape will be [batch_size, seq_len, embedding_size].\n",
    "# However, Conv1d layer expects batches of shape [batch_size, embedding_size, seq_len].\n",
    "# We will use this layer to fix this misunderstanding.\n",
    "class Reorder(nn.Module):\n",
    "    def forward(self, input):\n",
    "        return input.permute((0, 2, 1))"
   ]
  },
  {
   "cell_type": "code",
   "execution_count": 79,
   "metadata": {},
   "outputs": [
    {
     "data": {
      "text/plain": [
       "3768"
      ]
     },
     "execution_count": 79,
     "metadata": {},
     "output_type": "execute_result"
    }
   ],
   "source": [
    "len(categorical_vectorizer.vocabulary_)"
   ]
  },
  {
   "cell_type": "code",
   "execution_count": 80,
   "metadata": {
    "id": "6LPx2UKepHfd"
   },
   "outputs": [],
   "source": [
    "n_tokens = len(token_to_idx)\n",
    "n_cat_features = len(categorical_vectorizer.vocabulary_)\n",
    "hid_size = 64\n",
    "\n",
    "simple_model = nn.Sequential(\n",
    "    nn.Embedding(num_embeddings=n_tokens, embedding_dim=hid_size),\n",
    "    Reorder()\n",
    ")"
   ]
  },
  {
   "cell_type": "markdown",
   "metadata": {
    "id": "uMu66aNSpHfd"
   },
   "source": [
    "__Remember!__ We are working with regression problem and predicting only one number."
   ]
  },
  {
   "cell_type": "code",
   "execution_count": null,
   "metadata": {
    "id": "CerptbpcpHfd"
   },
   "outputs": [],
   "source": [
    "import torch\n",
    "\n",
    "\n",
    "# Check your model. `torch.long` tensors are required for nn.Embedding layers.\n",
    "simple_model(torch.tensor(batch[\"FullDescription\"], dtype=torch.long))"
   ]
  },
  {
   "cell_type": "code",
   "execution_count": null,
   "metadata": {
    "id": "1G-n-458pHfd"
   },
   "outputs": [],
   "source": [
    "device = torch.device(\"cuda\" if torch.cuda.is_available() else \"cpu\")\n",
    "simple_model.to(device);"
   ]
  },
  {
   "cell_type": "markdown",
   "metadata": {
    "id": "8hUa3gBepHfd"
   },
   "source": [
    "And now simple training pipeline:"
   ]
  },
  {
   "cell_type": "code",
   "execution_count": null,
   "metadata": {
    "id": "tKiy4otdpHfd"
   },
   "outputs": [],
   "source": [
    "from IPython.display import clear_output\n",
    "\n",
    "\n",
    "epochs = 1\n",
    "model = simple_model\n",
    "opt = torch.optim.Adam(model.parameters())\n",
    "criterion = nn.MSELoss()\n",
    "\n",
    "history = []\n",
    "for epoch in range(epochs):\n",
    "    for batch, target in iterate_minibatches(data_train):\n",
    "        # Preprocessing the batch data and target\n",
    "        batch = torch.tensor(batch[\"FullDescription\"], dtype=torch.long, device=device)\n",
    "        target = torch.tensor(target, device=device)\n",
    "\n",
    "        predictions = model(batch)\n",
    "        predictions = predictions.flatten()\n",
    "\n",
    "        # YOUR CODE HERE\n",
    "        # Compute loss.\n",
    "\n",
    "        # YOUR CODE HERE\n",
    "        # Train with backprop.\n",
    "\n",
    "        history.append(loss.item())\n",
    "        if len(history) % 10 == 0:\n",
    "            clear_output(wait=True)\n",
    "            plt.plot(history, label=\"loss\")\n",
    "            plt.legend()\n",
    "            plt.show()"
   ]
  },
  {
   "cell_type": "markdown",
   "metadata": {
    "id": "eOXdOBCnpHfe"
   },
   "source": [
    "To evaluate the model we can switch it to `eval` state. Let's check the model quality."
   ]
  },
  {
   "cell_type": "code",
   "execution_count": null,
   "metadata": {
    "id": "eaiQRrfCpHfe"
   },
   "outputs": [],
   "source": [
    "@torch.no_grad()\n",
    "def evaluate_model(model, data, batch_size=256, name=None, **kwargs):\n",
    "    squared_error = abs_error = num_samples = 0.0\n",
    "    data_iterator = iterate_minibatches(data, batch_size, shuffle=False, **kwargs)\n",
    "    for batch, target in data_iterator:\n",
    "        batch = torch.tensor(batch[\"FullDescription\"], dtype=torch.long, device=device)\n",
    "        pred = model(batch)[:, 0].cpu().numpy()\n",
    "\n",
    "        squared_error += np.sum(np.square(pred - target))\n",
    "        abs_error += np.sum(np.abs(pred - target))\n",
    "        num_samples += len(target)\n",
    "\n",
    "    if name is not None:\n",
    "        print(f\"{name}:\")\n",
    "\n",
    "    print(f\"MSE: {squared_error / num_samples:.5f}\")\n",
    "    print(f\"MAE: {abs_error / num_samples:.5f}\")\n",
    "\n",
    "\n",
    "evaluate_model(simple_model, data_train, name=\"Train\")\n",
    "evaluate_model(simple_model, data_val, name=\"Val\")"
   ]
  },
  {
   "cell_type": "markdown",
   "metadata": {
    "id": "hUUchHCnpHfe"
   },
   "source": [
    "### Bonus area 1: three-headed network.\n",
    "\n",
    "Now you can try to implement the network we've discussed above. Use [__PyTorch nn.Module API__](https://pytorch.org/docs/stable/nn.html#torch.nn.Module)."
   ]
  },
  {
   "cell_type": "code",
   "execution_count": null,
   "metadata": {
    "id": "SOG-2OK2pHfe"
   },
   "outputs": [],
   "source": [
    "class ThreeInputsNet(nn.Module):\n",
    "    def __init__(\n",
    "        self,\n",
    "        n_tokens=len(tokens),\n",
    "        n_cat_features=len(categorical_vectorizer.vocabulary_),\n",
    "        hid_size=64,\n",
    "    ):\n",
    "        super().__init__()\n",
    "\n",
    "        self.title_emb = nn.Embedding(n_tokens, hid_size)\n",
    "        # YOUR CODE HERE\n",
    "        # Define modules to process the title.\n",
    "\n",
    "        self.desc_emb = nn.Embedding(n_tokens, hid_size)\n",
    "        # YOUR CODE HERE\n",
    "        # Define modules to process the description.\n",
    "\n",
    "        # YOUR CODE HERE\n",
    "        # Define modules to process the categorical features.\n",
    "        # self.category_out = ...\n",
    "\n",
    "        # YOUR CODE HERE\n",
    "        # Define fully-connected part which will take outputs of\n",
    "        # three heads and return the result.\n",
    "        # self.out = ...\n",
    "\n",
    "    def forward(self, whole_input):\n",
    "        input1, input2, input3 = whole_input\n",
    "        title_beg = self.title_emb(input1).permute((0, 2, 1))\n",
    "        # YOUR CODE HERE\n",
    "        # Process the title.\n",
    "        # title = ...\n",
    "\n",
    "        full_beg = self.full_emb(input2).permute((0, 2, 1))\n",
    "        # YOUR CODE HERE\n",
    "        # Process the description.\n",
    "        # desc = ...\n",
    "\n",
    "        # YOUR CODE HERE\n",
    "        # Process the categorical features.\n",
    "        # category = ...\n",
    "\n",
    "        concatenated = torch.cat(\n",
    "            [\n",
    "                title.view(title.size(0), -1),\n",
    "                desc.view(desc.size(0), -1),\n",
    "                category.view(category.size(0), -1),\n",
    "            ],\n",
    "            dim=1,\n",
    "        )\n",
    "\n",
    "        # YOUR CODE HERE\n",
    "        # Process the concatenated features to generate network output.\n",
    "        # out = ...\n",
    "\n",
    "        return out"
   ]
  },
  {
   "cell_type": "markdown",
   "metadata": {
    "id": "kAigoulWpHfe"
   },
   "source": [
    "### Bonus area 2: comparing RNN to CNN\n",
    "Try implementing simple RNN (or LSTM) and applying it to this task. Compare the quality/performance of these networks. \n",
    "*Hint: try to build networks with ~same number of paremeters.*"
   ]
  },
  {
   "cell_type": "code",
   "execution_count": null,
   "metadata": {
    "id": "rQVzJyCMpHfe"
   },
   "outputs": [],
   "source": [
    "# YOUR CODE HERE"
   ]
  },
  {
   "cell_type": "markdown",
   "metadata": {
    "id": "jPn2Q0wXpHfe"
   },
   "source": [
    "### Bonus area 3: fixing the data leaks\n",
    "Fix the data leak we ignored in the beginning of the __Deep Learning part__. Compare results with and without data leaks using same architectures and training time.\n"
   ]
  },
  {
   "cell_type": "code",
   "execution_count": null,
   "metadata": {
    "id": "DVgBWPpjpHfe"
   },
   "outputs": [],
   "source": [
    "# YOUR CODE HERE"
   ]
  },
  {
   "cell_type": "markdown",
   "metadata": {
    "id": "V-iOq02ZpHfe"
   },
   "source": [
    "__Terrible start-up idea #1962:__ make a tool that automaticaly rephrases your job description (or CV) to meet salary expectations :)"
   ]
  }
 ],
 "metadata": {
  "accelerator": "GPU",
  "colab": {
   "collapsed_sections": [],
   "name": "binpord_practice_cnn_for_texts_clean.ipynb",
   "provenance": []
  },
  "kernelspec": {
   "display_name": "Python 3",
   "language": "python",
   "name": "python3"
  },
  "language_info": {
   "codemirror_mode": {
    "name": "ipython",
    "version": 3
   },
   "file_extension": ".py",
   "mimetype": "text/x-python",
   "name": "python",
   "nbconvert_exporter": "python",
   "pygments_lexer": "ipython3",
   "version": "3.8.5"
  }
 },
 "nbformat": 4,
 "nbformat_minor": 1
}
