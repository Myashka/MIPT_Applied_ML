{
 "cells": [
  {
   "cell_type": "markdown",
   "metadata": {
    "id": "kBl105NwehuA"
   },
   "source": [
    "# Practice: BiLSTM for PoS Tagging\n",
    "_This notebook is based on [open-source implementation](https://github.com/bentrevett/pytorch-pos-tagging) of PoS Tagging in PyTorch._\n",
    "\n",
    "## Introduction\n",
    "\n",
    "In this series we'll be building a machine learning model that produces an output for every element in an input sequence, using PyTorch and torchtext. Specifically, we will be inputting a sequence of text and the model will output a part-of-speech (PoS) tag for each token in the input text. This can also be used for named entity recognition (NER), where the output for each token will be what type of entity, if any, the token is.\n",
    "\n",
    "In this notebook, we'll be implementing a multi-layer bi-directional LSTM (BiLSTM) to predict PoS tags using the Universal Dependencies English Web Treebank (UDPOS) dataset."
   ]
  },
  {
   "cell_type": "markdown",
   "metadata": {
    "id": "nraZXRyjIlhw"
   },
   "source": [
    "## Preparing the data\n",
    "\n",
    "Let's use the torchtext to load the data. Each item of the UDPOS dataset consists of 3 lists: a tokenized sentence and two different sets of tags, [universal dependency (UD) tags](https://universaldependencies.org/u/pos/) and [Penn Treebank (PTB) tags](https://www.sketchengine.eu/penn-treebank-tagset/). We'll only train our model on the UD tags."
   ]
  },
  {
   "cell_type": "markdown",
   "metadata": {},
   "source": [
    "### Directly use source code of UDPOS dataset because there are problems at torchdata server"
   ]
  },
  {
   "cell_type": "code",
   "execution_count": 41,
   "metadata": {},
   "outputs": [],
   "source": [
    "from torchdata.datapipes.iter import FileOpener, IterableWrapper"
   ]
  },
  {
   "cell_type": "code",
   "execution_count": 42,
   "metadata": {},
   "outputs": [],
   "source": [
    "import os\n",
    "from typing import Union, Tuple\n",
    "\n",
    "from torchtext._internal.module_utils import is_module_available\n",
    "from torchdata.datapipes.iter import FileOpener, HttpReader, IterableWrapper\n",
    "from torchtext.data.datasets_utils import (\n",
    "    _wrap_split_argument,\n",
    "    _create_dataset_directory,\n",
    ")\n",
    "\n",
    "if is_module_available(\"torchdata\"):\n",
    "    from torchdata.datapipes.iter import FileOpener, HttpReader, IterableWrapper\n",
    "\n",
    "\n",
    "URL = \"https://bitbucket.org/sivareddyg/public/downloads/en-ud-v2.zip\"\n",
    "\n",
    "MD5 = \"bdcac7c52d934656bae1699541424545\"\n",
    "\n",
    "NUM_LINES = {\n",
    "    \"train\": 12543,\n",
    "    \"valid\": 2002,\n",
    "    \"test\": 2077,\n",
    "}\n",
    "\n",
    "_EXTRACTED_FILES = {\"train\": \"train.txt\", \"valid\": \"dev.txt\", \"test\": \"test.txt\"}\n",
    "\n",
    "\n",
    "DATASET_NAME = \"UDPOS\"\n",
    "\n",
    "\n",
    "@_wrap_split_argument((\"train\", \"valid\", \"test\"))\n",
    "def UDPOS(root: str, split: Union[Tuple[str], str]):\n",
    "    \"\"\"UDPOS Dataset\n",
    "\n",
    "    Number of lines per split:\n",
    "        - train: 12543\n",
    "        - valid: 2002\n",
    "        - test: 2077\n",
    "\n",
    "    Args:\n",
    "        root: Directory where the datasets are saved. Default: os.path.expanduser('~/.torchtext/cache')\n",
    "        split: split or splits to be returned. Can be a string or tuple of strings. Default: (`train`, `valid`, `test`)\n",
    "\n",
    "    :returns: DataPipe that yields list of words along with corresponding parts-of-speech tags\n",
    "    :rtype: [list(str), list(str)]\n",
    "    \"\"\"\n",
    "\n",
    "    url_dp = IterableWrapper([URL])\n",
    "    cache_compressed_dp = url_dp.on_disk_cache(\n",
    "        filepath_fn=lambda x: os.path.join(root, os.path.basename(URL)),\n",
    "        hash_dict={os.path.join(root, os.path.basename(URL)): MD5},\n",
    "        hash_type=\"md5\",\n",
    "    )\n",
    "    cache_compressed_dp = HttpReader(cache_compressed_dp).end_caching(\n",
    "        mode=\"wb\", same_filepath_fn=True\n",
    "    )\n",
    "\n",
    "    cache_decompressed_dp = cache_compressed_dp.on_disk_cache(\n",
    "        filepath_fn=lambda x: os.path.join(root, _EXTRACTED_FILES[split])\n",
    "    )\n",
    "    cache_decompressed_dp = (\n",
    "        FileOpener(cache_decompressed_dp, mode=\"b\")\n",
    "        .read_from_zip()\n",
    "        .filter(lambda x: _EXTRACTED_FILES[split] in x[0])\n",
    "    )\n",
    "    cache_decompressed_dp = cache_decompressed_dp.end_caching(\n",
    "        mode=\"wb\", same_filepath_fn=True\n",
    "    )\n",
    "\n",
    "    data_dp = FileOpener(cache_decompressed_dp, mode=\"b\")\n",
    "    return data_dp.readlines(decode=True).read_iob()"
   ]
  },
  {
   "cell_type": "code",
   "execution_count": 43,
   "metadata": {
    "id": "kaYrowz1mRiy"
   },
   "outputs": [
    {
     "name": "stderr",
     "output_type": "stream",
     "text": [
      "C:\\ProgramData\\Anaconda3\\lib\\site-packages\\torch\\utils\\data\\datapipes\\utils\\common.py:24: UserWarning: Lambda function is not supported for pickle, please use regular python function or functools.partial instead.\n",
      "  warnings.warn(\n",
      "C:\\ProgramData\\Anaconda3\\lib\\site-packages\\torch\\utils\\data\\datapipes\\iter\\selecting.py:54: UserWarning: Lambda function is not supported for pickle, please use regular python function or functools.partial instead.\n",
      "  warnings.warn(\"Lambda function is not supported for pickle, please use \"\n"
     ]
    },
    {
     "name": "stdout",
     "output_type": "stream",
     "text": [
      "Number of training examples: 12543\n",
      "\n",
      "----------------------------------------------------\n",
      "Word\t\t\tUD Tag\t\tPTB tag\n",
      "----------------------------------------------------\n",
      "Al      \t\tPROPN\t\tNNP\n",
      "-       \t\tPUNCT\t\tHYPH\n",
      "Zaman   \t\tPROPN\t\tNNP\n",
      ":       \t\tPUNCT\t\t:\n",
      "American\t\tADJ\t\tJJ\n",
      "forces  \t\tNOUN\t\tNNS\n",
      "killed  \t\tVERB\t\tVBD\n",
      "Shaikh  \t\tPROPN\t\tNNP\n",
      "Abdullah\t\tPROPN\t\tNNP\n",
      "al      \t\tPROPN\t\tNNP\n",
      "-       \t\tPUNCT\t\tHYPH\n",
      "Ani     \t\tPROPN\t\tNNP\n",
      ",       \t\tPUNCT\t\t,\n",
      "the     \t\tDET\t\tDT\n",
      "preacher\t\tNOUN\t\tNN\n",
      "at      \t\tADP\t\tIN\n",
      "the     \t\tDET\t\tDT\n",
      "mosque  \t\tNOUN\t\tNN\n",
      "in      \t\tADP\t\tIN\n",
      "the     \t\tDET\t\tDT\n",
      "town    \t\tNOUN\t\tNN\n",
      "of      \t\tADP\t\tIN\n",
      "Qaim    \t\tPROPN\t\tNNP\n",
      ",       \t\tPUNCT\t\t,\n",
      "near    \t\tADP\t\tIN\n",
      "the     \t\tDET\t\tDT\n",
      "Syrian  \t\tADJ\t\tJJ\n",
      "border  \t\tNOUN\t\tNN\n",
      ".       \t\tPUNCT\t\t.\n"
     ]
    }
   ],
   "source": [
    "train_data = list(UDPOS(split=\"train\"))\n",
    "print(f\"Number of training examples: {len(train_data)}\")\n",
    "print()\n",
    "\n",
    "text, ud_tags, ptb_tags = train_data[0]\n",
    "print(\"----------------------------------------------------\")\n",
    "print(\"Word\\t\\t\\tUD Tag\\t\\tPTB tag\")\n",
    "print(\"----------------------------------------------------\")\n",
    "for word, ud_tag, ptb_tag in zip(text, ud_tags, ptb_tags):\n",
    "    print(f\"{word:<8}\\t\\t{ud_tag}\\t\\t{ptb_tag}\")"
   ]
  },
  {
   "cell_type": "markdown",
   "metadata": {
    "id": "nn-3UmXdXXUw"
   },
   "source": [
    "Just like before, we need to build vocabularies for both words and tags."
   ]
  },
  {
   "cell_type": "code",
   "execution_count": 44,
   "metadata": {
    "id": "kAk6S047mRS0"
   },
   "outputs": [
    {
     "name": "stdout",
     "output_type": "stream",
     "text": [
      "----------------------------------\n",
      "Tag\t\tCount\tPercentage\n",
      "----------------------------------\n",
      "NOUN    \t34781\t17.0%\n",
      "PUNCT   \t23679\t11.6%\n",
      "VERB    \t23081\t11.3%\n",
      "PRON    \t18577\t9.1%\n",
      "ADP     \t17638\t8.6%\n",
      "DET     \t16285\t8.0%\n",
      "PROPN   \t12946\t6.3%\n",
      "ADJ     \t12477\t6.1%\n",
      "AUX     \t12343\t6.0%\n",
      "ADV     \t10548\t5.2%\n",
      "CCONJ   \t6707\t3.3%\n",
      "PART    \t5567\t2.7%\n",
      "NUM     \t3999\t2.0%\n",
      "SCONJ   \t3843\t1.9%\n",
      "X       \t847\t0.4%\n",
      "INTJ    \t688\t0.3%\n",
      "SYM     \t599\t0.3%\n"
     ]
    }
   ],
   "source": [
    "from collections import Counter\n",
    "\n",
    "from torchtext.vocab import vocab as Vocab\n",
    "\n",
    "\n",
    "word_counts = Counter()\n",
    "tag_counts = Counter()\n",
    "for text, tags, _ in train_data:\n",
    "    word_counts.update(word.lower() for word in text)\n",
    "    tag_counts.update(tags)\n",
    "\n",
    "word_vocab = Vocab(word_counts, min_freq=2)\n",
    "tag_vocab = Vocab(tag_counts)\n",
    "\n",
    "print(\"----------------------------------\")\n",
    "print(\"Tag\\t\\tCount\\tPercentage\")\n",
    "print(\"----------------------------------\")\n",
    "total = sum(tag_counts.values())\n",
    "for tag, count in tag_counts.most_common():\n",
    "    print(f\"{tag:<8}\\t{count}\\t{100 * count / total:.1f}%\")"
   ]
  },
  {
   "cell_type": "markdown",
   "metadata": {
    "id": "F3jm73U0NDIC"
   },
   "source": [
    "Our word vocabulary will have to handle unknown tokens (note how we set `min_freq` to 2 for it) in order to simulate the real world conditions. On the other hand, the tags vocabulary doesn't have such a problem, as we deal with strictly finite set of tags."
   ]
  },
  {
   "cell_type": "code",
   "execution_count": 45,
   "metadata": {
    "id": "nsWfXovnNumB"
   },
   "outputs": [],
   "source": [
    "word_vocab.insert_token(\"<unk>\", index=0)\n",
    "word_vocab.set_default_index(0)"
   ]
  },
  {
   "cell_type": "markdown",
   "metadata": {
    "id": "EKxPe_8KNwGZ"
   },
   "source": [
    "Also, both vocabularies would need a padding tokens to handle the padding."
   ]
  },
  {
   "cell_type": "code",
   "execution_count": 46,
   "metadata": {
    "id": "VrdSmIhwm8ik"
   },
   "outputs": [],
   "source": [
    "word_vocab.append_token(\"<pad>\")\n",
    "tag_vocab.append_token(\"<pad>\")"
   ]
  },
  {
   "cell_type": "markdown",
   "metadata": {
    "id": "1wH0DHOmOCOl"
   },
   "source": [
    "Now that we have our vocabularies, we are ready to start building our model! However, before we get there, let's use one more thing. The torchtext library provides a range of pretrained word2vec models for us to use. Let's use the [GloVe](https://nlp.stanford.edu/projects/glove/) to initialize our embeddings!\n",
    "\n",
    "We can load the model as follows:"
   ]
  },
  {
   "cell_type": "code",
   "execution_count": 51,
   "metadata": {},
   "outputs": [],
   "source": [
    "import torchtext"
   ]
  },
  {
   "cell_type": "code",
   "execution_count": 65,
   "metadata": {
    "id": "u55xyc5YXUxP"
   },
   "outputs": [],
   "source": [
    "from torchtext.vocab import GloVe\n",
    "\n",
    "glove = torchtext.vocab.Vectors('glove.6B.100d.txt', 'GloVe')\n",
    "\n",
    "#glove = torchtext.vocab.GloVe(name='6B', dim=100)"
   ]
  },
  {
   "cell_type": "markdown",
   "metadata": {
    "id": "q4l7SAkPOyUx"
   },
   "source": [
    "And extract word vectors as follows:"
   ]
  },
  {
   "cell_type": "code",
   "execution_count": 66,
   "metadata": {
    "id": "2nL_xm3vOx8j"
   },
   "outputs": [
    {
     "data": {
      "text/plain": [
       "(torch.Size([100]), tensor([ 0.1233,  0.5574,  0.7420, -0.0655, -0.3349]))"
      ]
     },
     "execution_count": 66,
     "metadata": {},
     "output_type": "execute_result"
    }
   ],
   "source": [
    "glove[\"word\"].shape, glove[\"word\"][:5]"
   ]
  },
  {
   "cell_type": "markdown",
   "metadata": {
    "id": "oWnftE0PO161"
   },
   "source": [
    "Using this dict-like interface, we can extract vectors for all the words, the model saw during training. What happens to the out-of-vocabulary words? Let's try it out:"
   ]
  },
  {
   "cell_type": "code",
   "execution_count": 67,
   "metadata": {
    "id": "tJyxH-Ugo1g7"
   },
   "outputs": [
    {
     "data": {
      "text/plain": [
       "tensor([0., 0., 0., 0., 0.])"
      ]
     },
     "execution_count": 67,
     "metadata": {},
     "output_type": "execute_result"
    }
   ],
   "source": [
    "glove[\"some-non-existent-word\"][:5]"
   ]
  },
  {
   "cell_type": "markdown",
   "metadata": {
    "id": "zKOShMVfPYdE"
   },
   "source": [
    "The torchtext's GloVe yields a zeros vector. This is the default behaviour, which we can modify using the `unk_init` parameter:"
   ]
  },
  {
   "cell_type": "code",
   "execution_count": 68,
   "metadata": {
    "id": "lvzOOBwyo9zP"
   },
   "outputs": [],
   "source": [
    "import torch\n",
    "\n",
    "\n",
    "#glove = GloVe(name=\"6B\", dim=100, unk_init=torch.Tensor.normal_)\n",
    "glove = torchtext.vocab.Vectors('glove.6B.100d.txt', 'GloVe', unk_init=torch.Tensor.normal_)"
   ]
  },
  {
   "cell_type": "markdown",
   "metadata": {
    "id": "i9HAE7gSPpUe"
   },
   "source": [
    "Now the in-vocabulary words still yield the same vectors as before:"
   ]
  },
  {
   "cell_type": "code",
   "execution_count": 69,
   "metadata": {
    "id": "5nI1dX0GPtYP"
   },
   "outputs": [
    {
     "data": {
      "text/plain": [
       "tensor([ 0.1233,  0.5574,  0.7420, -0.0655, -0.3349])"
      ]
     },
     "execution_count": 69,
     "metadata": {},
     "output_type": "execute_result"
    }
   ],
   "source": [
    "glove[\"word\"][:5]"
   ]
  },
  {
   "cell_type": "markdown",
   "metadata": {
    "id": "54EHlyxaPuSH"
   },
   "source": [
    "But out-of-vocabulary words now yield normally distributed vectors:"
   ]
  },
  {
   "cell_type": "code",
   "execution_count": 70,
   "metadata": {
    "id": "_8eNht8-pTR3"
   },
   "outputs": [
    {
     "data": {
      "text/plain": [
       "tensor([ 1.3893, -1.0744,  0.7611,  1.0888, -0.1287])"
      ]
     },
     "execution_count": 70,
     "metadata": {},
     "output_type": "execute_result"
    }
   ],
   "source": [
    "glove[\"some-non-existent-word\"][:5]"
   ]
  },
  {
   "cell_type": "markdown",
   "metadata": {
    "id": "cUP3WVb4P092"
   },
   "source": [
    "What's important here is to note that GloVe doesn't save this *unknown* vectors, it just calls our `unk_init` function on each unknown word each time. This means that if we try to fetch a vector for the same out-of-vocabulary word once more, we would get a completely different vector:"
   ]
  },
  {
   "cell_type": "code",
   "execution_count": 71,
   "metadata": {
    "id": "WvsuxqARpUmZ"
   },
   "outputs": [
    {
     "data": {
      "text/plain": [
       "tensor([ 0.2941,  0.1219, -1.4676,  0.4187, -0.3713])"
      ]
     },
     "execution_count": 71,
     "metadata": {},
     "output_type": "execute_result"
    }
   ],
   "source": [
    "glove[\"some-non-existent-word\"][:5]"
   ]
  },
  {
   "cell_type": "markdown",
   "metadata": {
    "id": "_AeOoSM0QMaa"
   },
   "source": [
    "How is this usefull? Well, we don't want to fetch vectors from GloVe all the time. We actually want our model to learn more task specific embeddings during training, so we still want to create an embeddings layer. However, it might be a good idea to initialize embeddings for the known words with something more meaningful than just random. And this is exactly the place, where GloVe comes into play! Let's generate a matrix with embeddings for all words in our vocabulary (including the out-of-vocabulary words for the GloVe, in which case we will get just random vectors) and use it to init out embeddings layer later on."
   ]
  },
  {
   "cell_type": "code",
   "execution_count": 228,
   "metadata": {
    "id": "y9P6lcQYowp7"
   },
   "outputs": [
    {
     "data": {
      "text/plain": [
       "torch.Size([8866, 100])"
      ]
     },
     "execution_count": 228,
     "metadata": {},
     "output_type": "execute_result"
    }
   ],
   "source": [
    "word_vectors = glove.get_vecs_by_tokens(word_vocab.lookup_tokens(range(len(word_vocab))))\n",
    "word_vectors.shape"
   ]
  },
  {
   "cell_type": "markdown",
   "metadata": {
    "id": "OX4H5ULDQ6j7"
   },
   "source": [
    "Now that are finished tinkering with data, the last bit is to create our `DataLoader` for which we once more need to write a custom `collate_fn`."
   ]
  },
  {
   "cell_type": "code",
   "execution_count": 229,
   "metadata": {
    "id": "CQJKpPcQXmaK"
   },
   "outputs": [
    {
     "data": {
      "text/plain": [
       "(torch.Size([60, 128]), torch.Size([60, 128]))"
      ]
     },
     "execution_count": 229,
     "metadata": {},
     "output_type": "execute_result"
    }
   ],
   "source": [
    "from torch.nn.utils.rnn import pad_sequence\n",
    "from torch.utils.data import DataLoader\n",
    "\n",
    "\n",
    "def collate_batch(batch):\n",
    "    text_list, tags_list = [], []\n",
    "    for text, tags, _ in batch:\n",
    "        # YOUR CODE HERE\n",
    "        # Convert text and tags into lists of token indices and cast them\n",
    "        # into torch tensors. Store tensors in text_list and tag_list.\n",
    "        text_list.append(torch.Tensor(word_vocab.lookup_indices(text)))\n",
    "        tags_list.append(torch.Tensor(tag_vocab.lookup_indices(tags)))\n",
    "\n",
    "    # YOUR CODE HERE\n",
    "    # Pad sequences with pad_sequence function.\n",
    "    # texts_padded = pad_sequence(...)\n",
    "    # tags_padded = pad_sequence(...)\n",
    "    \n",
    "    texts_padded = pad_sequence(text_list, padding_value=word_vocab['<pad>'])\n",
    "    tags_padded = pad_sequence(tags_list, padding_value=tag_vocab['<pad>'])\n",
    "\n",
    "    return texts_padded.type(torch.LongTensor), tags_padded.type(torch.LongTensor)\n",
    "\n",
    "\n",
    "batch_size = 128\n",
    "train_dataloader = DataLoader(train_data, batch_size, shuffle=True, collate_fn=collate_batch)\n",
    "text, tags = next(iter(train_dataloader))\n",
    "text.shape, tags.shape"
   ]
  },
  {
   "cell_type": "markdown",
   "metadata": {
    "id": "zs8RH2Z6RvfE"
   },
   "source": [
    "Let's also create a `DataLoader` for a validation dataset to evaluate our model during training."
   ]
  },
  {
   "cell_type": "code",
   "execution_count": 230,
   "metadata": {
    "id": "BqK_DQ74wYv_"
   },
   "outputs": [],
   "source": [
    "val_data = list(UDPOS(split=\"valid\"))\n",
    "val_dataloader = DataLoader(val_data, batch_size, collate_fn=collate_batch)"
   ]
  },
  {
   "cell_type": "markdown",
   "metadata": {
    "id": "SyNaPpyKehuR"
   },
   "source": [
    "## Building the Model\n",
    "\n",
    "Next up, we define our model - a multi-layer bi-directional LSTM. The image below shows a simplified version of the model with only one LSTM layer and omitting the LSTM's cell state for clarity.\n",
    "\n",
    "![](https://github.com/girafe-ai/ml-mipt/blob/21f_advanced/week1_04_transformer_n_pos_tagging/assets/pos-bidirectional-lstm.png?raw=1)\n",
    "\n",
    "The model takes in a sequence of tokens, $X = \\{x_1, x_2,...,x_T\\}$, passes them through an embedding layer, $e$, to get the token embeddings, $e(X) = \\{e(x_1), e(x_2), ..., e(x_T)\\}$.\n",
    "\n",
    "These embeddings are processed - one per time-step - by the forward and backward LSTMs. The forward LSTM processes the sequence from left-to-right, whilst the backward LSTM processes the sequence right-to-left, i.e. the first input to the forward LSTM is $x_1$ and the first input to the backward LSTM is $x_T$. \n",
    "\n",
    "The LSTMs also take in the the hidden, $h$, and cell, $c$, states from the previous time-step\n",
    "\n",
    "$$h^{\\rightarrow}_t = \\text{LSTM}^{\\rightarrow}(e(x^{\\rightarrow}_t), h^{\\rightarrow}_{t-1}, c^{\\rightarrow}_{t-1})$$\n",
    "$$h^{\\leftarrow}_t=\\text{LSTM}^{\\leftarrow}(e(x^{\\leftarrow}_t), h^{\\leftarrow}_{t-1}, c^{\\leftarrow}_{t-1})$$\n",
    "\n",
    "After the whole sequence has been processed, the hidden and cell states are then passed to the next layer of the LSTM.\n",
    "\n",
    "The initial hidden and cell states, $h_0$ and $c_0$, for each direction and layer are initialized to a tensor full of zeros.\n",
    "\n",
    "We then concatenate both the forward and backward hidden states from the final layer of the LSTM, $H = \\{h_1, h_2, ... h_T\\}$, where $h_1 = [h^{\\rightarrow}_1;h^{\\leftarrow}_T]$, $h_2 = [h^{\\rightarrow}_2;h^{\\leftarrow}_{T-1}]$, etc. and pass them through a linear layer, $f$, which is used to make the prediction of which tag applies to this token, $\\hat{y}_t = f(h_t)$.\n",
    "\n",
    "When training the model, we will compare our predicted tags, $\\hat{Y}$ against the actual tags, $Y$, to calculate a loss, the gradients w.r.t. that loss, and then update our parameters.\n",
    "\n",
    "We implement the model detailed above in the `BiLSTMPOSTagger` class.\n",
    "\n",
    "`nn.Embedding` is an embedding layer and the input dimension should be the size of the input (text) vocabulary. We tell it what the index of the padding token is so it does not update the padding token's embedding entry.\n",
    "\n",
    "`nn.LSTM` is the LSTM. We apply dropout as regularization between the layers, if we are using more than one.\n",
    "\n",
    "`nn.Linear` defines the linear layer to make predictions using the LSTM outputs. We double the size of the input if we are using a bi-directional LSTM. The output dimensions should be the size of the tag vocabulary.\n",
    "\n",
    "We also define a dropout layer with `nn.Dropout`, which we use in the `forward` method to apply dropout to the embeddings and the outputs of the final layer of the LSTM."
   ]
  },
  {
   "cell_type": "code",
   "execution_count": 231,
   "metadata": {
    "id": "GL4irQ2MehuR"
   },
   "outputs": [],
   "source": [
    "import torch.nn as nn\n",
    "\n",
    "\n",
    "class BiLSTMPOSTagger(nn.Module):\n",
    "    def __init__(self, word_vectors, hidden_dim, n_tags, n_layers, dropout, pad_idx):\n",
    "        super().__init__()\n",
    "\n",
    "        # This is how we can init our embeddings with pretrained word vectors.\n",
    "        # The freeze=False parameter tells torch that we still want to update\n",
    "        # the embeddings during training.\n",
    "        self.embedding = nn.Embedding.from_pretrained(\n",
    "            word_vectors, freeze=False, padding_idx=pad_idx\n",
    "        )\n",
    "\n",
    "        # YOUR CODE HERE\n",
    "        # Define LSTM, linear and dropout layers.\n",
    "        self.lstm = nn.LSTM(word_vectors.shape[1], hidden_dim, n_layers, dropout=dropout, bidirectional=True)\n",
    "        self.dropout = nn.Dropout(p=dropout)\n",
    "        self.linear = nn.Linear(hidden_dim * 2, n_tags)\n",
    "\n",
    "    def forward(self, text):\n",
    "        # text has a shape of [seq_len, batch_size]\n",
    "\n",
    "        # YOUR CODE HERE\n",
    "        # Compute an embedding and apply dropout.\n",
    "        # embedded = ...\n",
    "        # embedded should have a shape of [seq_len, batch_size, emb_dim]\n",
    "        embedded = self.embedding(text)\n",
    "        embedded = self.dropout(embedded)\n",
    "\n",
    "        # YOUR CODE HERE\n",
    "        # Compute the RNN output values.\n",
    "        # outputs = ...\n",
    "        # Note that RNN will return two things:\n",
    "        # 1) outputs: holds the backward and forward hidden states in the final layer\n",
    "        # 2) hidden: holds the backward and forward hidden state at the final time-step\n",
    "        # outputs should have a shape of [seq_len, batch_size, 2 * hid_dim]\n",
    "        outputs, _ = self.lstm(embedded)\n",
    "        \n",
    "        predictions = self.linear(self.dropout(outputs))\n",
    "\n",
    "        # YOUR CODE HERE\n",
    "        # Use the fc layer to make a prediction of what the tag should be.\n",
    "        # Don't forget to apply dropout\n",
    "\n",
    "        return predictions"
   ]
  },
  {
   "cell_type": "markdown",
   "metadata": {
    "id": "21qZTMjMehuR"
   },
   "source": [
    "## Training the Model\n",
    "\n",
    "Next, we instantiate the model. We need to ensure the embedding dimensions matches that of the GloVe embeddings we loaded earlier.\n",
    "\n",
    "The rest of the hyperparmeters have been chosen as sensible defaults, though there may be a combination that performs better on this model and dataset."
   ]
  },
  {
   "cell_type": "code",
   "execution_count": 232,
   "metadata": {
    "id": "EMklHBCZehuS"
   },
   "outputs": [],
   "source": [
    "model = BiLSTMPOSTagger(\n",
    "    word_vectors,\n",
    "    hidden_dim=128,\n",
    "    n_tags=len(tag_vocab),\n",
    "    n_layers=2,\n",
    "    dropout=0.25,\n",
    "    pad_idx=word_vocab[\"<pad>\"],\n",
    ")"
   ]
  },
  {
   "cell_type": "markdown",
   "metadata": {
    "id": "GL6jYTEDehuS"
   },
   "source": [
    "We initialize the weights from a simple Normal distribution. Again, there may be a better initialization scheme for this model and dataset."
   ]
  },
  {
   "cell_type": "code",
   "execution_count": 193,
   "metadata": {
    "id": "ulVTSarBehuS"
   },
   "outputs": [],
   "source": [
    "def init_weights(m):\n",
    "    for name, param in m.named_parameters():\n",
    "        nn.init.normal_(param.data, mean=0, std=0.1)\n",
    "\n",
    "\n",
    "model.apply(init_weights);"
   ]
  },
  {
   "cell_type": "markdown",
   "metadata": {
    "id": "xpk8J2cuehuS"
   },
   "source": [
    "Next, a small function to tell us how many parameters are in our model. Useful for comparing different models."
   ]
  },
  {
   "cell_type": "code",
   "execution_count": 233,
   "metadata": {
    "id": "6HZqDv7pehuS"
   },
   "outputs": [
    {
     "name": "stdout",
     "output_type": "stream",
     "text": [
      "The model has 1,522,010 trainable parameters\n"
     ]
    }
   ],
   "source": [
    "def count_parameters(model):\n",
    "    return sum(p.numel() for p in model.parameters() if p.requires_grad)\n",
    "\n",
    "\n",
    "print(f\"The model has {count_parameters(model):,} trainable parameters\")"
   ]
  },
  {
   "cell_type": "markdown",
   "metadata": {
    "id": "YkFVcMP-ehuT"
   },
   "source": [
    "Now we define our optimizer. We use Adam with the default learning rate."
   ]
  },
  {
   "cell_type": "code",
   "execution_count": 234,
   "metadata": {
    "id": "kuki8eUQehuU"
   },
   "outputs": [],
   "source": [
    "optimizer = torch.optim.Adam(model.parameters())"
   ]
  },
  {
   "cell_type": "markdown",
   "metadata": {
    "id": "senCh0bhehuU"
   },
   "source": [
    "Next, we define our loss function, cross-entropy loss.\n",
    "\n",
    "Even though we have no `<unk>` tokens within our tag vocab, we still have `<pad>` tokens. This is because all sentences within a batch need to be the same size. However, we don't want to calculate the loss when the target is a `<pad>` token as we aren't training our model to recognize padding tokens.\n",
    "\n",
    "We handle this by setting the `ignore_index` in our loss function to the index of the padding token in our tag vocabulary."
   ]
  },
  {
   "cell_type": "code",
   "execution_count": 235,
   "metadata": {
    "id": "AohETU56ehuU"
   },
   "outputs": [],
   "source": [
    "criterion = nn.CrossEntropyLoss(ignore_index=tag_vocab[\"<pad>\"])"
   ]
  },
  {
   "cell_type": "markdown",
   "metadata": {
    "id": "KKOeDzKAehuU"
   },
   "source": [
    "We then place our model on our GPU, if we have one."
   ]
  },
  {
   "cell_type": "code",
   "execution_count": 236,
   "metadata": {
    "id": "UduGW2mqehuV"
   },
   "outputs": [],
   "source": [
    "device = torch.device(\"cuda:0\" if torch.cuda.is_available() else \"cpu\")\n",
    "model = model.to(device)"
   ]
  },
  {
   "cell_type": "markdown",
   "metadata": {
    "id": "xtpPMFR3ehuV"
   },
   "source": [
    "We will be using the loss value between our predicted and actual tags to train the network, but ideally we'd like a more interpretable way to see how well our model is doing - accuracy.\n",
    "\n",
    "The issue is that we don't want to calculate accuracy over the `<pad>` tokens as we aren't interested in predicting them.\n",
    "\n",
    "The function below only calculates accuracy over non-padded tokens. We then compare the predictions of such elements with the labels to get a count of how many predictions were correct. We then divide this by the number of non-pad elements to get our accuracy value over the batch."
   ]
  },
  {
   "cell_type": "code",
   "execution_count": 237,
   "metadata": {
    "id": "2rd7Kol-ehuW"
   },
   "outputs": [],
   "source": [
    "@torch.no_grad()\n",
    "def accuracy(pred, target, pad_idx=tag_vocab[\"<pad>\"]):\n",
    "    pred = pred.argmax(dim=1)\n",
    "    correct = (pred == target) & (target != pad_idx)\n",
    "    return correct.sum() / torch.count_nonzero(target != pad_idx)"
   ]
  },
  {
   "cell_type": "markdown",
   "metadata": {
    "id": "kRIJVmxST8_A"
   },
   "source": [
    "Once again we will use a tensorboard to track our training progress."
   ]
  },
  {
   "cell_type": "code",
   "execution_count": 155,
   "metadata": {
    "id": "DVrf9yc2DXzf"
   },
   "outputs": [
    {
     "data": {
      "text/plain": [
       "Reusing TensorBoard on port 6006 (pid 13600), started 0:02:10 ago. (Use '!kill 13600' to kill it.)"
      ]
     },
     "metadata": {},
     "output_type": "display_data"
    },
    {
     "data": {
      "text/html": [
       "\n",
       "      <iframe id=\"tensorboard-frame-cf533f1da3aee17e\" width=\"100%\" height=\"800\" frameborder=\"0\">\n",
       "      </iframe>\n",
       "      <script>\n",
       "        (function() {\n",
       "          const frame = document.getElementById(\"tensorboard-frame-cf533f1da3aee17e\");\n",
       "          const url = new URL(\"/\", window.location);\n",
       "          const port = 6006;\n",
       "          if (port) {\n",
       "            url.port = port;\n",
       "          }\n",
       "          frame.src = url;\n",
       "        })();\n",
       "      </script>\n",
       "    "
      ],
      "text/plain": [
       "<IPython.core.display.HTML object>"
      ]
     },
     "metadata": {},
     "output_type": "display_data"
    }
   ],
   "source": [
    "%load_ext tensorboard\n",
    "%tensorboard --logdir runs"
   ]
  },
  {
   "cell_type": "markdown",
   "metadata": {
    "id": "hQbqNS0xehuW"
   },
   "source": [
    "Next is the training loop.\n",
    "\n",
    "We first set the model to `train` mode to turn on dropout/batch-norm/etc. (if used). Then we iterate over our iterator, which returns a batch of examples. \n",
    "\n",
    "For each batch: \n",
    "- we zero the gradients over the parameters from the last gradient calculation\n",
    "- insert the batch of text into the model to get predictions\n",
    "- as PyTorch loss functions cannot handle 3-dimensional predictions we reshape our predictions\n",
    "- calculate the loss and accuracy between the predicted tags and actual tags\n",
    "- call `backward` to calculate the gradients of the parameters w.r.t. the loss\n",
    "- take an optimizer `step` to update the parameters\n",
    "- add to the running total of loss and accuracy"
   ]
  },
  {
   "cell_type": "code",
   "execution_count": 238,
   "metadata": {
    "id": "YUwtU5pqDbc2"
   },
   "outputs": [
    {
     "data": {
      "application/vnd.jupyter.widget-view+json": {
       "model_id": "9a37a60179954b45b2473a57bf82fdd6",
       "version_major": 2,
       "version_minor": 0
      },
      "text/plain": [
       "Epochs:   0%|          | 0/15 [00:00<?, ?it/s]"
      ]
     },
     "metadata": {},
     "output_type": "display_data"
    },
    {
     "data": {
      "application/vnd.jupyter.widget-view+json": {
       "model_id": "",
       "version_major": 2,
       "version_minor": 0
      },
      "text/plain": [
       "Train:   0%|          | 0/98 [00:00<?, ?it/s]"
      ]
     },
     "metadata": {},
     "output_type": "display_data"
    },
    {
     "data": {
      "application/vnd.jupyter.widget-view+json": {
       "model_id": "",
       "version_major": 2,
       "version_minor": 0
      },
      "text/plain": [
       "Val:   0%|          | 0/16 [00:00<?, ?it/s]"
      ]
     },
     "metadata": {},
     "output_type": "display_data"
    },
    {
     "data": {
      "application/vnd.jupyter.widget-view+json": {
       "model_id": "",
       "version_major": 2,
       "version_minor": 0
      },
      "text/plain": [
       "Train:   0%|          | 0/98 [00:00<?, ?it/s]"
      ]
     },
     "metadata": {},
     "output_type": "display_data"
    },
    {
     "data": {
      "application/vnd.jupyter.widget-view+json": {
       "model_id": "",
       "version_major": 2,
       "version_minor": 0
      },
      "text/plain": [
       "Val:   0%|          | 0/16 [00:00<?, ?it/s]"
      ]
     },
     "metadata": {},
     "output_type": "display_data"
    },
    {
     "data": {
      "application/vnd.jupyter.widget-view+json": {
       "model_id": "",
       "version_major": 2,
       "version_minor": 0
      },
      "text/plain": [
       "Train:   0%|          | 0/98 [00:00<?, ?it/s]"
      ]
     },
     "metadata": {},
     "output_type": "display_data"
    },
    {
     "data": {
      "application/vnd.jupyter.widget-view+json": {
       "model_id": "",
       "version_major": 2,
       "version_minor": 0
      },
      "text/plain": [
       "Val:   0%|          | 0/16 [00:00<?, ?it/s]"
      ]
     },
     "metadata": {},
     "output_type": "display_data"
    },
    {
     "data": {
      "application/vnd.jupyter.widget-view+json": {
       "model_id": "",
       "version_major": 2,
       "version_minor": 0
      },
      "text/plain": [
       "Train:   0%|          | 0/98 [00:00<?, ?it/s]"
      ]
     },
     "metadata": {},
     "output_type": "display_data"
    },
    {
     "data": {
      "application/vnd.jupyter.widget-view+json": {
       "model_id": "",
       "version_major": 2,
       "version_minor": 0
      },
      "text/plain": [
       "Val:   0%|          | 0/16 [00:00<?, ?it/s]"
      ]
     },
     "metadata": {},
     "output_type": "display_data"
    },
    {
     "data": {
      "application/vnd.jupyter.widget-view+json": {
       "model_id": "",
       "version_major": 2,
       "version_minor": 0
      },
      "text/plain": [
       "Train:   0%|          | 0/98 [00:00<?, ?it/s]"
      ]
     },
     "metadata": {},
     "output_type": "display_data"
    },
    {
     "data": {
      "application/vnd.jupyter.widget-view+json": {
       "model_id": "",
       "version_major": 2,
       "version_minor": 0
      },
      "text/plain": [
       "Val:   0%|          | 0/16 [00:00<?, ?it/s]"
      ]
     },
     "metadata": {},
     "output_type": "display_data"
    },
    {
     "data": {
      "application/vnd.jupyter.widget-view+json": {
       "model_id": "",
       "version_major": 2,
       "version_minor": 0
      },
      "text/plain": [
       "Train:   0%|          | 0/98 [00:00<?, ?it/s]"
      ]
     },
     "metadata": {},
     "output_type": "display_data"
    },
    {
     "data": {
      "application/vnd.jupyter.widget-view+json": {
       "model_id": "",
       "version_major": 2,
       "version_minor": 0
      },
      "text/plain": [
       "Val:   0%|          | 0/16 [00:00<?, ?it/s]"
      ]
     },
     "metadata": {},
     "output_type": "display_data"
    },
    {
     "data": {
      "application/vnd.jupyter.widget-view+json": {
       "model_id": "",
       "version_major": 2,
       "version_minor": 0
      },
      "text/plain": [
       "Train:   0%|          | 0/98 [00:00<?, ?it/s]"
      ]
     },
     "metadata": {},
     "output_type": "display_data"
    },
    {
     "data": {
      "application/vnd.jupyter.widget-view+json": {
       "model_id": "",
       "version_major": 2,
       "version_minor": 0
      },
      "text/plain": [
       "Val:   0%|          | 0/16 [00:00<?, ?it/s]"
      ]
     },
     "metadata": {},
     "output_type": "display_data"
    },
    {
     "data": {
      "application/vnd.jupyter.widget-view+json": {
       "model_id": "",
       "version_major": 2,
       "version_minor": 0
      },
      "text/plain": [
       "Train:   0%|          | 0/98 [00:00<?, ?it/s]"
      ]
     },
     "metadata": {},
     "output_type": "display_data"
    },
    {
     "data": {
      "application/vnd.jupyter.widget-view+json": {
       "model_id": "",
       "version_major": 2,
       "version_minor": 0
      },
      "text/plain": [
       "Val:   0%|          | 0/16 [00:00<?, ?it/s]"
      ]
     },
     "metadata": {},
     "output_type": "display_data"
    },
    {
     "data": {
      "application/vnd.jupyter.widget-view+json": {
       "model_id": "",
       "version_major": 2,
       "version_minor": 0
      },
      "text/plain": [
       "Train:   0%|          | 0/98 [00:00<?, ?it/s]"
      ]
     },
     "metadata": {},
     "output_type": "display_data"
    },
    {
     "data": {
      "application/vnd.jupyter.widget-view+json": {
       "model_id": "",
       "version_major": 2,
       "version_minor": 0
      },
      "text/plain": [
       "Val:   0%|          | 0/16 [00:00<?, ?it/s]"
      ]
     },
     "metadata": {},
     "output_type": "display_data"
    },
    {
     "data": {
      "application/vnd.jupyter.widget-view+json": {
       "model_id": "",
       "version_major": 2,
       "version_minor": 0
      },
      "text/plain": [
       "Train:   0%|          | 0/98 [00:00<?, ?it/s]"
      ]
     },
     "metadata": {},
     "output_type": "display_data"
    },
    {
     "data": {
      "application/vnd.jupyter.widget-view+json": {
       "model_id": "",
       "version_major": 2,
       "version_minor": 0
      },
      "text/plain": [
       "Val:   0%|          | 0/16 [00:00<?, ?it/s]"
      ]
     },
     "metadata": {},
     "output_type": "display_data"
    },
    {
     "data": {
      "application/vnd.jupyter.widget-view+json": {
       "model_id": "",
       "version_major": 2,
       "version_minor": 0
      },
      "text/plain": [
       "Train:   0%|          | 0/98 [00:00<?, ?it/s]"
      ]
     },
     "metadata": {},
     "output_type": "display_data"
    },
    {
     "data": {
      "application/vnd.jupyter.widget-view+json": {
       "model_id": "",
       "version_major": 2,
       "version_minor": 0
      },
      "text/plain": [
       "Val:   0%|          | 0/16 [00:00<?, ?it/s]"
      ]
     },
     "metadata": {},
     "output_type": "display_data"
    },
    {
     "data": {
      "application/vnd.jupyter.widget-view+json": {
       "model_id": "",
       "version_major": 2,
       "version_minor": 0
      },
      "text/plain": [
       "Train:   0%|          | 0/98 [00:00<?, ?it/s]"
      ]
     },
     "metadata": {},
     "output_type": "display_data"
    },
    {
     "data": {
      "application/vnd.jupyter.widget-view+json": {
       "model_id": "",
       "version_major": 2,
       "version_minor": 0
      },
      "text/plain": [
       "Val:   0%|          | 0/16 [00:00<?, ?it/s]"
      ]
     },
     "metadata": {},
     "output_type": "display_data"
    },
    {
     "data": {
      "application/vnd.jupyter.widget-view+json": {
       "model_id": "",
       "version_major": 2,
       "version_minor": 0
      },
      "text/plain": [
       "Train:   0%|          | 0/98 [00:00<?, ?it/s]"
      ]
     },
     "metadata": {},
     "output_type": "display_data"
    },
    {
     "data": {
      "application/vnd.jupyter.widget-view+json": {
       "model_id": "",
       "version_major": 2,
       "version_minor": 0
      },
      "text/plain": [
       "Val:   0%|          | 0/16 [00:00<?, ?it/s]"
      ]
     },
     "metadata": {},
     "output_type": "display_data"
    },
    {
     "data": {
      "application/vnd.jupyter.widget-view+json": {
       "model_id": "",
       "version_major": 2,
       "version_minor": 0
      },
      "text/plain": [
       "Train:   0%|          | 0/98 [00:00<?, ?it/s]"
      ]
     },
     "metadata": {},
     "output_type": "display_data"
    },
    {
     "data": {
      "application/vnd.jupyter.widget-view+json": {
       "model_id": "",
       "version_major": 2,
       "version_minor": 0
      },
      "text/plain": [
       "Val:   0%|          | 0/16 [00:00<?, ?it/s]"
      ]
     },
     "metadata": {},
     "output_type": "display_data"
    },
    {
     "data": {
      "application/vnd.jupyter.widget-view+json": {
       "model_id": "",
       "version_major": 2,
       "version_minor": 0
      },
      "text/plain": [
       "Train:   0%|          | 0/98 [00:00<?, ?it/s]"
      ]
     },
     "metadata": {},
     "output_type": "display_data"
    },
    {
     "data": {
      "application/vnd.jupyter.widget-view+json": {
       "model_id": "",
       "version_major": 2,
       "version_minor": 0
      },
      "text/plain": [
       "Val:   0%|          | 0/16 [00:00<?, ?it/s]"
      ]
     },
     "metadata": {},
     "output_type": "display_data"
    }
   ],
   "source": [
    "from torch.utils.tensorboard import SummaryWriter\n",
    "from tqdm.auto import tqdm, trange\n",
    "\n",
    "\n",
    "writer = SummaryWriter()\n",
    "n_epochs = 15\n",
    "global_step = 0  # for writer\n",
    "for epoch in trange(n_epochs, desc=\"Epochs\"):\n",
    "    train_loss = 0\n",
    "    train_acc = 0\n",
    "    model.train()\n",
    "    for text, tags in tqdm(train_dataloader, desc=\"Train\", leave=False):\n",
    "        # YOUR CODE HERE\n",
    "        # Use model to get prediction and compute loss using criterion.\n",
    "        # After you've computed loss, zero gradients, run backprop and\n",
    "        # update model with optimizer.\n",
    "        text = text.to(device)\n",
    "        tags = tags.to(device)\n",
    "        \n",
    "        optimizer.zero_grad()\n",
    "                \n",
    "        pred = model(text)\n",
    "        \n",
    "        #predictions = [sent len, batch size, output dim]\n",
    "        #tags = [sent len, batch size]\n",
    "        \n",
    "        pred = pred.view(-1, pred.shape[-1])\n",
    "        tags = tags.view(-1)\n",
    "        \n",
    "        #predictions = [sent len * batch size, output dim]\n",
    "        #tags = [sent len * batch size]\n",
    "        \n",
    "        loss = criterion(pred, tags)\n",
    "        \n",
    "        loss.backward()\n",
    "        optimizer.step()\n",
    "\n",
    "        train_loss += loss.item()\n",
    "        train_acc += accuracy(pred, tags).item()\n",
    "        writer.add_scalar(\"Training/loss\", loss.item(), global_step)\n",
    "        global_step += 1\n",
    "\n",
    "    train_loss /= len(train_dataloader)\n",
    "    train_acc /= len(train_dataloader)\n",
    "    writer.add_scalar(\"Evaluation/train_loss\", train_loss, epoch)\n",
    "    writer.add_scalar(\"Evaluation/train_acc\", train_acc, epoch)\n",
    "\n",
    "    val_loss = 0\n",
    "    val_acc = 0\n",
    "    model.eval()\n",
    "    with torch.no_grad():\n",
    "        for text, tags in tqdm(val_dataloader, desc=\"Val\", leave=False):\n",
    "            # YOUR CODE HERE\n",
    "            # Once again compute model prediction and loss, but don't\n",
    "            # try and update model parameters with it.\n",
    "            # Just use it for model evaluation.\n",
    "            \n",
    "            text = text.to(device)\n",
    "            tags = tags.to(device)\n",
    "\n",
    "            pred = model(text)\n",
    "\n",
    "            #predictions = [sent len, batch size, output dim]\n",
    "            #tags = [sent len, batch size]\n",
    "\n",
    "            pred = pred.view(-1, pred.shape[-1])\n",
    "            tags = tags.view(-1)\n",
    "\n",
    "            loss = criterion(pred, tags)\n",
    "\n",
    "            val_loss += loss.item()\n",
    "            val_acc += accuracy(pred, tags).item()\n",
    "\n",
    "    val_loss /= len(val_dataloader)\n",
    "    val_acc /= len(val_dataloader)\n",
    "    writer.add_scalar(\"Evaluation/val_loss\", val_loss, epoch)\n",
    "    writer.add_scalar(\"Evaluation/val_acc\", val_acc, epoch)"
   ]
  },
  {
   "cell_type": "markdown",
   "metadata": {
    "id": "BFekLN_6ehuX"
   },
   "source": [
    "## Inference\n",
    "\n",
    "We should see validation accuracy around 90%, which looks pretty good. Let's see our model tag some actual sentences!\n",
    "\n",
    "We define a `tag_sentence` function that will:\n",
    "- put the model into evaluation mode\n",
    "- tokenize the sentence if it is not a list\n",
    "- lowercase the tokens\n",
    "- numericalize the tokens using the vocabulary\n",
    "- convert the numericalized tokens into a tensor and add a batch dimension\n",
    "- feed the tensor into the model\n",
    "- get the predictions over the sentence\n",
    "- convert the predictions into readable tags"
   ]
  },
  {
   "cell_type": "code",
   "execution_count": 239,
   "metadata": {
    "id": "L1x8bsx_ehuX"
   },
   "outputs": [],
   "source": [
    "from nltk.tokenize import WordPunctTokenizer\n",
    "\n",
    "\n",
    "tokenizer = WordPunctTokenizer()\n",
    "\n",
    "\n",
    "@torch.no_grad()\n",
    "def tag_sentence(sent, model):\n",
    "    if isinstance(sent, str):\n",
    "        tokens = tokenizer.tokenize(sent.lower())\n",
    "    else:\n",
    "        tokens = [token.lower() for token in sent]\n",
    "\n",
    "    encoded = [word_vocab[token] for token in tokens]\n",
    "    encoded = torch.tensor(encoded, device=device).unsqueeze(1)\n",
    "\n",
    "    model.eval()\n",
    "    pred = model(encoded).squeeze(1)\n",
    "    pred = pred.argmax(dim=1)\n",
    "    tag_itos = tag_vocab.get_itos()\n",
    "    pred_tags = [tag_itos[t.item()] for t in pred]\n",
    "    return tokens, pred_tags"
   ]
  },
  {
   "cell_type": "markdown",
   "metadata": {
    "id": "yAei5AvrehuX"
   },
   "source": [
    "We'll get an already tokenized example from the validation set and test our model's performance."
   ]
  },
  {
   "cell_type": "code",
   "execution_count": 242,
   "metadata": {
    "id": "j6DfrieMehuY"
   },
   "outputs": [
    {
     "name": "stdout",
     "output_type": "stream",
     "text": [
      "-----------------------------------------------------\n",
      "Pred. Tag\tActual Tag\tCorrect?\tToken\n",
      "-----------------------------------------------------\n",
      "DET\t\tDET\t\t✔\t\tthe\n",
      "NOUN\t\tNOUN\t\t✔\t\tsheikh\n",
      "ADP\t\tADP\t\t✔\t\tin\n",
      "NOUN\t\tNOUN\t\t✔\t\twheel\n",
      "PUNCT\t\tPUNCT\t\t✔\t\t-\n",
      "NOUN\t\tNOUN\t\t✔\t\tchair\n",
      "AUX\t\tAUX\t\t✔\t\thas\n",
      "AUX\t\tAUX\t\t✔\t\tbeen\n",
      "VERB\t\tVERB\t\t✔\t\tattacked\n",
      "ADP\t\tADP\t\t✔\t\twith\n",
      "DET\t\tDET\t\t✔\t\ta\n",
      "NOUN\t\tNOUN\t\t✔\t\tf\n",
      "SYM\t\tPUNCT\t\t✘\t\t-\n",
      "NUM\t\tNUM\t\t✔\t\t16\n",
      "PUNCT\t\tPUNCT\t\t✔\t\t-\n",
      "VERB\t\tVERB\t\t✔\t\tlaunched\n",
      "NOUN\t\tNOUN\t\t✔\t\tbomb\n",
      "PUNCT\t\tPUNCT\t\t✔\t\t.\n"
     ]
    }
   ],
   "source": [
    "example_idx = 5\n",
    "example_sent, example_tags, _ = val_data[example_idx]\n",
    "tokens, pred = tag_sentence(example_sent, model)\n",
    "\n",
    "print(\"-----------------------------------------------------\")\n",
    "print(\"Pred. Tag\\tActual Tag\\tCorrect?\\tToken\")\n",
    "print(\"-----------------------------------------------------\")\n",
    "for token, pred_tag, actual_tag in zip(tokens, pred, example_tags):\n",
    "    correct = \"✔\" if pred_tag == actual_tag else \"✘\"\n",
    "    print(f\"{pred_tag}\\t\\t{actual_tag}\\t\\t{correct}\\t\\t{token}\")"
   ]
  },
  {
   "cell_type": "markdown",
   "metadata": {
    "id": "ROYhmLepehuY"
   },
   "source": [
    "We can then check how well it did!\n",
    "\n",
    "Let's now make up our own sentence and see how well the model does."
   ]
  },
  {
   "cell_type": "code",
   "execution_count": 243,
   "metadata": {
    "id": "b0ocSTluehuZ"
   },
   "outputs": [
    {
     "name": "stdout",
     "output_type": "stream",
     "text": [
      "-------------------------\n",
      "Pred. Tag\tToken\n",
      "-------------------------\n",
      "DET\t\tthe\n",
      "NOUN\t\tqueen\n",
      "AUX\t\twill\n",
      "VERB\t\tdeliver\n",
      "DET\t\ta\n",
      "NOUN\t\tspeech\n",
      "ADP\t\tabout\n",
      "DET\t\tthe\n",
      "NOUN\t\tconflict\n",
      "ADP\t\tin\n",
      "ADV\t\tnorth\n",
      "VERB\t\tkorea\n",
      "ADP\t\tat\n",
      "PROPN\t\t1pm\n",
      "NOUN\t\ttomorrow\n",
      "PUNCT\t\t.\n"
     ]
    }
   ],
   "source": [
    "sent = \"The Queen will deliver a speech about the conflict in North Korea at 1pm tomorrow.\"\n",
    "tokens, tags = tag_sentence(sent, model)\n",
    "\n",
    "print(\"-------------------------\")\n",
    "print(\"Pred. Tag\\tToken\")\n",
    "print(\"-------------------------\")\n",
    "for token, tag in zip(tokens, tags):\n",
    "    print(f\"{tag}\\t\\t{token}\")"
   ]
  },
  {
   "cell_type": "markdown",
   "metadata": {
    "id": "bmxpmjC9ehuZ"
   },
   "source": [
    "We've now seen how to implement PoS tagging with PyTorch and torchtext! \n",
    "\n",
    "The BiLSTM isn't a state-of-the-art model, in terms of performance, but is a strong baseline for PoS tasks and is a good tool to have in your arsenal."
   ]
  },
  {
   "cell_type": "markdown",
   "metadata": {
    "id": "gE2RDGUvehuZ"
   },
   "source": [
    "## Going deeper\n",
    "What if we could combine word-level and char-level approaches?\n",
    "\n",
    "![title](https://i.postimg.cc/tT9hsBfj/ive-put-an-rnn-in-your-rnn-so-you-can-train-an-rnn-on-every-step-of-your-rnn-training-loop.jpg)\n",
    "\n",
    "\n",
    "Actually, we can. Let's use LSTM to generate embedding for every word on char-level.\n",
    "![title](https://guillaumegenthial.github.io/assets/char_representation.png)\n",
    "*Image source: https://guillaumegenthial.github.io/sequence-tagging-with-tensorflow.html*\n",
    "\n",
    "![title](https://guillaumegenthial.github.io/assets/bi-lstm.png)\n",
    "*Image source: https://guillaumegenthial.github.io/sequence-tagging-with-tensorflow.html*"
   ]
  },
  {
   "cell_type": "markdown",
   "metadata": {
    "id": "P7YRNqZYehuc"
   },
   "source": [
    "To do that we need to make few adjustments to the code we've written above.\n",
    "\n",
    "First of all, we would need a new vocabulary for the chars, which may sound redundant, but our dataset in fact contains quite a lot of non-latin characters, such as brackets and dashes and everything. We even need an `<unk>` token, because, apparently, validation dataset has the `/` character, whilst the training set doesn't."
   ]
  },
  {
   "cell_type": "code",
   "execution_count": 259,
   "metadata": {
    "id": "8FXp67nmeJZn"
   },
   "outputs": [
    {
     "name": "stdout",
     "output_type": "stream",
     "text": [
      "Unique tokens in char vocabulary: 112\n"
     ]
    }
   ],
   "source": [
    "char_counts = Counter()\n",
    "for text, _, _ in train_data:\n",
    "    for word in text:\n",
    "        char_counts.update(c for c in word)\n",
    "\n",
    "char_vocab = Vocab(char_counts)\n",
    "char_vocab.insert_token(\"<unk>\", 0)\n",
    "char_vocab.set_default_index(0)\n",
    "\n",
    "char_vocab.append_token(\"<bos>\")\n",
    "char_vocab.append_token(\"<eos>\")\n",
    "char_vocab.append_token(\"<pad>\")\n",
    "print(f\"Unique tokens in char vocabulary: {len(char_vocab)}\")"
   ]
  },
  {
   "cell_type": "markdown",
   "metadata": {
    "id": "BAbxEtUj8wNA"
   },
   "source": [
    "Note that we added the `<bos>` and `<eos>` tokens into the vocabulary. That has to do with a fact that we want our model to be able to distinguish the situation when it is in a middle of a word from the situation where it is the last character and we need to prepare the summarization.\n",
    "\n",
    "Once we're done collecting the vocabulary, we need to modify our `collate_fn`. We will use the old `collate_batch` to preprocess texts and tags for us and do the chars separately. The biggest challenge with chars is the fact that we need to deal with difference in words' lenghts as well as with difference in sentences' lengths and we need to deal with both simultaneously. The `pad_sequence` just won't cut it. For this I haven't found better solution than to pre-compute the resulting tensor size and create it before-hand. After that we do the second pass through our batch and fill our padded tensor with values. The code looks like this:"
   ]
  },
  {
   "cell_type": "code",
   "execution_count": 260,
   "metadata": {
    "id": "aNwlRypKeJX3"
   },
   "outputs": [
    {
     "data": {
      "text/plain": [
       "(torch.Size([86, 128]), torch.Size([86, 128]), torch.Size([68, 86, 128]))"
      ]
     },
     "execution_count": 260,
     "metadata": {},
     "output_type": "execute_result"
    }
   ],
   "source": [
    "def collate_batch_with_chars(batch):\n",
    "    texts_padded, tags_padded = collate_batch(batch)\n",
    "    max_text_len = texts_padded.shape[0]\n",
    "    max_word_len = 0\n",
    "    for text, _, _ in batch:\n",
    "        for word in text:\n",
    "            if len(word) > max_word_len:\n",
    "                max_word_len = len(word)\n",
    "\n",
    "    max_word_len += 2  # for <bos> and <eos>\n",
    "    chars_padded = torch.full(\n",
    "        (max_word_len, max_text_len, len(batch)), fill_value=char_vocab[\"<pad>\"]\n",
    "    )\n",
    "    for k, (text, _, _) in enumerate(batch):\n",
    "        for j, word in enumerate(text):\n",
    "            chars_padded[: len(word) + 2, j, k] = torch.tensor(\n",
    "                [char_vocab[\"<bos>\"]] + [char_vocab[c] for c in word] + [char_vocab[\"<eos>\"]]\n",
    "            )\n",
    "\n",
    "    return texts_padded, tags_padded, chars_padded\n",
    "\n",
    "\n",
    "train_dataloader = DataLoader(\n",
    "    train_data, batch_size, shuffle=True, collate_fn=collate_batch_with_chars\n",
    ")\n",
    "val_dataloader = DataLoader(val_data, batch_size, shuffle=True, collate_fn=collate_batch_with_chars)\n",
    "\n",
    "text, tags, chars = next(iter(train_dataloader))\n",
    "text.shape, tags.shape, chars.shape"
   ]
  },
  {
   "cell_type": "markdown",
   "metadata": {
    "id": "EFP0ULA2-K75"
   },
   "source": [
    "Now that we can load our data, we need to define our model. The model also resembles the `BiLSTMPOSTagger` a lot. However, there're differences, mainly instead of just one `Embedding` (and `LSTM`) layer we now have two, one for chars and one for words. To keep the competition fair, we init the second one with the same GloVe vectors. The `forward` method also gets a little bit more complicated: we now need to process the chars and concatenate the resulting hidden state to the word embeddings. But that's about it. Nothing too hard. Here it goes:"
   ]
  },
  {
   "cell_type": "code",
   "execution_count": 261,
   "metadata": {
    "id": "bT5QrsBgeJVX"
   },
   "outputs": [],
   "source": [
    "class BiLSTMPOSTaggerWithChars(nn.Module):\n",
    "    def __init__(\n",
    "        self,\n",
    "        n_chars,\n",
    "        char_emb_dim,\n",
    "        char_hid_dim,\n",
    "        word_vectors,\n",
    "        word_hid_dim,\n",
    "        n_tags,\n",
    "        n_layers,\n",
    "        dropout,\n",
    "    ):\n",
    "        super().__init__()\n",
    "\n",
    "        self.char_embedding = nn.Embedding(n_chars, char_emb_dim, padding_idx=char_vocab[\"<pad>\"])\n",
    "        self.char_lstm = nn.LSTM(char_emb_dim, char_hid_dim, bidirectional=True)\n",
    "\n",
    "        self.word_embedding = nn.Embedding.from_pretrained(\n",
    "            word_vectors, freeze=False, padding_idx=word_vocab[\"<pad>\"]\n",
    "        )\n",
    "        self.word_lstm = nn.LSTM(\n",
    "            word_vectors.shape[1] + 2 * char_hid_dim,\n",
    "            word_hid_dim,\n",
    "            n_layers,\n",
    "            bidirectional=True,\n",
    "            dropout=dropout,\n",
    "        )\n",
    "\n",
    "        self.fc = nn.Linear(2 * word_hid_dim, n_tags)\n",
    "        self.dropout = nn.Dropout(dropout)\n",
    "\n",
    "    def forward(self, text, chars):\n",
    "        # chars has a shape of [word_len, text_len, batch_size]\n",
    "        # text has a shape of [text_len, batch_size]\n",
    "        word_len, text_len, batch_size = chars.shape\n",
    "\n",
    "        # Integrate the text length into batch_size to compute\n",
    "        # all words with LSTM simultaneously.\n",
    "        chars = chars.view(word_len, -1)\n",
    "\n",
    "        chars_embedded = self.char_embedding(chars)\n",
    "        chars_embedded = self.dropout(chars_embedded)\n",
    "\n",
    "        # chars_embedded now has a shape of [word_len, text_len * batch_size, char_emb_dim]\n",
    "\n",
    "        # We take only hidden state, which is the last state for the\n",
    "        # LSTM pass in both directions.\n",
    "        _, (chars_hid, _) = self.char_lstm(chars_embedded)\n",
    "\n",
    "        # chars_hid has a shape of [text_len * batch_size, 2 * char_hid_dim].\n",
    "        # Let's \"unwrap\" our texts back:\n",
    "        chars_hid = chars_hid.view(text_len, batch_size, -1)\n",
    "\n",
    "        # Now we compute an embedding for the whole word, concatenate the\n",
    "        # character-based embedding and apply dropout.\n",
    "        word_embedded = self.word_embedding(text)\n",
    "        word_embedded = torch.cat([word_embedded, chars_hid], dim=2)\n",
    "        word_embedded = self.dropout(word_embedded)\n",
    "\n",
    "        # Now that we have our word_embedded tensor, we are ready to compute\n",
    "        # the LSTM outputs for it in order to predict POS tags from them.\n",
    "        outputs, _ = self.word_lstm(word_embedded)\n",
    "\n",
    "        # Now we apply the dropout and compute our final prediction.\n",
    "        outputs = self.dropout(outputs)\n",
    "        predictions = self.fc(outputs)\n",
    "\n",
    "        return predictions"
   ]
  },
  {
   "cell_type": "markdown",
   "metadata": {
    "id": "86bITSaaAOJy"
   },
   "source": [
    "Let's create our model, apply weights init and compute the number of parameters."
   ]
  },
  {
   "cell_type": "code",
   "execution_count": 262,
   "metadata": {
    "id": "M_hcfsRVysS2"
   },
   "outputs": [],
   "source": [
    "model = BiLSTMPOSTaggerWithChars(\n",
    "    len(char_vocab),\n",
    "    char_emb_dim=32,\n",
    "    char_hid_dim=32,\n",
    "    word_vectors=word_vectors,\n",
    "    word_hid_dim=128,\n",
    "    n_tags=len(tag_vocab),\n",
    "    n_layers=2,\n",
    "    dropout=0.25,\n",
    ").to(device)\n",
    "model.apply(init_weights);"
   ]
  },
  {
   "cell_type": "code",
   "execution_count": 263,
   "metadata": {
    "id": "McqGlY-veJP1"
   },
   "outputs": [
    {
     "name": "stdout",
     "output_type": "stream",
     "text": [
      "The model has 1,608,026 trainable parameters\n"
     ]
    }
   ],
   "source": [
    "print(f\"The model has {count_parameters(model):,} trainable parameters\")"
   ]
  },
  {
   "cell_type": "markdown",
   "metadata": {
    "id": "ywj5sTUCAdGk"
   },
   "source": [
    "Model has grown a little, but not too much as we set the all the char-related dims to be small.\n",
    "\n",
    "Finally, let's create the optimizer and train our model!"
   ]
  },
  {
   "cell_type": "code",
   "execution_count": 264,
   "metadata": {
    "id": "q3Rs_dpoeJNe"
   },
   "outputs": [],
   "source": [
    "optimizer = torch.optim.Adam(model.parameters())"
   ]
  },
  {
   "cell_type": "markdown",
   "metadata": {
    "id": "eTvdwPo4AviV"
   },
   "source": [
    "Because we did a good work of hiding the implementation details in our model, the training procedure doesn't differ much from the one we used to train the previous model. The only difference really is the third tensor we receive from dataloaders and the second parameter (third if you count `self`) in the `model.__call__` method. That's it!"
   ]
  },
  {
   "cell_type": "code",
   "execution_count": 265,
   "metadata": {
    "id": "0C9_lEO-eJLO"
   },
   "outputs": [
    {
     "data": {
      "application/vnd.jupyter.widget-view+json": {
       "model_id": "ec64b184dd3740f98c59f15165427e5d",
       "version_major": 2,
       "version_minor": 0
      },
      "text/plain": [
       "Epochs:   0%|          | 0/15 [00:00<?, ?it/s]"
      ]
     },
     "metadata": {},
     "output_type": "display_data"
    },
    {
     "data": {
      "application/vnd.jupyter.widget-view+json": {
       "model_id": "38c8798ed0aa429790c41f1c12150cb4",
       "version_major": 2,
       "version_minor": 0
      },
      "text/plain": [
       "Train:   0%|          | 0/98 [00:00<?, ?it/s]"
      ]
     },
     "metadata": {},
     "output_type": "display_data"
    },
    {
     "ename": "RuntimeError",
     "evalue": "CUDA out of memory. Tried to allocate 1.06 GiB (GPU 0; 4.00 GiB total capacity; 1.63 GiB already allocated; 154.79 MiB free; 2.65 GiB reserved in total by PyTorch) If reserved memory is >> allocated memory try setting max_split_size_mb to avoid fragmentation.  See documentation for Memory Management and PYTORCH_CUDA_ALLOC_CONF",
     "output_type": "error",
     "traceback": [
      "\u001b[1;31m---------------------------------------------------------------------------\u001b[0m",
      "\u001b[1;31mRuntimeError\u001b[0m                              Traceback (most recent call last)",
      "Input \u001b[1;32mIn [265]\u001b[0m, in \u001b[0;36m<cell line: 4>\u001b[1;34m()\u001b[0m\n\u001b[0;32m     14\u001b[0m loss \u001b[38;5;241m=\u001b[39m criterion(pred, tags)\n\u001b[0;32m     16\u001b[0m optimizer\u001b[38;5;241m.\u001b[39mzero_grad()\n\u001b[1;32m---> 17\u001b[0m \u001b[43mloss\u001b[49m\u001b[38;5;241;43m.\u001b[39;49m\u001b[43mbackward\u001b[49m\u001b[43m(\u001b[49m\u001b[43m)\u001b[49m\n\u001b[0;32m     18\u001b[0m optimizer\u001b[38;5;241m.\u001b[39mstep()\n\u001b[0;32m     20\u001b[0m train_loss \u001b[38;5;241m+\u001b[39m\u001b[38;5;241m=\u001b[39m loss\u001b[38;5;241m.\u001b[39mitem()\n",
      "File \u001b[1;32mC:\\ProgramData\\Anaconda3\\lib\\site-packages\\torch\\_tensor.py:363\u001b[0m, in \u001b[0;36mTensor.backward\u001b[1;34m(self, gradient, retain_graph, create_graph, inputs)\u001b[0m\n\u001b[0;32m    354\u001b[0m \u001b[38;5;28;01mif\u001b[39;00m has_torch_function_unary(\u001b[38;5;28mself\u001b[39m):\n\u001b[0;32m    355\u001b[0m     \u001b[38;5;28;01mreturn\u001b[39;00m handle_torch_function(\n\u001b[0;32m    356\u001b[0m         Tensor\u001b[38;5;241m.\u001b[39mbackward,\n\u001b[0;32m    357\u001b[0m         (\u001b[38;5;28mself\u001b[39m,),\n\u001b[1;32m   (...)\u001b[0m\n\u001b[0;32m    361\u001b[0m         create_graph\u001b[38;5;241m=\u001b[39mcreate_graph,\n\u001b[0;32m    362\u001b[0m         inputs\u001b[38;5;241m=\u001b[39minputs)\n\u001b[1;32m--> 363\u001b[0m \u001b[43mtorch\u001b[49m\u001b[38;5;241;43m.\u001b[39;49m\u001b[43mautograd\u001b[49m\u001b[38;5;241;43m.\u001b[39;49m\u001b[43mbackward\u001b[49m\u001b[43m(\u001b[49m\u001b[38;5;28;43mself\u001b[39;49m\u001b[43m,\u001b[49m\u001b[43m \u001b[49m\u001b[43mgradient\u001b[49m\u001b[43m,\u001b[49m\u001b[43m \u001b[49m\u001b[43mretain_graph\u001b[49m\u001b[43m,\u001b[49m\u001b[43m \u001b[49m\u001b[43mcreate_graph\u001b[49m\u001b[43m,\u001b[49m\u001b[43m \u001b[49m\u001b[43minputs\u001b[49m\u001b[38;5;241;43m=\u001b[39;49m\u001b[43minputs\u001b[49m\u001b[43m)\u001b[49m\n",
      "File \u001b[1;32mC:\\ProgramData\\Anaconda3\\lib\\site-packages\\torch\\autograd\\__init__.py:173\u001b[0m, in \u001b[0;36mbackward\u001b[1;34m(tensors, grad_tensors, retain_graph, create_graph, grad_variables, inputs)\u001b[0m\n\u001b[0;32m    168\u001b[0m     retain_graph \u001b[38;5;241m=\u001b[39m create_graph\n\u001b[0;32m    170\u001b[0m \u001b[38;5;66;03m# The reason we repeat same the comment below is that\u001b[39;00m\n\u001b[0;32m    171\u001b[0m \u001b[38;5;66;03m# some Python versions print out the first line of a multi-line function\u001b[39;00m\n\u001b[0;32m    172\u001b[0m \u001b[38;5;66;03m# calls in the traceback and some print out the last line\u001b[39;00m\n\u001b[1;32m--> 173\u001b[0m \u001b[43mVariable\u001b[49m\u001b[38;5;241;43m.\u001b[39;49m\u001b[43m_execution_engine\u001b[49m\u001b[38;5;241;43m.\u001b[39;49m\u001b[43mrun_backward\u001b[49m\u001b[43m(\u001b[49m\u001b[43m  \u001b[49m\u001b[38;5;66;43;03m# Calls into the C++ engine to run the backward pass\u001b[39;49;00m\n\u001b[0;32m    174\u001b[0m \u001b[43m    \u001b[49m\u001b[43mtensors\u001b[49m\u001b[43m,\u001b[49m\u001b[43m \u001b[49m\u001b[43mgrad_tensors_\u001b[49m\u001b[43m,\u001b[49m\u001b[43m \u001b[49m\u001b[43mretain_graph\u001b[49m\u001b[43m,\u001b[49m\u001b[43m \u001b[49m\u001b[43mcreate_graph\u001b[49m\u001b[43m,\u001b[49m\u001b[43m \u001b[49m\u001b[43minputs\u001b[49m\u001b[43m,\u001b[49m\n\u001b[0;32m    175\u001b[0m \u001b[43m    \u001b[49m\u001b[43mallow_unreachable\u001b[49m\u001b[38;5;241;43m=\u001b[39;49m\u001b[38;5;28;43;01mTrue\u001b[39;49;00m\u001b[43m,\u001b[49m\u001b[43m \u001b[49m\u001b[43maccumulate_grad\u001b[49m\u001b[38;5;241;43m=\u001b[39;49m\u001b[38;5;28;43;01mTrue\u001b[39;49;00m\u001b[43m)\u001b[49m\n",
      "\u001b[1;31mRuntimeError\u001b[0m: CUDA out of memory. Tried to allocate 1.06 GiB (GPU 0; 4.00 GiB total capacity; 1.63 GiB already allocated; 154.79 MiB free; 2.65 GiB reserved in total by PyTorch) If reserved memory is >> allocated memory try setting max_split_size_mb to avoid fragmentation.  See documentation for Memory Management and PYTORCH_CUDA_ALLOC_CONF"
     ]
    }
   ],
   "source": [
    "writer = SummaryWriter()\n",
    "n_epochs = 15\n",
    "global_step = 0  # for writer\n",
    "for epoch in trange(n_epochs, desc=\"Epochs\"):\n",
    "    train_loss = 0\n",
    "    train_acc = 0\n",
    "    model.train()\n",
    "    for text, tags, chars in tqdm(train_dataloader, desc=\"Train\", leave=False):\n",
    "        text, tags, chars = text.to(device), tags.to(device), chars.to(device)\n",
    "        pred = model(text, chars)\n",
    "        pred = pred.view(-1, pred.shape[-1])\n",
    "        tags = tags.view(-1)\n",
    "\n",
    "        loss = criterion(pred, tags)\n",
    "\n",
    "        optimizer.zero_grad()\n",
    "        loss.backward()\n",
    "        optimizer.step()\n",
    "\n",
    "        train_loss += loss.item()\n",
    "        train_acc += accuracy(pred, tags).item()\n",
    "        writer.add_scalar(\"Training/loss\", loss.item(), global_step)\n",
    "        global_step += 1\n",
    "\n",
    "    train_loss /= len(train_dataloader)\n",
    "    train_acc /= len(train_dataloader)\n",
    "    writer.add_scalar(\"Evaluation/train_loss\", train_loss, epoch)\n",
    "    writer.add_scalar(\"Evaluation/train_acc\", train_acc, epoch)\n",
    "\n",
    "    val_loss = 0\n",
    "    val_acc = 0\n",
    "    model.eval()\n",
    "    with torch.no_grad():\n",
    "        for text, tags, chars in tqdm(val_dataloader, desc=\"Val\", leave=False):\n",
    "            text, tags, chars = text.to(device), tags.to(device), chars.to(device)\n",
    "            pred = model(text, chars)\n",
    "            pred = pred.view(-1, pred.shape[-1])\n",
    "            tags = tags.view(-1)\n",
    "\n",
    "            val_loss += criterion(pred, tags).item()\n",
    "            val_acc += accuracy(pred, tags).item()\n",
    "\n",
    "    val_loss /= len(val_dataloader)\n",
    "    val_acc /= len(val_dataloader)\n",
    "    writer.add_scalar(\"Evaluation/val_loss\", val_loss, epoch)\n",
    "    writer.add_scalar(\"Evaluation/val_acc\", val_acc, epoch)"
   ]
  },
  {
   "cell_type": "markdown",
   "metadata": {
    "id": "ZBt6rx1fBPof"
   },
   "source": [
    "And we can observe the training progress using the same tensorboard. The plots you'll see will probably almost precisely repeat the previous run as the change we introduced is minimal and isn't a deal breaker in any sence, however, it is still cool that we can do something complicated like that with so little code and effort!"
   ]
  },
  {
   "cell_type": "code",
   "execution_count": null,
   "metadata": {
    "id": "ASmp1E_Cehue"
   },
   "outputs": [],
   "source": []
  }
 ],
 "metadata": {
  "accelerator": "GPU",
  "colab": {
   "collapsed_sections": [],
   "name": "practice_bilstm_for_pos_tagging_clean.ipynb",
   "provenance": []
  },
  "kernelspec": {
   "display_name": "Python 3 (ipykernel)",
   "language": "python",
   "name": "python3"
  },
  "language_info": {
   "codemirror_mode": {
    "name": "ipython",
    "version": 3
   },
   "file_extension": ".py",
   "mimetype": "text/x-python",
   "name": "python",
   "nbconvert_exporter": "python",
   "pygments_lexer": "ipython3",
   "version": "3.9.12"
  }
 },
 "nbformat": 4,
 "nbformat_minor": 4
}
